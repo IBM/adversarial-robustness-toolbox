{
 "cells": [
  {
   "cell_type": "markdown",
   "metadata": {},
   "source": [
    "# ASR DeepSpeech Examples\n",
    "\n",
    "This notebook demonstrates how to use the DeepSpeech estimator in ART as well as how to use the ASR imperceptible attack with the estimator.\n",
    "\n",
    "---\n",
    "\n",
    "## Preliminaries\n",
    "\n",
    "Before diving into the different steps necessary, we walk through some initial work steps ensuring that the notebook will work smoothly. We will \n",
    "\n",
    "1. set up a small configuration cell,\n",
    "2. check if the test data and pretrained model are available or otherwise download them\n",
    "3. define some necessary Python classes to handle the data.\n",
    "\n",
    "**Important note:** This notebook requires `torch==1.4.0`, `torchvision==0.5.0` and `torchaudio==0.4.0`."
   ]
  },
  {
   "cell_type": "code",
   "execution_count": null,
   "metadata": {},
   "outputs": [],
   "source": []
  }
 ],
 "metadata": {
  "kernelspec": {
   "display_name": "Python 3",
   "language": "python",
   "name": "python3"
  },
  "language_info": {
   "codemirror_mode": {
    "name": "ipython",
    "version": 3
   },
   "file_extension": ".py",
   "mimetype": "text/x-python",
   "name": "python",
   "nbconvert_exporter": "python",
   "pygments_lexer": "ipython3",
   "version": "3.6.10"
  }
 },
 "nbformat": 4,
 "nbformat_minor": 4
}

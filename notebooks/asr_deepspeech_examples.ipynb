{
 "cells": [
  {
   "cell_type": "markdown",
   "metadata": {},
   "source": [
    "# ASR DeepSpeech Examples\n",
    "\n",
    "This notebook demonstrates how to use the DeepSpeech estimator in ART as well as how to use the ASR imperceptible attack with the estimator.\n",
    "\n",
    "---\n"
   ]
  },
  {
   "cell_type": "markdown",
   "metadata": {},
   "source": [
    "## Preliminaries"
   ]
  },
  {
   "cell_type": "code",
   "execution_count": 1,
   "metadata": {},
   "outputs": [],
   "source": [
    "import os\n",
    "\n",
    "import numpy as np\n",
    "\n",
    "from art.estimators.speech_recognition.pytorch_deep_speech import PyTorchDeepSpeech\n",
    "from art.config import ART_DATA_PATH\n",
    "from art.utils import get_file\n",
    "\n",
    "\n",
    "# Set seed\n",
    "np.random.seed(1234)"
   ]
  },
  {
   "cell_type": "markdown",
   "metadata": {},
   "source": [
    "## Audio Data"
   ]
  },
  {
   "cell_type": "code",
   "execution_count": 2,
   "metadata": {},
   "outputs": [
    {
     "name": "stdout",
     "output_type": "stream",
     "text": [
      "/home/minhtn/.art/data/deepspeech_audio\n",
      "Skipping url: http://www.openslr.org/resources/12/train-clean-100.tar.gz\n",
      "Skipping url: http://www.openslr.org/resources/12/train-clean-360.tar.gz\n",
      "Skipping url: http://www.openslr.org/resources/12/train-other-500.tar.gz\n",
      "Sorting manifests...\n",
      "Pruning manifests between 1 and 15 seconds\n",
      "0it [00:00, ?it/s]\n",
      "\n",
      "\n",
      "Skipping url: http://www.openslr.org/resources/12/dev-clean.tar.gz\n",
      "Skipping url: http://www.openslr.org/resources/12/dev-other.tar.gz\n",
      "Sorting manifests...\n",
      "0it [00:00, ?it/s]\n",
      "\n",
      "\n",
      "100% [..................................................] 346663984 / 346663984Unpacking test-clean.tar.gz...\n",
      "Converting flac files to wav and extracting transcripts...\n",
      "129it [00:38,  3.37it/s]\n",
      "Finished http://www.openslr.org/resources/12/test-clean.tar.gz\n",
      "Sorting manifests...\n",
      "100%|████████████████████████████████████| 2620/2620 [00:00<00:00, 60201.58it/s]\n",
      "\n",
      "\n",
      "Skipping url: http://www.openslr.org/resources/12/test-other.tar.gz\n",
      "Sorting manifests...\n",
      "0it [00:00, ?it/s]\n",
      "\n",
      "\n",
      "/home/minhtn/ibm/projects/adversarial-robustness-toolbox/notebooks\n"
     ]
    }
   ],
   "source": [
    "# Prepare to download data\n",
    "data_dir = os.path.join(ART_DATA_PATH, \"deepspeech_audio\")\n",
    "current_dir = %pwd\n",
    "\n",
    "if not os.path.exists(data_dir):\n",
    "    os.makedirs(data_dir)\n",
    "\n",
    "# Download audio data\n",
    "get_file('librispeech.py', 'https://raw.githubusercontent.com/SeanNaren/deepspeech.pytorch/master/data/librispeech.py', path=data_dir)\n",
    "\n",
    "%cd $data_dir\n",
    "!python librispeech.py --files-to-use test-clean.tar.gz\n",
    "%cd $current_dir"
   ]
  },
  {
   "cell_type": "markdown",
   "metadata": {},
   "source": [
    "## The Estimator"
   ]
  },
  {
   "cell_type": "code",
   "execution_count": 3,
   "metadata": {},
   "outputs": [
    {
     "data": {
      "text/plain": [
       "'/home/minhtn/ibm/projects/adversarial-robustness-toolbox/notebooks'"
      ]
     },
     "execution_count": 3,
     "metadata": {},
     "output_type": "execute_result"
    }
   ],
   "source": [
    "current_dir"
   ]
  },
  {
   "cell_type": "code",
   "execution_count": null,
   "metadata": {},
   "outputs": [],
   "source": []
  },
  {
   "cell_type": "code",
   "execution_count": null,
   "metadata": {},
   "outputs": [],
   "source": []
  },
  {
   "cell_type": "code",
   "execution_count": null,
   "metadata": {},
   "outputs": [],
   "source": []
  },
  {
   "cell_type": "code",
   "execution_count": null,
   "metadata": {},
   "outputs": [],
   "source": [
    "current_dir"
   ]
  },
  {
   "cell_type": "code",
   "execution_count": null,
   "metadata": {},
   "outputs": [],
   "source": []
  }
 ],
 "metadata": {
  "kernelspec": {
   "display_name": "Python 3",
   "language": "python",
   "name": "python3"
  },
  "language_info": {
   "codemirror_mode": {
    "name": "ipython",
    "version": 3
   },
   "file_extension": ".py",
   "mimetype": "text/x-python",
   "name": "python",
   "nbconvert_exporter": "python",
   "pygments_lexer": "ipython3",
   "version": "3.6.10"
  }
 },
 "nbformat": 4,
 "nbformat_minor": 4
}

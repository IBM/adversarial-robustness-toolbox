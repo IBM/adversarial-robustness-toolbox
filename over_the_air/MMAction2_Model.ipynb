{
 "nbformat": 4,
 "nbformat_minor": 0,
 "metadata": {
  "colab": {
   "name": "MMAction2 Model",
   "provenance": [],
   "collapsed_sections": [],
   "toc_visible": true
  },
  "kernelspec": {
   "name": "python3",
   "display_name": "Python 3"
  },
  "accelerator": "GPU",
  "widgets": {
   "application/vnd.jupyter.widget-state+json": {
    "53f44acc51e14771b7afd0a682fa8246": {
     "model_module": "@jupyter-widgets/controls",
     "model_name": "HBoxModel",
     "state": {
      "_view_name": "HBoxView",
      "_dom_classes": [],
      "_model_name": "HBoxModel",
      "_view_module": "@jupyter-widgets/controls",
      "_model_module_version": "1.5.0",
      "_view_count": null,
      "_view_module_version": "1.5.0",
      "box_style": "",
      "layout": "IPY_MODEL_a52877ea63ef425eafa4aaa8f8f24b2a",
      "_model_module": "@jupyter-widgets/controls",
      "children": [
       "IPY_MODEL_fcf2a15a775049afa1d5c4482c5272e6",
       "IPY_MODEL_ce09c1d39b24466e8079f52680c6efcf"
      ]
     }
    },
    "a52877ea63ef425eafa4aaa8f8f24b2a": {
     "model_module": "@jupyter-widgets/base",
     "model_name": "LayoutModel",
     "state": {
      "_view_name": "LayoutView",
      "grid_template_rows": null,
      "right": null,
      "justify_content": null,
      "_view_module": "@jupyter-widgets/base",
      "overflow": null,
      "_model_module_version": "1.2.0",
      "_view_count": null,
      "flex_flow": null,
      "width": null,
      "min_width": null,
      "border": null,
      "align_items": null,
      "bottom": null,
      "_model_module": "@jupyter-widgets/base",
      "top": null,
      "grid_column": null,
      "overflow_y": null,
      "overflow_x": null,
      "grid_auto_flow": null,
      "grid_area": null,
      "grid_template_columns": null,
      "flex": null,
      "_model_name": "LayoutModel",
      "justify_items": null,
      "grid_row": null,
      "max_height": null,
      "align_content": null,
      "visibility": null,
      "align_self": null,
      "height": null,
      "min_height": null,
      "padding": null,
      "grid_auto_rows": null,
      "grid_gap": null,
      "max_width": null,
      "order": null,
      "_view_module_version": "1.2.0",
      "grid_template_areas": null,
      "object_position": null,
      "object_fit": null,
      "grid_auto_columns": null,
      "margin": null,
      "display": null,
      "left": null
     }
    },
    "fcf2a15a775049afa1d5c4482c5272e6": {
     "model_module": "@jupyter-widgets/controls",
     "model_name": "FloatProgressModel",
     "state": {
      "_view_name": "ProgressView",
      "style": "IPY_MODEL_6ff9837cca0f41cc91435eedf2f13e66",
      "_dom_classes": [],
      "description": "100%",
      "_model_name": "FloatProgressModel",
      "bar_style": "success",
      "max": 200,
      "_view_module": "@jupyter-widgets/controls",
      "_model_module_version": "1.5.0",
      "value": 200,
      "_view_count": null,
      "_view_module_version": "1.5.0",
      "orientation": "horizontal",
      "min": 0,
      "description_tooltip": null,
      "_model_module": "@jupyter-widgets/controls",
      "layout": "IPY_MODEL_6bd037bb94904e49a6c72ec9fa7a47a3"
     }
    },
    "ce09c1d39b24466e8079f52680c6efcf": {
     "model_module": "@jupyter-widgets/controls",
     "model_name": "HTMLModel",
     "state": {
      "_view_name": "HTMLView",
      "style": "IPY_MODEL_1f146c6a404c453baf2b2fbef190b0fc",
      "_dom_classes": [],
      "description": "",
      "_model_name": "HTMLModel",
      "placeholder": "​",
      "_view_module": "@jupyter-widgets/controls",
      "_model_module_version": "1.5.0",
      "value": " 200/200 [02:34&lt;00:00,  1.30it/s]",
      "_view_count": null,
      "_view_module_version": "1.5.0",
      "description_tooltip": null,
      "_model_module": "@jupyter-widgets/controls",
      "layout": "IPY_MODEL_998097c2406445369c924247250fffd2"
     }
    },
    "6ff9837cca0f41cc91435eedf2f13e66": {
     "model_module": "@jupyter-widgets/controls",
     "model_name": "ProgressStyleModel",
     "state": {
      "_view_name": "StyleView",
      "_model_name": "ProgressStyleModel",
      "description_width": "initial",
      "_view_module": "@jupyter-widgets/base",
      "_model_module_version": "1.5.0",
      "_view_count": null,
      "_view_module_version": "1.2.0",
      "bar_color": null,
      "_model_module": "@jupyter-widgets/controls"
     }
    },
    "6bd037bb94904e49a6c72ec9fa7a47a3": {
     "model_module": "@jupyter-widgets/base",
     "model_name": "LayoutModel",
     "state": {
      "_view_name": "LayoutView",
      "grid_template_rows": null,
      "right": null,
      "justify_content": null,
      "_view_module": "@jupyter-widgets/base",
      "overflow": null,
      "_model_module_version": "1.2.0",
      "_view_count": null,
      "flex_flow": null,
      "width": null,
      "min_width": null,
      "border": null,
      "align_items": null,
      "bottom": null,
      "_model_module": "@jupyter-widgets/base",
      "top": null,
      "grid_column": null,
      "overflow_y": null,
      "overflow_x": null,
      "grid_auto_flow": null,
      "grid_area": null,
      "grid_template_columns": null,
      "flex": null,
      "_model_name": "LayoutModel",
      "justify_items": null,
      "grid_row": null,
      "max_height": null,
      "align_content": null,
      "visibility": null,
      "align_self": null,
      "height": null,
      "min_height": null,
      "padding": null,
      "grid_auto_rows": null,
      "grid_gap": null,
      "max_width": null,
      "order": null,
      "_view_module_version": "1.2.0",
      "grid_template_areas": null,
      "object_position": null,
      "object_fit": null,
      "grid_auto_columns": null,
      "margin": null,
      "display": null,
      "left": null
     }
    },
    "1f146c6a404c453baf2b2fbef190b0fc": {
     "model_module": "@jupyter-widgets/controls",
     "model_name": "DescriptionStyleModel",
     "state": {
      "_view_name": "StyleView",
      "_model_name": "DescriptionStyleModel",
      "description_width": "",
      "_view_module": "@jupyter-widgets/base",
      "_model_module_version": "1.5.0",
      "_view_count": null,
      "_view_module_version": "1.2.0",
      "_model_module": "@jupyter-widgets/controls"
     }
    },
    "998097c2406445369c924247250fffd2": {
     "model_module": "@jupyter-widgets/base",
     "model_name": "LayoutModel",
     "state": {
      "_view_name": "LayoutView",
      "grid_template_rows": null,
      "right": null,
      "justify_content": null,
      "_view_module": "@jupyter-widgets/base",
      "overflow": null,
      "_model_module_version": "1.2.0",
      "_view_count": null,
      "flex_flow": null,
      "width": null,
      "min_width": null,
      "border": null,
      "align_items": null,
      "bottom": null,
      "_model_module": "@jupyter-widgets/base",
      "top": null,
      "grid_column": null,
      "overflow_y": null,
      "overflow_x": null,
      "grid_auto_flow": null,
      "grid_area": null,
      "grid_template_columns": null,
      "flex": null,
      "_model_name": "LayoutModel",
      "justify_items": null,
      "grid_row": null,
      "max_height": null,
      "align_content": null,
      "visibility": null,
      "align_self": null,
      "height": null,
      "min_height": null,
      "padding": null,
      "grid_auto_rows": null,
      "grid_gap": null,
      "max_width": null,
      "order": null,
      "_view_module_version": "1.2.0",
      "grid_template_areas": null,
      "object_position": null,
      "object_fit": null,
      "grid_auto_columns": null,
      "margin": null,
      "display": null,
      "left": null
     }
    }
   }
  }
 },
 "cells": [
  {
   "cell_type": "markdown",
   "metadata": {
    "id": "VcjSRFELVbNk"
   },
   "source": [
    "This originally was the MMAction2 Tutorial. I gutted it for our purposes"
   ]
  },
  {
   "cell_type": "code",
   "metadata": {
    "id": "Bf8PpPXtVvmg",
    "colab": {
     "base_uri": "https://localhost:8080/"
    },
    "outputId": "99ff1692-bd38-4587-8bfb-74a15e0c9af7"
   },
   "source": [
    "# Check nvcc version\n",
    "!nvcc -V\n",
    "# Check GCC version\n",
    "!gcc --version"
   ],
   "execution_count": 1,
   "outputs": [
    {
     "output_type": "stream",
     "text": [
      "nvcc: NVIDIA (R) Cuda compiler driver\n",
      "Copyright (c) 2005-2020 NVIDIA Corporation\n",
      "Built on Wed_Jul_22_19:09:09_PDT_2020\n",
      "Cuda compilation tools, release 11.0, V11.0.221\n",
      "Build cuda_11.0_bu.TC445_37.28845127_0\n",
      "gcc (Ubuntu 7.5.0-3ubuntu1~18.04) 7.5.0\n",
      "Copyright (C) 2017 Free Software Foundation, Inc.\n",
      "This is free software; see the source for copying conditions.  There is NO\n",
      "warranty; not even for MERCHANTABILITY or FITNESS FOR A PARTICULAR PURPOSE.\n",
      "\n"
     ],
     "name": "stdout"
    }
   ]
  },
  {
   "cell_type": "markdown",
   "metadata": {
    "collapsed": false,
    "pycharm": {
     "name": "#%% md\n"
    },
    "id": "PD_Twhir8n1H"
   },
   "source": [
    "# Load python modules needed\n",
    "\n",
    "Similar to how you do pip install a dependency when using your computer, you must install the python packages in colab. We will need to add the install of our fork to this as well."
   ]
  },
  {
   "cell_type": "code",
   "metadata": {
    "id": "5PAJ4ArzV5Ry",
    "colab": {
     "base_uri": "https://localhost:8080/"
    },
    "outputId": "15e7ab89-2001-4cbd-d7dd-e355c7dbcb38"
   },
   "source": [
    "# install dependencies: (use cu101 because colab has CUDA 10.1)\n",
    "!pip install -U torch==1.5.1+cu101 torchvision==0.6.1+cu101 -f https://download.pytorch.org/whl/torch_stable.html\n",
    "\n",
    "# install mmcv-full thus we could use CUDA operators\n",
    "!pip install mmcv-full==latest+torch1.5.0+cu101 -f https://download.openmmlab.com/mmcv/dist/index.html\n",
    "\n",
    "# Install mmaction2\n",
    "!rm -rf mmaction2\n",
    "!git clone https://github.com/open-mmlab/mmaction2.git\n",
    "%cd mmaction2\n",
    "\n",
    "!pip install -e .\n",
    "\n",
    "# Install some optional requirements\n",
    "!pip install -r requirements/optional.txt\n",
    "!ls"
   ],
   "execution_count": 2,
   "outputs": [
    {
     "output_type": "stream",
     "text": [
      "Looking in links: https://download.pytorch.org/whl/torch_stable.html\n",
      "Requirement already up-to-date: torch==1.5.1+cu101 in /usr/local/lib/python3.7/dist-packages (1.5.1+cu101)\n",
      "Requirement already up-to-date: torchvision==0.6.1+cu101 in /usr/local/lib/python3.7/dist-packages (0.6.1+cu101)\n",
      "Requirement already satisfied, skipping upgrade: future in /usr/local/lib/python3.7/dist-packages (from torch==1.5.1+cu101) (0.16.0)\n",
      "Requirement already satisfied, skipping upgrade: numpy in /usr/local/lib/python3.7/dist-packages (from torch==1.5.1+cu101) (1.19.5)\n",
      "Requirement already satisfied, skipping upgrade: pillow>=4.1.1 in /usr/local/lib/python3.7/dist-packages (from torchvision==0.6.1+cu101) (7.1.2)\n",
      "Looking in links: https://download.openmmlab.com/mmcv/dist/index.html\n",
      "Collecting mmcv-full==latest+torch1.5.0+cu101\n",
      "  Using cached https://download.openmmlab.com/mmcv/dist/1.3.0/torch1.5.0/cu101/mmcv_full-latest%2Btorch1.5.0%2Bcu101-cp37-cp37m-manylinux1_x86_64.whl\n",
      "Requirement already satisfied: pyyaml in /usr/local/lib/python3.7/dist-packages (from mmcv-full==latest+torch1.5.0+cu101) (3.13)\n",
      "Requirement already satisfied: numpy in /usr/local/lib/python3.7/dist-packages (from mmcv-full==latest+torch1.5.0+cu101) (1.19.5)\n",
      "Requirement already satisfied: opencv-python>=3 in /usr/local/lib/python3.7/dist-packages (from mmcv-full==latest+torch1.5.0+cu101) (4.1.2.30)\n",
      "Requirement already satisfied: Pillow in /usr/local/lib/python3.7/dist-packages (from mmcv-full==latest+torch1.5.0+cu101) (7.1.2)\n",
      "Requirement already satisfied: yapf in /usr/local/lib/python3.7/dist-packages (from mmcv-full==latest+torch1.5.0+cu101) (0.31.0)\n",
      "Requirement already satisfied: addict in /usr/local/lib/python3.7/dist-packages (from mmcv-full==latest+torch1.5.0+cu101) (2.4.0)\n",
      "Installing collected packages: mmcv-full\n",
      "  Found existing installation: mmcv-full 1.3.0\n",
      "    Uninstalling mmcv-full-1.3.0:\n",
      "      Successfully uninstalled mmcv-full-1.3.0\n",
      "Successfully installed mmcv-full-1.3.0\n",
      "Cloning into 'mmaction2'...\n",
      "remote: Enumerating objects: 139, done.\u001B[K\n",
      "remote: Counting objects: 100% (139/139), done.\u001B[K\n",
      "remote: Compressing objects: 100% (102/102), done.\u001B[K\n",
      "remote: Total 10158 (delta 66), reused 85 (delta 37), pack-reused 10019\u001B[K\n",
      "Receiving objects: 100% (10158/10158), 35.94 MiB | 25.51 MiB/s, done.\n",
      "Resolving deltas: 100% (7193/7193), done.\n",
      "/content/mmaction2\n",
      "Obtaining file:///content/mmaction2\n",
      "Requirement already satisfied: matplotlib in /usr/local/lib/python3.7/dist-packages (from mmaction2==0.13.0) (3.2.2)\n",
      "Requirement already satisfied: numpy in /usr/local/lib/python3.7/dist-packages (from mmaction2==0.13.0) (1.19.5)\n",
      "Requirement already satisfied: opencv-contrib-python in /usr/local/lib/python3.7/dist-packages (from mmaction2==0.13.0) (4.1.2.30)\n",
      "Requirement already satisfied: Pillow in /usr/local/lib/python3.7/dist-packages (from mmaction2==0.13.0) (7.1.2)\n",
      "Requirement already satisfied: cycler>=0.10 in /usr/local/lib/python3.7/dist-packages (from matplotlib->mmaction2==0.13.0) (0.10.0)\n",
      "Requirement already satisfied: python-dateutil>=2.1 in /usr/local/lib/python3.7/dist-packages (from matplotlib->mmaction2==0.13.0) (2.8.1)\n",
      "Requirement already satisfied: pyparsing!=2.0.4,!=2.1.2,!=2.1.6,>=2.0.1 in /usr/local/lib/python3.7/dist-packages (from matplotlib->mmaction2==0.13.0) (2.4.7)\n",
      "Requirement already satisfied: kiwisolver>=1.0.1 in /usr/local/lib/python3.7/dist-packages (from matplotlib->mmaction2==0.13.0) (1.3.1)\n",
      "Requirement already satisfied: six in /usr/local/lib/python3.7/dist-packages (from cycler>=0.10->matplotlib->mmaction2==0.13.0) (1.15.0)\n",
      "Installing collected packages: mmaction2\n",
      "  Found existing installation: mmaction2 0.13.0\n",
      "    Can't uninstall 'mmaction2'. No files were found to uninstall.\n",
      "  Running setup.py develop for mmaction2\n",
      "Successfully installed mmaction2\n",
      "Requirement already satisfied: av in /usr/local/lib/python3.7/dist-packages (from -r requirements/optional.txt (line 1)) (8.0.3)\n",
      "Requirement already satisfied: decord>=0.4.1 in /usr/local/lib/python3.7/dist-packages (from -r requirements/optional.txt (line 2)) (0.5.2)\n",
      "Requirement already satisfied: imgaug in /usr/local/lib/python3.7/dist-packages (from -r requirements/optional.txt (line 3)) (0.2.9)\n",
      "Requirement already satisfied: librosa in /usr/local/lib/python3.7/dist-packages (from -r requirements/optional.txt (line 4)) (0.8.0)\n",
      "Requirement already satisfied: lmdb in /usr/local/lib/python3.7/dist-packages (from -r requirements/optional.txt (line 5)) (0.99)\n",
      "Requirement already satisfied: moviepy in /usr/local/lib/python3.7/dist-packages (from -r requirements/optional.txt (line 6)) (0.2.3.5)\n",
      "Requirement already satisfied: onnx in /usr/local/lib/python3.7/dist-packages (from -r requirements/optional.txt (line 7)) (1.8.1)\n",
      "Requirement already satisfied: onnxruntime in /usr/local/lib/python3.7/dist-packages (from -r requirements/optional.txt (line 8)) (1.7.0)\n",
      "Requirement already satisfied: PyTurboJPEG in /usr/local/lib/python3.7/dist-packages (from -r requirements/optional.txt (line 9)) (1.4.1)\n",
      "Requirement already satisfied: numpy>=1.14.0 in /usr/local/lib/python3.7/dist-packages (from decord>=0.4.1->-r requirements/optional.txt (line 2)) (1.19.5)\n",
      "Requirement already satisfied: imageio in /usr/local/lib/python3.7/dist-packages (from imgaug->-r requirements/optional.txt (line 3)) (2.4.1)\n",
      "Requirement already satisfied: scipy in /usr/local/lib/python3.7/dist-packages (from imgaug->-r requirements/optional.txt (line 3)) (1.4.1)\n",
      "Requirement already satisfied: matplotlib in /usr/local/lib/python3.7/dist-packages (from imgaug->-r requirements/optional.txt (line 3)) (3.2.2)\n",
      "Requirement already satisfied: Shapely in /usr/local/lib/python3.7/dist-packages (from imgaug->-r requirements/optional.txt (line 3)) (1.7.1)\n",
      "Requirement already satisfied: opencv-python in /usr/local/lib/python3.7/dist-packages (from imgaug->-r requirements/optional.txt (line 3)) (4.1.2.30)\n",
      "Requirement already satisfied: six in /usr/local/lib/python3.7/dist-packages (from imgaug->-r requirements/optional.txt (line 3)) (1.15.0)\n",
      "Requirement already satisfied: scikit-image>=0.11.0 in /usr/local/lib/python3.7/dist-packages (from imgaug->-r requirements/optional.txt (line 3)) (0.16.2)\n",
      "Requirement already satisfied: Pillow in /usr/local/lib/python3.7/dist-packages (from imgaug->-r requirements/optional.txt (line 3)) (7.1.2)\n",
      "Requirement already satisfied: numba>=0.43.0 in /usr/local/lib/python3.7/dist-packages (from librosa->-r requirements/optional.txt (line 4)) (0.51.2)\n",
      "Requirement already satisfied: soundfile>=0.9.0 in /usr/local/lib/python3.7/dist-packages (from librosa->-r requirements/optional.txt (line 4)) (0.10.3.post1)\n",
      "Requirement already satisfied: pooch>=1.0 in /usr/local/lib/python3.7/dist-packages (from librosa->-r requirements/optional.txt (line 4)) (1.3.0)\n",
      "Requirement already satisfied: resampy>=0.2.2 in /usr/local/lib/python3.7/dist-packages (from librosa->-r requirements/optional.txt (line 4)) (0.2.2)\n",
      "Requirement already satisfied: scikit-learn!=0.19.0,>=0.14.0 in /usr/local/lib/python3.7/dist-packages (from librosa->-r requirements/optional.txt (line 4)) (0.22.2.post1)\n",
      "Requirement already satisfied: audioread>=2.0.0 in /usr/local/lib/python3.7/dist-packages (from librosa->-r requirements/optional.txt (line 4)) (2.1.9)\n",
      "Requirement already satisfied: joblib>=0.14 in /usr/local/lib/python3.7/dist-packages (from librosa->-r requirements/optional.txt (line 4)) (1.0.1)\n",
      "Requirement already satisfied: decorator>=3.0.0 in /usr/local/lib/python3.7/dist-packages (from librosa->-r requirements/optional.txt (line 4)) (4.4.2)\n",
      "Requirement already satisfied: tqdm<5.0,>=4.11.2 in /usr/local/lib/python3.7/dist-packages (from moviepy->-r requirements/optional.txt (line 6)) (4.41.1)\n",
      "Requirement already satisfied: protobuf in /usr/local/lib/python3.7/dist-packages (from onnx->-r requirements/optional.txt (line 7)) (3.12.4)\n",
      "Requirement already satisfied: typing-extensions>=3.6.2.1 in /usr/local/lib/python3.7/dist-packages (from onnx->-r requirements/optional.txt (line 7)) (3.7.4.3)\n",
      "Requirement already satisfied: kiwisolver>=1.0.1 in /usr/local/lib/python3.7/dist-packages (from matplotlib->imgaug->-r requirements/optional.txt (line 3)) (1.3.1)\n",
      "Requirement already satisfied: python-dateutil>=2.1 in /usr/local/lib/python3.7/dist-packages (from matplotlib->imgaug->-r requirements/optional.txt (line 3)) (2.8.1)\n",
      "Requirement already satisfied: cycler>=0.10 in /usr/local/lib/python3.7/dist-packages (from matplotlib->imgaug->-r requirements/optional.txt (line 3)) (0.10.0)\n",
      "Requirement already satisfied: pyparsing!=2.0.4,!=2.1.2,!=2.1.6,>=2.0.1 in /usr/local/lib/python3.7/dist-packages (from matplotlib->imgaug->-r requirements/optional.txt (line 3)) (2.4.7)\n",
      "Requirement already satisfied: PyWavelets>=0.4.0 in /usr/local/lib/python3.7/dist-packages (from scikit-image>=0.11.0->imgaug->-r requirements/optional.txt (line 3)) (1.1.1)\n",
      "Requirement already satisfied: networkx>=2.0 in /usr/local/lib/python3.7/dist-packages (from scikit-image>=0.11.0->imgaug->-r requirements/optional.txt (line 3)) (2.5)\n",
      "Requirement already satisfied: llvmlite<0.35,>=0.34.0.dev0 in /usr/local/lib/python3.7/dist-packages (from numba>=0.43.0->librosa->-r requirements/optional.txt (line 4)) (0.34.0)\n",
      "Requirement already satisfied: setuptools in /usr/local/lib/python3.7/dist-packages (from numba>=0.43.0->librosa->-r requirements/optional.txt (line 4)) (54.2.0)\n",
      "Requirement already satisfied: cffi>=1.0 in /usr/local/lib/python3.7/dist-packages (from soundfile>=0.9.0->librosa->-r requirements/optional.txt (line 4)) (1.14.5)\n",
      "Requirement already satisfied: appdirs in /usr/local/lib/python3.7/dist-packages (from pooch>=1.0->librosa->-r requirements/optional.txt (line 4)) (1.4.4)\n",
      "Requirement already satisfied: requests in /usr/local/lib/python3.7/dist-packages (from pooch>=1.0->librosa->-r requirements/optional.txt (line 4)) (2.23.0)\n",
      "Requirement already satisfied: packaging in /usr/local/lib/python3.7/dist-packages (from pooch>=1.0->librosa->-r requirements/optional.txt (line 4)) (20.9)\n",
      "Requirement already satisfied: pycparser in /usr/local/lib/python3.7/dist-packages (from cffi>=1.0->soundfile>=0.9.0->librosa->-r requirements/optional.txt (line 4)) (2.20)\n",
      "Requirement already satisfied: chardet<4,>=3.0.2 in /usr/local/lib/python3.7/dist-packages (from requests->pooch>=1.0->librosa->-r requirements/optional.txt (line 4)) (3.0.4)\n",
      "Requirement already satisfied: idna<3,>=2.5 in /usr/local/lib/python3.7/dist-packages (from requests->pooch>=1.0->librosa->-r requirements/optional.txt (line 4)) (2.10)\n",
      "Requirement already satisfied: certifi>=2017.4.17 in /usr/local/lib/python3.7/dist-packages (from requests->pooch>=1.0->librosa->-r requirements/optional.txt (line 4)) (2020.12.5)\n",
      "Requirement already satisfied: urllib3!=1.25.0,!=1.25.1,<1.26,>=1.21.1 in /usr/local/lib/python3.7/dist-packages (from requests->pooch>=1.0->librosa->-r requirements/optional.txt (line 4)) (1.24.3)\n",
      "configs  docs\t     mmaction\t\t README_zh-CN.md   setup.cfg  tools\n",
      "demo\t docs_zh_CN  mmaction2.egg-info  requirements\t   setup.py\n",
      "docker\t LICENSE     README.md\t\t requirements.txt  tests\n"
     ],
     "name": "stdout"
    }
   ]
  },
  {
   "cell_type": "code",
   "metadata": {
    "id": "No_zZAFpWC-a",
    "colab": {
     "base_uri": "https://localhost:8080/"
    },
    "outputId": "09d1530c-36ab-4dd6-a03f-6feed02cce7f"
   },
   "source": [
    "# Check Pytorch installation\n",
    "import torch, torchvision\n",
    "print(torch.__version__, torch.cuda.is_available())\n",
    "\n",
    "# Check MMAction2 installation\n",
    "import mmaction\n",
    "print(mmaction.__version__)\n",
    "\n",
    "# Check MMCV installation\n",
    "from mmcv.ops import get_compiling_cuda_version, get_compiler_version\n",
    "print(get_compiling_cuda_version())\n",
    "print(get_compiler_version())"
   ],
   "execution_count": 3,
   "outputs": [
    {
     "output_type": "stream",
     "text": [
      "1.5.1+cu101 True\n",
      "0.13.0\n",
      "10.1\n",
      "GCC 7.3\n"
     ],
     "name": "stdout"
    }
   ]
  },
  {
   "cell_type": "markdown",
   "metadata": {
    "id": "pXf7oV5DWdab"
   },
   "source": [
    "# Loading The Model From the Checkpoint\n",
    " "
   ]
  },
  {
   "cell_type": "code",
   "metadata": {
    "id": "64CW6d_AaT-Q",
    "colab": {
     "base_uri": "https://localhost:8080/"
    },
    "outputId": "276495b5-ad31-4515-e21c-21b9fe0e1cec"
   },
   "source": [
    "!mkdir checkpoints\n",
    "!wget -c https://download.openmmlab.com/mmaction/recognition/tsn/tsn_r50_1x1x3_100e_kinetics400_rgb/tsn_r50_1x1x3_100e_kinetics400_rgb_20200614-e508be42.pth \\\n",
    "      -O checkpoints/tsn_r50_1x1x3_100e_kinetics400_rgb_20200614-e508be42.pth"
   ],
   "execution_count": 4,
   "outputs": [
    {
     "output_type": "stream",
     "text": [
      "--2021-04-02 20:40:01--  https://download.openmmlab.com/mmaction/recognition/tsn/tsn_r50_1x1x3_100e_kinetics400_rgb/tsn_r50_1x1x3_100e_kinetics400_rgb_20200614-e508be42.pth\n",
      "Resolving download.openmmlab.com (download.openmmlab.com)... 47.75.20.25\n",
      "Connecting to download.openmmlab.com (download.openmmlab.com)|47.75.20.25|:443... connected.\n",
      "HTTP request sent, awaiting response... 200 OK\n",
      "Length: 97579339 (93M) [application/octet-stream]\n",
      "Saving to: ‘checkpoints/tsn_r50_1x1x3_100e_kinetics400_rgb_20200614-e508be42.pth’\n",
      "\n",
      "checkpoints/tsn_r50 100%[===================>]  93.06M  11.9MB/s    in 8.1s    \n",
      "\n",
      "2021-04-02 20:40:09 (11.5 MB/s) - ‘checkpoints/tsn_r50_1x1x3_100e_kinetics400_rgb_20200614-e508be42.pth’ saved [97579339/97579339]\n",
      "\n"
     ],
     "name": "stdout"
    }
   ]
  },
  {
   "cell_type": "code",
   "metadata": {
    "id": "HNZB7NoSabzj",
    "colab": {
     "base_uri": "https://localhost:8080/"
    },
    "outputId": "dbd20256-f579-472b-b189-98de737e6a85"
   },
   "source": [
    "from mmaction.apis import inference_recognizer, init_recognizer\n",
    "\n",
    "# Choose to use a config and initialize the recognizer\n",
    "config = 'configs/recognition/tsn/tsn_r50_video_inference_1x1x3_100e_kinetics400_rgb.py'\n",
    "# Setup a checkpoint file to load\n",
    "checkpoint = 'checkpoints/tsn_r50_1x1x3_100e_kinetics400_rgb_20200614-e508be42.pth'\n",
    "# Initialize the recognizer\n",
    "model = init_recognizer(config, checkpoint, device='cuda:0')"
   ],
   "execution_count": 5,
   "outputs": [
    {
     "output_type": "stream",
     "text": [
      "Use load_from_local loader\n"
     ],
     "name": "stdout"
    }
   ]
  },
  {
   "cell_type": "code",
   "metadata": {
    "id": "rEMsBnpHapAn"
   },
   "source": [
    "# Use the recognizer to do inference\n",
    "video = 'demo/demo.mp4'\n",
    "label = 'demo/label_map_k400.txt'\n",
    "results = inference_recognizer(model, video, label)"
   ],
   "execution_count": 6,
   "outputs": []
  },
  {
   "cell_type": "code",
   "metadata": {
    "id": "NIyJXqfWathq",
    "colab": {
     "base_uri": "https://localhost:8080/"
    },
    "outputId": "fb522f0b-1b10-4b65-bf0e-784a0a68ac50"
   },
   "source": [
    "# Let's show the results\n",
    "for result in results:\n",
    "    print(f'{result[0]}: ', result[1])"
   ],
   "execution_count": 7,
   "outputs": [
    {
     "output_type": "stream",
     "text": [
      "arm wrestling:  29.616438\n",
      "rock scissors paper:  10.75484\n",
      "shaking hands:  9.9084\n",
      "clapping:  9.189913\n",
      "massaging feet:  8.3053055\n"
     ],
     "name": "stdout"
    }
   ]
  },
  {
   "cell_type": "markdown",
   "metadata": {
    "id": "YOP9-bO2f8t5"
   },
   "source": [
    "# Loading the Data\n",
    "\n",
    "This is where the data is loaded, we will need to overwrite this part and add in our data. This can either be the functions to sample and download the files OR it can be a link to a dropbox, Google drive, or other type of file hosting thing.\n",
    "\n",
    "We will also need to make sure our code outputs the same file structure that they do in the subsection \"Their Labels Format\""
   ]
  },
  {
   "cell_type": "code",
   "metadata": {
    "id": "gjsUj9JzgUlJ",
    "colab": {
     "base_uri": "https://localhost:8080/"
    },
    "outputId": "d3f5852e-3a00-4405-8b5f-16dfc7c7b495"
   },
   "source": [
    "# download, decompress the data\n",
    "!rm kinetics400_tiny.zip*\n",
    "!rm -rf kinetics400_tiny\n",
    "!wget https://download.openmmlab.com/mmaction/kinetics400_tiny.zip\n",
    "!unzip kinetics400_tiny.zip > /dev/null"
   ],
   "execution_count": 8,
   "outputs": [
    {
     "output_type": "stream",
     "text": [
      "rm: cannot remove 'kinetics400_tiny.zip*': No such file or directory\n",
      "--2021-04-02 20:40:15--  https://download.openmmlab.com/mmaction/kinetics400_tiny.zip\n",
      "Resolving download.openmmlab.com (download.openmmlab.com)... 47.75.20.25\n",
      "Connecting to download.openmmlab.com (download.openmmlab.com)|47.75.20.25|:443... connected.\n",
      "HTTP request sent, awaiting response... 200 OK\n",
      "Length: 18308682 (17M) [application/zip]\n",
      "Saving to: ‘kinetics400_tiny.zip’\n",
      "\n",
      "kinetics400_tiny.zi 100%[===================>]  17.46M  14.0MB/s    in 1.2s    \n",
      "\n",
      "2021-04-02 20:40:16 (14.0 MB/s) - ‘kinetics400_tiny.zip’ saved [18308682/18308682]\n",
      "\n"
     ],
     "name": "stdout"
    }
   ]
  },
  {
   "cell_type": "code",
   "metadata": {
    "id": "AbZ-o7V6hNw4",
    "colab": {
     "base_uri": "https://localhost:8080/"
    },
    "outputId": "9df81ca9-be0b-4bc4-bb98-c9707dde0e60"
   },
   "source": [
    "# Check the directory structure of the tiny data\n",
    "\n",
    "# Install tree first\n",
    "!apt-get -q install tree\n",
    "!tree kinetics400_tiny"
   ],
   "execution_count": 9,
   "outputs": [
    {
     "output_type": "stream",
     "text": [
      "Reading package lists...\n",
      "Building dependency tree...\n",
      "Reading state information...\n",
      "tree is already the newest version (1.7.0-5).\n",
      "0 upgraded, 0 newly installed, 0 to remove and 30 not upgraded.\n",
      "kinetics400_tiny\n",
      "├── kinetics_tiny_train_video.txt\n",
      "├── kinetics_tiny_val_video.txt\n",
      "├── train\n",
      "│   ├── 27_CSXByd3s.mp4\n",
      "│   ├── 34XczvTaRiI.mp4\n",
      "│   ├── A-wiliK50Zw.mp4\n",
      "│   ├── D32_1gwq35E.mp4\n",
      "│   ├── D92m0HsHjcQ.mp4\n",
      "│   ├── DbX8mPslRXg.mp4\n",
      "│   ├── FMlSTTpN3VY.mp4\n",
      "│   ├── h10B9SVE-nk.mp4\n",
      "│   ├── h2YqqUhnR34.mp4\n",
      "│   ├── iRuyZSKhHRg.mp4\n",
      "│   ├── IyfILH9lBRo.mp4\n",
      "│   ├── kFC3KY2bOP8.mp4\n",
      "│   ├── LvcFDgCAXQs.mp4\n",
      "│   ├── O46YA8tI530.mp4\n",
      "│   ├── oMrZaozOvdQ.mp4\n",
      "│   ├── oXy-e_P_cAI.mp4\n",
      "│   ├── P5M-hAts7MQ.mp4\n",
      "│   ├── phDqGd0NKoo.mp4\n",
      "│   ├── PnOe3GZRVX8.mp4\n",
      "│   ├── R8HXQkdgKWA.mp4\n",
      "│   ├── RqnKtCEoEcA.mp4\n",
      "│   ├── soEcZZsBmDs.mp4\n",
      "│   ├── TkkZPZHbAKA.mp4\n",
      "│   ├── T_TMNGzVrDk.mp4\n",
      "│   ├── WaS0qwP46Us.mp4\n",
      "│   ├── Wh_YPQdH1Zg.mp4\n",
      "│   ├── WWP5HZJsg-o.mp4\n",
      "│   ├── xGY2dP0YUjA.mp4\n",
      "│   ├── yLC9CtWU5ws.mp4\n",
      "│   └── ZQV4U2KQ370.mp4\n",
      "└── val\n",
      "    ├── 0pVGiAU6XEA.mp4\n",
      "    ├── AQrbRSnRt8M.mp4\n",
      "    ├── b6Q_b7vgc7Q.mp4\n",
      "    ├── ddvJ6-faICE.mp4\n",
      "    ├── IcLztCtvhb8.mp4\n",
      "    ├── ik4BW3-SCts.mp4\n",
      "    ├── jqRrH30V0k4.mp4\n",
      "    ├── SU_x2LQqSLs.mp4\n",
      "    ├── u4Rm6srmIS8.mp4\n",
      "    └── y5Iu7XkTqV0.mp4\n",
      "\n",
      "2 directories, 42 files\n"
     ],
     "name": "stdout"
    }
   ]
  },
  {
   "cell_type": "markdown",
   "metadata": {
    "id": "WRyJbHybRflo"
   },
   "source": [
    "## Their Labels Format\n",
    "\n",
    "We can either format our data like this, OR we can adjust the config to handle whatever format we want."
   ]
  },
  {
   "cell_type": "code",
   "metadata": {
    "id": "fTdi6dI0hY3g",
    "colab": {
     "base_uri": "https://localhost:8080/"
    },
    "outputId": "99173868-f1ec-4921-d705-73338fceeba3"
   },
   "source": [
    "# After downloading the data, we need to check the annotation format\n",
    "!cat kinetics400_tiny/kinetics_tiny_train_video.txt"
   ],
   "execution_count": 10,
   "outputs": [
    {
     "output_type": "stream",
     "text": [
      "D32_1gwq35E.mp4 0\n",
      "iRuyZSKhHRg.mp4 1\n",
      "oXy-e_P_cAI.mp4 0\n",
      "34XczvTaRiI.mp4 1\n",
      "h2YqqUhnR34.mp4 0\n",
      "O46YA8tI530.mp4 0\n",
      "kFC3KY2bOP8.mp4 1\n",
      "WWP5HZJsg-o.mp4 1\n",
      "phDqGd0NKoo.mp4 1\n",
      "yLC9CtWU5ws.mp4 0\n",
      "27_CSXByd3s.mp4 1\n",
      "IyfILH9lBRo.mp4 1\n",
      "T_TMNGzVrDk.mp4 1\n",
      "TkkZPZHbAKA.mp4 0\n",
      "PnOe3GZRVX8.mp4 1\n",
      "soEcZZsBmDs.mp4 1\n",
      "FMlSTTpN3VY.mp4 1\n",
      "WaS0qwP46Us.mp4 0\n",
      "A-wiliK50Zw.mp4 1\n",
      "oMrZaozOvdQ.mp4 1\n",
      "ZQV4U2KQ370.mp4 0\n",
      "DbX8mPslRXg.mp4 1\n",
      "h10B9SVE-nk.mp4 1\n",
      "P5M-hAts7MQ.mp4 0\n",
      "R8HXQkdgKWA.mp4 0\n",
      "D92m0HsHjcQ.mp4 0\n",
      "RqnKtCEoEcA.mp4 0\n",
      "LvcFDgCAXQs.mp4 0\n",
      "xGY2dP0YUjA.mp4 0\n",
      "Wh_YPQdH1Zg.mp4 0\n"
     ],
     "name": "stdout"
    }
   ]
  },
  {
   "cell_type": "markdown",
   "metadata": {
    "id": "0bq0mxmEi29H"
   },
   "source": [
    "According to the format defined in [`VideoDataset`](./datasets/video_dataset.py), each line indicates a sample video with the filepath and label, which are split with a whitespace."
   ]
  },
  {
   "cell_type": "markdown",
   "metadata": {
    "id": "Ht_DGJA9jQar"
   },
   "source": [
    "# Load/Modify the config of the model"
   ]
  },
  {
   "cell_type": "code",
   "metadata": {
    "id": "LjCcmCKOjktc"
   },
   "source": [
    "from mmcv import Config\n",
    "cfg = Config.fromfile('./configs/recognition/tsn/tsn_r50_video_1x1x8_100e_kinetics400_rgb.py')"
   ],
   "execution_count": 11,
   "outputs": []
  },
  {
   "cell_type": "markdown",
   "metadata": {
    "id": "tc8YhFFGjp3e"
   },
   "source": [
    "Modify the config loaded in previous cell for the task. The only things we need to change are the paths to the data.\n"
   ]
  },
  {
   "cell_type": "code",
   "metadata": {
    "id": "tlhu9byjjt-K",
    "colab": {
     "base_uri": "https://localhost:8080/"
    },
    "outputId": "7749bb29-411a-446c-8a81-a1c21d76807d"
   },
   "source": [
    "from mmcv.runner import set_random_seed\n",
    "\n",
    "# Modify dataset type and path\n",
    "cfg.dataset_type = 'VideoDataset'\n",
    "cfg.data_root = 'kinetics400_tiny/train/'\n",
    "cfg.data_root_val = 'kinetics400_tiny/val/'\n",
    "cfg.ann_file_train = 'kinetics400_tiny/kinetics_tiny_train_video.txt'\n",
    "cfg.ann_file_val = 'kinetics400_tiny/kinetics_tiny_val_video.txt'\n",
    "cfg.ann_file_test = 'kinetics400_tiny/kinetics_tiny_val_video.txt'\n",
    "\n",
    "cfg.data.test.type = 'VideoDataset'\n",
    "cfg.data.test.ann_file = 'kinetics400_tiny/kinetics_tiny_val_video.txt'\n",
    "cfg.data.test.data_prefix = 'kinetics400_tiny/val/'\n",
    "\n",
    "cfg.data.train.type = 'VideoDataset'\n",
    "cfg.data.train.ann_file = 'kinetics400_tiny/kinetics_tiny_train_video.txt'\n",
    "cfg.data.train.data_prefix = 'kinetics400_tiny/train/'\n",
    "\n",
    "cfg.data.val.type = 'VideoDataset'\n",
    "cfg.data.val.ann_file = 'kinetics400_tiny/kinetics_tiny_val_video.txt'\n",
    "cfg.data.val.data_prefix = 'kinetics400_tiny/val/'\n",
    "\n",
    "# The flag is used to determine whether it is omnisource training\n",
    "cfg.setdefault('omnisource', False)\n",
    "# Modify num classes of the model in cls_head\n",
    "cfg.model.cls_head.num_classes = 2\n",
    "# We can use the pre-trained TSN model\n",
    "cfg.load_from = './checkpoints/tsn_r50_1x1x3_100e_kinetics400_rgb_20200614-e508be42.pth'\n",
    "\n",
    "# Set up working dir to save files and logs.\n",
    "cfg.work_dir = './tutorial_exps'\n",
    "\n",
    "# The original learning rate (LR) is set for 8-GPU training.\n",
    "# We divide it by 8 since we only use one GPU.\n",
    "cfg.data.videos_per_gpu = cfg.data.videos_per_gpu // 16\n",
    "cfg.optimizer.lr = cfg.optimizer.lr / 8 / 16\n",
    "cfg.total_epochs = 30\n",
    "\n",
    "# We can set the checkpoint saving interval to reduce the storage cost\n",
    "cfg.checkpoint_config.interval = 10\n",
    "# We can set the log print interval to reduce the the times of printing log\n",
    "cfg.log_config.interval = 5\n",
    "\n",
    "# Set seed thus the results are more reproducible\n",
    "cfg.seed = 0\n",
    "set_random_seed(0, deterministic=False)\n",
    "cfg.gpu_ids = range(1)\n",
    "\n",
    "\n",
    "# We can initialize the logger for training and have a look\n",
    "# at the final config used for training\n",
    "print(f'Config:\\n{cfg.pretty_text}')\n"
   ],
   "execution_count": 12,
   "outputs": [
    {
     "output_type": "stream",
     "text": [
      "Config:\n",
      "model = dict(\n",
      "    type='Recognizer2D',\n",
      "    backbone=dict(\n",
      "        type='ResNet',\n",
      "        pretrained='torchvision://resnet50',\n",
      "        depth=50,\n",
      "        norm_eval=False),\n",
      "    cls_head=dict(\n",
      "        type='TSNHead',\n",
      "        num_classes=2,\n",
      "        in_channels=2048,\n",
      "        spatial_type='avg',\n",
      "        consensus=dict(type='AvgConsensus', dim=1),\n",
      "        dropout_ratio=0.4,\n",
      "        init_std=0.01),\n",
      "    train_cfg=None,\n",
      "    test_cfg=dict(average_clips=None))\n",
      "optimizer = dict(type='SGD', lr=7.8125e-05, momentum=0.9, weight_decay=0.0001)\n",
      "optimizer_config = dict(grad_clip=dict(max_norm=40, norm_type=2))\n",
      "lr_config = dict(policy='step', step=[40, 80])\n",
      "total_epochs = 30\n",
      "checkpoint_config = dict(interval=10)\n",
      "log_config = dict(interval=5, hooks=[dict(type='TextLoggerHook')])\n",
      "dist_params = dict(backend='nccl')\n",
      "log_level = 'INFO'\n",
      "load_from = './checkpoints/tsn_r50_1x1x3_100e_kinetics400_rgb_20200614-e508be42.pth'\n",
      "resume_from = None\n",
      "workflow = [('train', 1)]\n",
      "dataset_type = 'VideoDataset'\n",
      "data_root = 'kinetics400_tiny/train/'\n",
      "data_root_val = 'kinetics400_tiny/val/'\n",
      "ann_file_train = 'kinetics400_tiny/kinetics_tiny_train_video.txt'\n",
      "ann_file_val = 'kinetics400_tiny/kinetics_tiny_val_video.txt'\n",
      "ann_file_test = 'kinetics400_tiny/kinetics_tiny_val_video.txt'\n",
      "img_norm_cfg = dict(\n",
      "    mean=[123.675, 116.28, 103.53], std=[58.395, 57.12, 57.375], to_bgr=False)\n",
      "train_pipeline = [\n",
      "    dict(type='DecordInit'),\n",
      "    dict(type='SampleFrames', clip_len=1, frame_interval=1, num_clips=8),\n",
      "    dict(type='DecordDecode'),\n",
      "    dict(\n",
      "        type='MultiScaleCrop',\n",
      "        input_size=224,\n",
      "        scales=(1, 0.875, 0.75, 0.66),\n",
      "        random_crop=False,\n",
      "        max_wh_scale_gap=1),\n",
      "    dict(type='Resize', scale=(224, 224), keep_ratio=False),\n",
      "    dict(type='Flip', flip_ratio=0.5),\n",
      "    dict(\n",
      "        type='Normalize',\n",
      "        mean=[123.675, 116.28, 103.53],\n",
      "        std=[58.395, 57.12, 57.375],\n",
      "        to_bgr=False),\n",
      "    dict(type='FormatShape', input_format='NCHW'),\n",
      "    dict(type='Collect', keys=['imgs', 'label'], meta_keys=[]),\n",
      "    dict(type='ToTensor', keys=['imgs', 'label'])\n",
      "]\n",
      "val_pipeline = [\n",
      "    dict(type='DecordInit'),\n",
      "    dict(\n",
      "        type='SampleFrames',\n",
      "        clip_len=1,\n",
      "        frame_interval=1,\n",
      "        num_clips=8,\n",
      "        test_mode=True),\n",
      "    dict(type='DecordDecode'),\n",
      "    dict(type='Resize', scale=(-1, 256)),\n",
      "    dict(type='CenterCrop', crop_size=224),\n",
      "    dict(type='Flip', flip_ratio=0),\n",
      "    dict(\n",
      "        type='Normalize',\n",
      "        mean=[123.675, 116.28, 103.53],\n",
      "        std=[58.395, 57.12, 57.375],\n",
      "        to_bgr=False),\n",
      "    dict(type='FormatShape', input_format='NCHW'),\n",
      "    dict(type='Collect', keys=['imgs', 'label'], meta_keys=[]),\n",
      "    dict(type='ToTensor', keys=['imgs'])\n",
      "]\n",
      "test_pipeline = [\n",
      "    dict(type='DecordInit'),\n",
      "    dict(\n",
      "        type='SampleFrames',\n",
      "        clip_len=1,\n",
      "        frame_interval=1,\n",
      "        num_clips=25,\n",
      "        test_mode=True),\n",
      "    dict(type='DecordDecode'),\n",
      "    dict(type='Resize', scale=(-1, 256)),\n",
      "    dict(type='ThreeCrop', crop_size=256),\n",
      "    dict(type='Flip', flip_ratio=0),\n",
      "    dict(\n",
      "        type='Normalize',\n",
      "        mean=[123.675, 116.28, 103.53],\n",
      "        std=[58.395, 57.12, 57.375],\n",
      "        to_bgr=False),\n",
      "    dict(type='FormatShape', input_format='NCHW'),\n",
      "    dict(type='Collect', keys=['imgs', 'label'], meta_keys=[]),\n",
      "    dict(type='ToTensor', keys=['imgs'])\n",
      "]\n",
      "data = dict(\n",
      "    videos_per_gpu=2,\n",
      "    workers_per_gpu=4,\n",
      "    train=dict(\n",
      "        type='VideoDataset',\n",
      "        ann_file='kinetics400_tiny/kinetics_tiny_train_video.txt',\n",
      "        data_prefix='kinetics400_tiny/train/',\n",
      "        pipeline=[\n",
      "            dict(type='DecordInit'),\n",
      "            dict(\n",
      "                type='SampleFrames', clip_len=1, frame_interval=1,\n",
      "                num_clips=8),\n",
      "            dict(type='DecordDecode'),\n",
      "            dict(\n",
      "                type='MultiScaleCrop',\n",
      "                input_size=224,\n",
      "                scales=(1, 0.875, 0.75, 0.66),\n",
      "                random_crop=False,\n",
      "                max_wh_scale_gap=1),\n",
      "            dict(type='Resize', scale=(224, 224), keep_ratio=False),\n",
      "            dict(type='Flip', flip_ratio=0.5),\n",
      "            dict(\n",
      "                type='Normalize',\n",
      "                mean=[123.675, 116.28, 103.53],\n",
      "                std=[58.395, 57.12, 57.375],\n",
      "                to_bgr=False),\n",
      "            dict(type='FormatShape', input_format='NCHW'),\n",
      "            dict(type='Collect', keys=['imgs', 'label'], meta_keys=[]),\n",
      "            dict(type='ToTensor', keys=['imgs', 'label'])\n",
      "        ]),\n",
      "    val=dict(\n",
      "        type='VideoDataset',\n",
      "        ann_file='kinetics400_tiny/kinetics_tiny_val_video.txt',\n",
      "        data_prefix='kinetics400_tiny/val/',\n",
      "        pipeline=[\n",
      "            dict(type='DecordInit'),\n",
      "            dict(\n",
      "                type='SampleFrames',\n",
      "                clip_len=1,\n",
      "                frame_interval=1,\n",
      "                num_clips=8,\n",
      "                test_mode=True),\n",
      "            dict(type='DecordDecode'),\n",
      "            dict(type='Resize', scale=(-1, 256)),\n",
      "            dict(type='CenterCrop', crop_size=224),\n",
      "            dict(type='Flip', flip_ratio=0),\n",
      "            dict(\n",
      "                type='Normalize',\n",
      "                mean=[123.675, 116.28, 103.53],\n",
      "                std=[58.395, 57.12, 57.375],\n",
      "                to_bgr=False),\n",
      "            dict(type='FormatShape', input_format='NCHW'),\n",
      "            dict(type='Collect', keys=['imgs', 'label'], meta_keys=[]),\n",
      "            dict(type='ToTensor', keys=['imgs'])\n",
      "        ]),\n",
      "    test=dict(\n",
      "        type='VideoDataset',\n",
      "        ann_file='kinetics400_tiny/kinetics_tiny_val_video.txt',\n",
      "        data_prefix='kinetics400_tiny/val/',\n",
      "        pipeline=[\n",
      "            dict(type='DecordInit'),\n",
      "            dict(\n",
      "                type='SampleFrames',\n",
      "                clip_len=1,\n",
      "                frame_interval=1,\n",
      "                num_clips=25,\n",
      "                test_mode=True),\n",
      "            dict(type='DecordDecode'),\n",
      "            dict(type='Resize', scale=(-1, 256)),\n",
      "            dict(type='ThreeCrop', crop_size=256),\n",
      "            dict(type='Flip', flip_ratio=0),\n",
      "            dict(\n",
      "                type='Normalize',\n",
      "                mean=[123.675, 116.28, 103.53],\n",
      "                std=[58.395, 57.12, 57.375],\n",
      "                to_bgr=False),\n",
      "            dict(type='FormatShape', input_format='NCHW'),\n",
      "            dict(type='Collect', keys=['imgs', 'label'], meta_keys=[]),\n",
      "            dict(type='ToTensor', keys=['imgs'])\n",
      "        ]))\n",
      "evaluation = dict(\n",
      "    interval=5, metrics=['top_k_accuracy', 'mean_class_accuracy'])\n",
      "work_dir = './tutorial_exps'\n",
      "omnisource = False\n",
      "seed = 0\n",
      "gpu_ids = range(0, 1)\n",
      "\n"
     ],
     "name": "stdout"
    }
   ]
  },
  {
   "cell_type": "markdown",
   "metadata": {
    "id": "tES-qnZ3k38Z"
   },
   "source": [
    "# Training\n",
    "\n",
    "Training loop of the model"
   ]
  },
  {
   "cell_type": "code",
   "metadata": {
    "id": "dDBWkdDRk6oz",
    "colab": {
     "base_uri": "https://localhost:8080/"
    },
    "outputId": "a25fa09a-8d2b-4bbc-c653-cec2f5bf184c"
   },
   "source": [
    "import os.path as osp\n",
    "\n",
    "from mmaction.datasets import build_dataset\n",
    "from mmaction.models import build_model\n",
    "from mmaction.apis import train_model\n",
    "\n",
    "import mmcv\n",
    "\n",
    "# Build the dataset\n",
    "datasets = [build_dataset(cfg.data.train)]\n",
    "\n",
    "# Build the recognizer\n",
    "model = build_model(cfg.model, train_cfg=cfg.get('train_cfg'), test_cfg=cfg.get('test_cfg'))\n",
    "\n",
    "# Create work_dir\n",
    "mmcv.mkdir_or_exist(osp.abspath(cfg.work_dir))\n",
    "train_model(model, datasets, cfg, distributed=False, validate=True)"
   ],
   "execution_count": 13,
   "outputs": [
    {
     "output_type": "stream",
     "text": [
      "Use load_from_torchvision loader\n"
     ],
     "name": "stdout"
    },
    {
     "output_type": "stream",
     "text": [
      "2021-04-02 20:40:20,168 - mmaction - INFO - These parameters in pretrained checkpoint are not loaded: {'fc.bias', 'fc.weight'}\n",
      "2021-04-02 20:40:20,225 - mmaction - INFO - load checkpoint from ./checkpoints/tsn_r50_1x1x3_100e_kinetics400_rgb_20200614-e508be42.pth\n",
      "2021-04-02 20:40:20,226 - mmaction - INFO - Use load_from_local loader\n",
      "2021-04-02 20:40:20,319 - mmaction - WARNING - The model and loaded state dict do not match exactly\n",
      "\n",
      "size mismatch for cls_head.fc_cls.weight: copying a param with shape torch.Size([400, 2048]) from checkpoint, the shape in current model is torch.Size([2, 2048]).\n",
      "size mismatch for cls_head.fc_cls.bias: copying a param with shape torch.Size([400]) from checkpoint, the shape in current model is torch.Size([2]).\n",
      "2021-04-02 20:40:20,326 - mmaction - INFO - Start running, host: root@0f1e220ccd4c, work_dir: /content/mmaction2/tutorial_exps\n",
      "2021-04-02 20:40:20,327 - mmaction - INFO - workflow: [('train', 1)], max: 30 epochs\n",
      "/content/mmaction2/mmaction/core/evaluation/eval_hooks.py:131: UserWarning: runner.meta is None. Creating a empty one.\n",
      "  warnings.warn('runner.meta is None. Creating a empty one.')\n",
      "2021-04-02 20:40:24,599 - mmaction - INFO - Epoch [1][5/15]\tlr: 7.813e-05, eta: 0:06:19, time: 0.853, data_time: 0.716, memory: 2918, top1_acc: 0.7000, top5_acc: 1.0000, loss_cls: 0.6865, loss: 0.6865, grad_norm: 12.7663\n",
      "2021-04-02 20:40:25,474 - mmaction - INFO - Epoch [1][10/15]\tlr: 7.813e-05, eta: 0:03:46, time: 0.175, data_time: 0.053, memory: 2918, top1_acc: 0.6000, top5_acc: 1.0000, loss_cls: 0.7171, loss: 0.7171, grad_norm: 13.7446\n",
      "2021-04-02 20:40:26,154 - mmaction - INFO - Epoch [1][15/15]\tlr: 7.813e-05, eta: 0:02:48, time: 0.136, data_time: 0.048, memory: 2918, top1_acc: 0.2000, top5_acc: 1.0000, loss_cls: 0.8884, loss: 0.8884, grad_norm: 14.7141\n",
      "2021-04-02 20:40:30,022 - mmaction - INFO - Epoch [2][5/15]\tlr: 7.813e-05, eta: 0:03:26, time: 0.756, data_time: 0.623, memory: 2918, top1_acc: 0.8000, top5_acc: 1.0000, loss_cls: 0.6562, loss: 0.6562, grad_norm: 10.5716\n",
      "2021-04-02 20:40:31,247 - mmaction - INFO - Epoch [2][10/15]\tlr: 7.813e-05, eta: 0:03:04, time: 0.246, data_time: 0.129, memory: 2918, top1_acc: 0.2000, top5_acc: 1.0000, loss_cls: 0.7480, loss: 0.7480, grad_norm: 11.7088\n",
      "2021-04-02 20:40:32,039 - mmaction - INFO - Epoch [2][15/15]\tlr: 7.813e-05, eta: 0:02:42, time: 0.159, data_time: 0.066, memory: 2918, top1_acc: 0.6000, top5_acc: 1.0000, loss_cls: 0.6735, loss: 0.6735, grad_norm: 12.8068\n",
      "2021-04-02 20:40:36,343 - mmaction - INFO - Epoch [3][5/15]\tlr: 7.813e-05, eta: 0:03:07, time: 0.845, data_time: 0.709, memory: 2918, top1_acc: 0.4000, top5_acc: 1.0000, loss_cls: 0.7218, loss: 0.7218, grad_norm: 12.4891\n",
      "2021-04-02 20:40:37,498 - mmaction - INFO - Epoch [3][10/15]\tlr: 7.813e-05, eta: 0:02:54, time: 0.231, data_time: 0.110, memory: 2918, top1_acc: 0.8000, top5_acc: 1.0000, loss_cls: 0.6188, loss: 0.6188, grad_norm: 11.8108\n",
      "2021-04-02 20:40:38,127 - mmaction - INFO - Epoch [3][15/15]\tlr: 7.813e-05, eta: 0:02:38, time: 0.126, data_time: 0.049, memory: 2918, top1_acc: 0.4000, top5_acc: 1.0000, loss_cls: 0.7298, loss: 0.7298, grad_norm: 12.5042\n",
      "2021-04-02 20:40:42,226 - mmaction - INFO - Epoch [4][5/15]\tlr: 7.813e-05, eta: 0:02:53, time: 0.804, data_time: 0.680, memory: 2918, top1_acc: 0.5000, top5_acc: 1.0000, loss_cls: 0.6833, loss: 0.6833, grad_norm: 10.1041\n",
      "2021-04-02 20:40:43,356 - mmaction - INFO - Epoch [4][10/15]\tlr: 7.813e-05, eta: 0:02:43, time: 0.227, data_time: 0.091, memory: 2918, top1_acc: 0.7000, top5_acc: 1.0000, loss_cls: 0.6640, loss: 0.6640, grad_norm: 11.7600\n",
      "2021-04-02 20:40:43,956 - mmaction - INFO - Epoch [4][15/15]\tlr: 7.813e-05, eta: 0:02:32, time: 0.120, data_time: 0.041, memory: 2918, top1_acc: 0.3000, top5_acc: 1.0000, loss_cls: 0.7373, loss: 0.7373, grad_norm: 13.6228\n",
      "2021-04-02 20:40:47,877 - mmaction - INFO - Epoch [5][5/15]\tlr: 7.813e-05, eta: 0:02:41, time: 0.768, data_time: 0.643, memory: 2918, top1_acc: 0.8000, top5_acc: 1.0000, loss_cls: 0.6309, loss: 0.6309, grad_norm: 11.1864\n",
      "2021-04-02 20:40:48,812 - mmaction - INFO - Epoch [5][10/15]\tlr: 7.813e-05, eta: 0:02:32, time: 0.187, data_time: 0.063, memory: 2918, top1_acc: 0.4000, top5_acc: 1.0000, loss_cls: 0.7178, loss: 0.7178, grad_norm: 12.4591\n",
      "2021-04-02 20:40:49,845 - mmaction - INFO - Epoch [5][15/15]\tlr: 7.813e-05, eta: 0:02:25, time: 0.207, data_time: 0.127, memory: 2918, top1_acc: 0.4000, top5_acc: 1.0000, loss_cls: 0.7093, loss: 0.7093, grad_norm: 12.4622\n"
     ],
     "name": "stderr"
    },
    {
     "output_type": "stream",
     "text": [
      "[>>>>>>>>>>>>>>>>>>>>>>>>>>>>>>>>>] 10/10, 5.8 task/s, elapsed: 2s, ETA:     0s"
     ],
     "name": "stdout"
    },
    {
     "output_type": "stream",
     "text": [
      "2021-04-02 20:40:51,720 - mmaction - INFO - Evaluating top_k_accuracy ...\n",
      "2021-04-02 20:40:51,722 - mmaction - INFO - \n",
      "top1_acc\t0.7000\n",
      "top5_acc\t1.0000\n",
      "2021-04-02 20:40:51,725 - mmaction - INFO - Evaluating mean_class_accuracy ...\n",
      "2021-04-02 20:40:51,728 - mmaction - INFO - \n",
      "mean_acc\t0.7000\n",
      "2021-04-02 20:40:52,027 - mmaction - INFO - Now best checkpoint is saved as best_top1_acc_epoch_5.pth.\n",
      "2021-04-02 20:40:52,031 - mmaction - INFO - Best top1_acc is 0.7000 at 5 epoch.\n",
      "2021-04-02 20:40:52,034 - mmaction - INFO - Epoch(val) [5][15]\ttop1_acc: 0.7000, top5_acc: 1.0000, mean_class_accuracy: 0.7000\n",
      "2021-04-02 20:40:56,624 - mmaction - INFO - Epoch [6][5/15]\tlr: 7.813e-05, eta: 0:02:36, time: 0.914, data_time: 0.792, memory: 2918, top1_acc: 0.5000, top5_acc: 1.0000, loss_cls: 0.6696, loss: 0.6696, grad_norm: 11.0225\n",
      "2021-04-02 20:40:57,391 - mmaction - INFO - Epoch [6][10/15]\tlr: 7.813e-05, eta: 0:02:28, time: 0.156, data_time: 0.037, memory: 2918, top1_acc: 0.6000, top5_acc: 1.0000, loss_cls: 0.6824, loss: 0.6824, grad_norm: 11.8890\n",
      "2021-04-02 20:40:57,918 - mmaction - INFO - Epoch [6][15/15]\tlr: 7.813e-05, eta: 0:02:20, time: 0.105, data_time: 0.028, memory: 2918, top1_acc: 0.6000, top5_acc: 1.0000, loss_cls: 0.6869, loss: 0.6869, grad_norm: 13.7287\n",
      "2021-04-02 20:41:02,302 - mmaction - INFO - Epoch [7][5/15]\tlr: 7.813e-05, eta: 0:02:27, time: 0.856, data_time: 0.741, memory: 2918, top1_acc: 0.7000, top5_acc: 1.0000, loss_cls: 0.6459, loss: 0.6459, grad_norm: 10.8099\n",
      "2021-04-02 20:41:03,296 - mmaction - INFO - Epoch [7][10/15]\tlr: 7.813e-05, eta: 0:02:21, time: 0.203, data_time: 0.068, memory: 2918, top1_acc: 0.9000, top5_acc: 1.0000, loss_cls: 0.6004, loss: 0.6004, grad_norm: 9.5419\n",
      "2021-04-02 20:41:03,817 - mmaction - INFO - Epoch [7][15/15]\tlr: 7.813e-05, eta: 0:02:14, time: 0.104, data_time: 0.024, memory: 2918, top1_acc: 0.6000, top5_acc: 1.0000, loss_cls: 0.6828, loss: 0.6828, grad_norm: 12.0920\n",
      "2021-04-02 20:41:08,001 - mmaction - INFO - Epoch [8][5/15]\tlr: 7.813e-05, eta: 0:02:19, time: 0.817, data_time: 0.692, memory: 2918, top1_acc: 0.5000, top5_acc: 1.0000, loss_cls: 0.6921, loss: 0.6921, grad_norm: 13.1961\n",
      "2021-04-02 20:41:09,156 - mmaction - INFO - Epoch [8][10/15]\tlr: 7.813e-05, eta: 0:02:14, time: 0.234, data_time: 0.126, memory: 2918, top1_acc: 0.7000, top5_acc: 1.0000, loss_cls: 0.6073, loss: 0.6073, grad_norm: 11.3405\n",
      "2021-04-02 20:41:09,638 - mmaction - INFO - Epoch [8][15/15]\tlr: 7.813e-05, eta: 0:02:08, time: 0.097, data_time: 0.012, memory: 2918, top1_acc: 0.4000, top5_acc: 1.0000, loss_cls: 0.7029, loss: 0.7029, grad_norm: 12.4452\n",
      "2021-04-02 20:41:13,540 - mmaction - INFO - Epoch [9][5/15]\tlr: 7.813e-05, eta: 0:02:11, time: 0.764, data_time: 0.623, memory: 2918, top1_acc: 0.9000, top5_acc: 1.0000, loss_cls: 0.5367, loss: 0.5367, grad_norm: 8.3885\n",
      "2021-04-02 20:41:15,323 - mmaction - INFO - Epoch [9][10/15]\tlr: 7.813e-05, eta: 0:02:08, time: 0.357, data_time: 0.229, memory: 2918, top1_acc: 0.6000, top5_acc: 1.0000, loss_cls: 0.6797, loss: 0.6797, grad_norm: 12.8050\n",
      "2021-04-02 20:41:15,765 - mmaction - INFO - Epoch [9][15/15]\tlr: 7.813e-05, eta: 0:02:02, time: 0.089, data_time: 0.018, memory: 2918, top1_acc: 0.8000, top5_acc: 1.0000, loss_cls: 0.5711, loss: 0.5711, grad_norm: 9.9663\n",
      "2021-04-02 20:41:19,848 - mmaction - INFO - Epoch [10][5/15]\tlr: 7.813e-05, eta: 0:02:05, time: 0.800, data_time: 0.667, memory: 2918, top1_acc: 0.8000, top5_acc: 1.0000, loss_cls: 0.5379, loss: 0.5379, grad_norm: 8.8865\n",
      "2021-04-02 20:41:21,059 - mmaction - INFO - Epoch [10][10/15]\tlr: 7.813e-05, eta: 0:02:01, time: 0.242, data_time: 0.115, memory: 2918, top1_acc: 0.4000, top5_acc: 1.0000, loss_cls: 0.6644, loss: 0.6644, grad_norm: 12.6171\n",
      "2021-04-02 20:41:21,714 - mmaction - INFO - Epoch [10][15/15]\tlr: 7.813e-05, eta: 0:01:57, time: 0.131, data_time: 0.050, memory: 2918, top1_acc: 0.6000, top5_acc: 1.0000, loss_cls: 0.7041, loss: 0.7041, grad_norm: 12.4919\n",
      "2021-04-02 20:41:21,795 - mmaction - INFO - Saving checkpoint at 10 epochs\n"
     ],
     "name": "stderr"
    },
    {
     "output_type": "stream",
     "text": [
      "[>>>>>>>>>>>>>>>>>>>>>>>>>>>>>>>>>] 10/10, 5.7 task/s, elapsed: 2s, ETA:     0s"
     ],
     "name": "stdout"
    },
    {
     "output_type": "stream",
     "text": [
      "2021-04-02 20:41:23,935 - mmaction - INFO - Evaluating top_k_accuracy ...\n",
      "2021-04-02 20:41:23,937 - mmaction - INFO - \n",
      "top1_acc\t0.9000\n",
      "top5_acc\t1.0000\n",
      "2021-04-02 20:41:23,940 - mmaction - INFO - Evaluating mean_class_accuracy ...\n",
      "2021-04-02 20:41:23,942 - mmaction - INFO - \n",
      "mean_acc\t0.9000\n",
      "2021-04-02 20:41:24,288 - mmaction - INFO - Now best checkpoint is saved as best_top1_acc_epoch_10.pth.\n",
      "2021-04-02 20:41:24,289 - mmaction - INFO - Best top1_acc is 0.9000 at 10 epoch.\n",
      "2021-04-02 20:41:24,293 - mmaction - INFO - Epoch(val) [10][15]\ttop1_acc: 0.9000, top5_acc: 1.0000, mean_class_accuracy: 0.9000\n",
      "2021-04-02 20:41:28,225 - mmaction - INFO - Epoch [11][5/15]\tlr: 7.813e-05, eta: 0:01:58, time: 0.783, data_time: 0.660, memory: 2918, top1_acc: 0.8000, top5_acc: 1.0000, loss_cls: 0.5358, loss: 0.5358, grad_norm: 8.8077\n",
      "2021-04-02 20:41:29,333 - mmaction - INFO - Epoch [11][10/15]\tlr: 7.813e-05, eta: 0:01:55, time: 0.224, data_time: 0.097, memory: 2918, top1_acc: 0.8000, top5_acc: 1.0000, loss_cls: 0.5829, loss: 0.5829, grad_norm: 10.5919\n",
      "2021-04-02 20:41:30,056 - mmaction - INFO - Epoch [11][15/15]\tlr: 7.813e-05, eta: 0:01:51, time: 0.145, data_time: 0.064, memory: 2918, top1_acc: 0.7000, top5_acc: 1.0000, loss_cls: 0.6231, loss: 0.6231, grad_norm: 11.3671\n",
      "2021-04-02 20:41:34,318 - mmaction - INFO - Epoch [12][5/15]\tlr: 7.813e-05, eta: 0:01:52, time: 0.836, data_time: 0.706, memory: 2918, top1_acc: 0.7000, top5_acc: 1.0000, loss_cls: 0.5701, loss: 0.5701, grad_norm: 10.0641\n",
      "2021-04-02 20:41:35,357 - mmaction - INFO - Epoch [12][10/15]\tlr: 7.813e-05, eta: 0:01:49, time: 0.208, data_time: 0.089, memory: 2918, top1_acc: 0.6000, top5_acc: 1.0000, loss_cls: 0.5980, loss: 0.5980, grad_norm: 11.1724\n",
      "2021-04-02 20:41:36,121 - mmaction - INFO - Epoch [12][15/15]\tlr: 7.813e-05, eta: 0:01:45, time: 0.153, data_time: 0.059, memory: 2918, top1_acc: 0.5000, top5_acc: 1.0000, loss_cls: 0.6105, loss: 0.6105, grad_norm: 11.8515\n",
      "2021-04-02 20:41:40,321 - mmaction - INFO - Epoch [13][5/15]\tlr: 7.813e-05, eta: 0:01:46, time: 0.822, data_time: 0.680, memory: 2918, top1_acc: 0.7000, top5_acc: 1.0000, loss_cls: 0.5438, loss: 0.5438, grad_norm: 10.4097\n",
      "2021-04-02 20:41:41,252 - mmaction - INFO - Epoch [13][10/15]\tlr: 7.813e-05, eta: 0:01:43, time: 0.188, data_time: 0.062, memory: 2918, top1_acc: 0.6000, top5_acc: 1.0000, loss_cls: 0.6337, loss: 0.6337, grad_norm: 11.3866\n",
      "2021-04-02 20:41:42,119 - mmaction - INFO - Epoch [13][15/15]\tlr: 7.813e-05, eta: 0:01:39, time: 0.173, data_time: 0.084, memory: 2918, top1_acc: 0.7000, top5_acc: 1.0000, loss_cls: 0.6327, loss: 0.6327, grad_norm: 12.0628\n",
      "2021-04-02 20:41:46,246 - mmaction - INFO - Epoch [14][5/15]\tlr: 7.813e-05, eta: 0:01:40, time: 0.809, data_time: 0.681, memory: 2918, top1_acc: 0.6000, top5_acc: 1.0000, loss_cls: 0.6514, loss: 0.6514, grad_norm: 12.4954\n",
      "2021-04-02 20:41:47,552 - mmaction - INFO - Epoch [14][10/15]\tlr: 7.813e-05, eta: 0:01:37, time: 0.261, data_time: 0.139, memory: 2918, top1_acc: 0.8000, top5_acc: 1.0000, loss_cls: 0.5537, loss: 0.5537, grad_norm: 10.5968\n",
      "2021-04-02 20:41:48,101 - mmaction - INFO - Epoch [14][15/15]\tlr: 7.813e-05, eta: 0:01:33, time: 0.110, data_time: 0.037, memory: 2918, top1_acc: 0.4000, top5_acc: 1.0000, loss_cls: 0.7072, loss: 0.7072, grad_norm: 12.8176\n",
      "2021-04-02 20:41:52,693 - mmaction - INFO - Epoch [15][5/15]\tlr: 7.813e-05, eta: 0:01:34, time: 0.900, data_time: 0.771, memory: 2918, top1_acc: 0.7000, top5_acc: 1.0000, loss_cls: 0.6580, loss: 0.6580, grad_norm: 12.7107\n",
      "2021-04-02 20:41:53,579 - mmaction - INFO - Epoch [15][10/15]\tlr: 7.813e-05, eta: 0:01:31, time: 0.179, data_time: 0.055, memory: 2918, top1_acc: 0.9000, top5_acc: 1.0000, loss_cls: 0.4524, loss: 0.4524, grad_norm: 8.1137\n",
      "2021-04-02 20:41:54,031 - mmaction - INFO - Epoch [15][15/15]\tlr: 7.813e-05, eta: 0:01:27, time: 0.091, data_time: 0.022, memory: 2918, top1_acc: 0.7000, top5_acc: 1.0000, loss_cls: 0.6319, loss: 0.6319, grad_norm: 11.7253\n"
     ],
     "name": "stderr"
    },
    {
     "output_type": "stream",
     "text": [
      "[>>>>>>>>>>>>>>>>>>>>>>>>>>>>>>>>>] 10/10, 5.9 task/s, elapsed: 2s, ETA:     0s"
     ],
     "name": "stdout"
    },
    {
     "output_type": "stream",
     "text": [
      "2021-04-02 20:41:55,890 - mmaction - INFO - Evaluating top_k_accuracy ...\n",
      "2021-04-02 20:41:55,891 - mmaction - INFO - \n",
      "top1_acc\t0.8000\n",
      "top5_acc\t1.0000\n",
      "2021-04-02 20:41:55,897 - mmaction - INFO - Evaluating mean_class_accuracy ...\n",
      "2021-04-02 20:41:55,900 - mmaction - INFO - \n",
      "mean_acc\t0.8000\n",
      "2021-04-02 20:41:55,911 - mmaction - INFO - Epoch(val) [15][15]\ttop1_acc: 0.8000, top5_acc: 1.0000, mean_class_accuracy: 0.8000\n",
      "2021-04-02 20:42:00,075 - mmaction - INFO - Epoch [16][5/15]\tlr: 7.813e-05, eta: 0:01:28, time: 0.832, data_time: 0.683, memory: 2918, top1_acc: 0.8000, top5_acc: 1.0000, loss_cls: 0.5428, loss: 0.5428, grad_norm: 10.0097\n",
      "2021-04-02 20:42:01,399 - mmaction - INFO - Epoch [16][10/15]\tlr: 7.813e-05, eta: 0:01:25, time: 0.265, data_time: 0.134, memory: 2918, top1_acc: 0.7000, top5_acc: 1.0000, loss_cls: 0.6097, loss: 0.6097, grad_norm: 11.1802\n",
      "2021-04-02 20:42:01,807 - mmaction - INFO - Epoch [16][15/15]\tlr: 7.813e-05, eta: 0:01:22, time: 0.082, data_time: 0.007, memory: 2918, top1_acc: 0.7000, top5_acc: 1.0000, loss_cls: 0.5309, loss: 0.5309, grad_norm: 9.9073\n",
      "2021-04-02 20:42:05,855 - mmaction - INFO - Epoch [17][5/15]\tlr: 7.813e-05, eta: 0:01:21, time: 0.791, data_time: 0.654, memory: 2918, top1_acc: 0.6000, top5_acc: 1.0000, loss_cls: 0.6305, loss: 0.6305, grad_norm: 12.2651\n",
      "2021-04-02 20:42:07,131 - mmaction - INFO - Epoch [17][10/15]\tlr: 7.813e-05, eta: 0:01:19, time: 0.257, data_time: 0.133, memory: 2918, top1_acc: 0.4000, top5_acc: 1.0000, loss_cls: 0.6635, loss: 0.6635, grad_norm: 13.0191\n",
      "2021-04-02 20:42:07,619 - mmaction - INFO - Epoch [17][15/15]\tlr: 7.813e-05, eta: 0:01:16, time: 0.098, data_time: 0.022, memory: 2918, top1_acc: 1.0000, top5_acc: 1.0000, loss_cls: 0.4260, loss: 0.4260, grad_norm: 8.0274\n",
      "2021-04-02 20:42:11,532 - mmaction - INFO - Epoch [18][5/15]\tlr: 7.813e-05, eta: 0:01:15, time: 0.767, data_time: 0.630, memory: 2918, top1_acc: 0.8000, top5_acc: 1.0000, loss_cls: 0.5794, loss: 0.5794, grad_norm: 11.0246\n",
      "2021-04-02 20:42:13,015 - mmaction - INFO - Epoch [18][10/15]\tlr: 7.813e-05, eta: 0:01:13, time: 0.296, data_time: 0.161, memory: 2918, top1_acc: 0.9000, top5_acc: 1.0000, loss_cls: 0.4537, loss: 0.4537, grad_norm: 8.3300\n",
      "2021-04-02 20:42:13,621 - mmaction - INFO - Epoch [18][15/15]\tlr: 7.813e-05, eta: 0:01:10, time: 0.122, data_time: 0.032, memory: 2918, top1_acc: 0.8000, top5_acc: 1.0000, loss_cls: 0.4951, loss: 0.4951, grad_norm: 9.5810\n",
      "2021-04-02 20:42:17,976 - mmaction - INFO - Epoch [19][5/15]\tlr: 7.813e-05, eta: 0:01:09, time: 0.852, data_time: 0.733, memory: 2918, top1_acc: 0.9000, top5_acc: 1.0000, loss_cls: 0.5533, loss: 0.5533, grad_norm: 10.2660\n",
      "2021-04-02 20:42:19,019 - mmaction - INFO - Epoch [19][10/15]\tlr: 7.813e-05, eta: 0:01:07, time: 0.207, data_time: 0.086, memory: 2918, top1_acc: 0.6000, top5_acc: 1.0000, loss_cls: 0.6116, loss: 0.6116, grad_norm: 11.5397\n",
      "2021-04-02 20:42:19,604 - mmaction - INFO - Epoch [19][15/15]\tlr: 7.813e-05, eta: 0:01:04, time: 0.118, data_time: 0.035, memory: 2918, top1_acc: 0.8000, top5_acc: 1.0000, loss_cls: 0.4126, loss: 0.4126, grad_norm: 7.5692\n",
      "2021-04-02 20:42:23,938 - mmaction - INFO - Epoch [20][5/15]\tlr: 7.813e-05, eta: 0:01:03, time: 0.849, data_time: 0.723, memory: 2918, top1_acc: 0.9000, top5_acc: 1.0000, loss_cls: 0.4326, loss: 0.4326, grad_norm: 8.4833\n",
      "2021-04-02 20:42:24,829 - mmaction - INFO - Epoch [20][10/15]\tlr: 7.813e-05, eta: 0:01:01, time: 0.178, data_time: 0.065, memory: 2918, top1_acc: 0.8000, top5_acc: 1.0000, loss_cls: 0.4621, loss: 0.4621, grad_norm: 8.9814\n",
      "2021-04-02 20:42:25,460 - mmaction - INFO - Epoch [20][15/15]\tlr: 7.813e-05, eta: 0:00:58, time: 0.126, data_time: 0.041, memory: 2918, top1_acc: 0.7000, top5_acc: 1.0000, loss_cls: 0.5917, loss: 0.5917, grad_norm: 11.3918\n",
      "2021-04-02 20:42:25,547 - mmaction - INFO - Saving checkpoint at 20 epochs\n"
     ],
     "name": "stderr"
    },
    {
     "output_type": "stream",
     "text": [
      "[>>>>>>>>>>>>>>>>>>>>>>>>>>>>>>>>>] 10/10, 5.7 task/s, elapsed: 2s, ETA:     0s"
     ],
     "name": "stdout"
    },
    {
     "output_type": "stream",
     "text": [
      "2021-04-02 20:42:27,742 - mmaction - INFO - Evaluating top_k_accuracy ...\n",
      "2021-04-02 20:42:27,744 - mmaction - INFO - \n",
      "top1_acc\t0.9000\n",
      "top5_acc\t1.0000\n",
      "2021-04-02 20:42:27,747 - mmaction - INFO - Evaluating mean_class_accuracy ...\n",
      "2021-04-02 20:42:27,749 - mmaction - INFO - \n",
      "mean_acc\t0.9000\n",
      "2021-04-02 20:42:27,752 - mmaction - INFO - Epoch(val) [20][15]\ttop1_acc: 0.9000, top5_acc: 1.0000, mean_class_accuracy: 0.9000\n",
      "2021-04-02 20:42:31,705 - mmaction - INFO - Epoch [21][5/15]\tlr: 7.813e-05, eta: 0:00:57, time: 0.789, data_time: 0.660, memory: 2918, top1_acc: 0.8000, top5_acc: 1.0000, loss_cls: 0.4515, loss: 0.4515, grad_norm: 8.3884\n",
      "2021-04-02 20:42:32,867 - mmaction - INFO - Epoch [21][10/15]\tlr: 7.813e-05, eta: 0:00:55, time: 0.232, data_time: 0.113, memory: 2918, top1_acc: 0.8000, top5_acc: 1.0000, loss_cls: 0.4541, loss: 0.4541, grad_norm: 9.0856\n",
      "2021-04-02 20:42:33,482 - mmaction - INFO - Epoch [21][15/15]\tlr: 7.813e-05, eta: 0:00:52, time: 0.123, data_time: 0.042, memory: 2918, top1_acc: 0.8000, top5_acc: 1.0000, loss_cls: 0.5325, loss: 0.5325, grad_norm: 10.6012\n",
      "2021-04-02 20:42:37,631 - mmaction - INFO - Epoch [22][5/15]\tlr: 7.813e-05, eta: 0:00:51, time: 0.814, data_time: 0.664, memory: 2918, top1_acc: 0.7000, top5_acc: 1.0000, loss_cls: 0.5646, loss: 0.5646, grad_norm: 10.7972\n",
      "2021-04-02 20:42:38,707 - mmaction - INFO - Epoch [22][10/15]\tlr: 7.813e-05, eta: 0:00:49, time: 0.215, data_time: 0.086, memory: 2918, top1_acc: 0.8000, top5_acc: 1.0000, loss_cls: 0.5059, loss: 0.5059, grad_norm: 9.9774\n",
      "2021-04-02 20:42:39,377 - mmaction - INFO - Epoch [22][15/15]\tlr: 7.813e-05, eta: 0:00:46, time: 0.134, data_time: 0.060, memory: 2918, top1_acc: 0.9000, top5_acc: 1.0000, loss_cls: 0.4390, loss: 0.4390, grad_norm: 8.7569\n",
      "2021-04-02 20:42:43,537 - mmaction - INFO - Epoch [23][5/15]\tlr: 7.813e-05, eta: 0:00:45, time: 0.814, data_time: 0.692, memory: 2918, top1_acc: 0.6000, top5_acc: 1.0000, loss_cls: 0.6280, loss: 0.6280, grad_norm: 12.5603\n",
      "2021-04-02 20:42:44,647 - mmaction - INFO - Epoch [23][10/15]\tlr: 7.813e-05, eta: 0:00:43, time: 0.224, data_time: 0.105, memory: 2918, top1_acc: 1.0000, top5_acc: 1.0000, loss_cls: 0.3282, loss: 0.3282, grad_norm: 6.4797\n",
      "2021-04-02 20:42:45,335 - mmaction - INFO - Epoch [23][15/15]\tlr: 7.813e-05, eta: 0:00:40, time: 0.138, data_time: 0.051, memory: 2918, top1_acc: 0.8000, top5_acc: 1.0000, loss_cls: 0.4970, loss: 0.4970, grad_norm: 9.2489\n",
      "2021-04-02 20:42:49,321 - mmaction - INFO - Epoch [24][5/15]\tlr: 7.813e-05, eta: 0:00:39, time: 0.781, data_time: 0.646, memory: 2918, top1_acc: 0.9000, top5_acc: 1.0000, loss_cls: 0.3843, loss: 0.3843, grad_norm: 7.6690\n",
      "2021-04-02 20:42:50,505 - mmaction - INFO - Epoch [24][10/15]\tlr: 7.813e-05, eta: 0:00:37, time: 0.235, data_time: 0.117, memory: 2918, top1_acc: 0.6000, top5_acc: 1.0000, loss_cls: 0.5472, loss: 0.5472, grad_norm: 11.7926\n",
      "2021-04-02 20:42:51,204 - mmaction - INFO - Epoch [24][15/15]\tlr: 7.813e-05, eta: 0:00:35, time: 0.142, data_time: 0.060, memory: 2918, top1_acc: 0.9000, top5_acc: 1.0000, loss_cls: 0.3738, loss: 0.3738, grad_norm: 7.4715\n",
      "2021-04-02 20:42:55,213 - mmaction - INFO - Epoch [25][5/15]\tlr: 7.813e-05, eta: 0:00:33, time: 0.786, data_time: 0.660, memory: 2918, top1_acc: 0.5000, top5_acc: 1.0000, loss_cls: 0.5809, loss: 0.5809, grad_norm: 11.7555\n",
      "2021-04-02 20:42:56,241 - mmaction - INFO - Epoch [25][10/15]\tlr: 7.813e-05, eta: 0:00:31, time: 0.206, data_time: 0.074, memory: 2918, top1_acc: 0.6000, top5_acc: 1.0000, loss_cls: 0.5971, loss: 0.5971, grad_norm: 11.7770\n",
      "2021-04-02 20:42:57,050 - mmaction - INFO - Epoch [25][15/15]\tlr: 7.813e-05, eta: 0:00:29, time: 0.162, data_time: 0.073, memory: 2918, top1_acc: 0.8000, top5_acc: 1.0000, loss_cls: 0.4511, loss: 0.4511, grad_norm: 9.3051\n"
     ],
     "name": "stderr"
    },
    {
     "output_type": "stream",
     "text": [
      "[>>>>>>>>>>>>>>>>>>>>>>>>>>>>>>>>>] 10/10, 5.9 task/s, elapsed: 2s, ETA:     0s"
     ],
     "name": "stdout"
    },
    {
     "output_type": "stream",
     "text": [
      "2021-04-02 20:42:58,901 - mmaction - INFO - Evaluating top_k_accuracy ...\n",
      "2021-04-02 20:42:58,907 - mmaction - INFO - \n",
      "top1_acc\t1.0000\n",
      "top5_acc\t1.0000\n",
      "2021-04-02 20:42:58,911 - mmaction - INFO - Evaluating mean_class_accuracy ...\n",
      "2021-04-02 20:42:58,913 - mmaction - INFO - \n",
      "mean_acc\t1.0000\n",
      "2021-04-02 20:42:59,238 - mmaction - INFO - Now best checkpoint is saved as best_top1_acc_epoch_25.pth.\n",
      "2021-04-02 20:42:59,245 - mmaction - INFO - Best top1_acc is 1.0000 at 25 epoch.\n",
      "2021-04-02 20:42:59,247 - mmaction - INFO - Epoch(val) [25][15]\ttop1_acc: 1.0000, top5_acc: 1.0000, mean_class_accuracy: 1.0000\n",
      "2021-04-02 20:43:03,611 - mmaction - INFO - Epoch [26][5/15]\tlr: 7.813e-05, eta: 0:00:27, time: 0.872, data_time: 0.740, memory: 2918, top1_acc: 0.9000, top5_acc: 1.0000, loss_cls: 0.3758, loss: 0.3758, grad_norm: 7.9637\n",
      "2021-04-02 20:43:04,696 - mmaction - INFO - Epoch [26][10/15]\tlr: 7.813e-05, eta: 0:00:25, time: 0.217, data_time: 0.109, memory: 2918, top1_acc: 0.5000, top5_acc: 1.0000, loss_cls: 0.5393, loss: 0.5393, grad_norm: 10.7612\n",
      "2021-04-02 20:43:05,137 - mmaction - INFO - Epoch [26][15/15]\tlr: 7.813e-05, eta: 0:00:23, time: 0.088, data_time: 0.017, memory: 2918, top1_acc: 0.7000, top5_acc: 1.0000, loss_cls: 0.4193, loss: 0.4193, grad_norm: 8.5510\n",
      "2021-04-02 20:43:09,162 - mmaction - INFO - Epoch [27][5/15]\tlr: 7.813e-05, eta: 0:00:21, time: 0.787, data_time: 0.666, memory: 2918, top1_acc: 0.5000, top5_acc: 1.0000, loss_cls: 0.5919, loss: 0.5919, grad_norm: 11.3872\n",
      "2021-04-02 20:43:10,193 - mmaction - INFO - Epoch [27][10/15]\tlr: 7.813e-05, eta: 0:00:19, time: 0.208, data_time: 0.069, memory: 2918, top1_acc: 0.9000, top5_acc: 1.0000, loss_cls: 0.4478, loss: 0.4478, grad_norm: 9.5178\n",
      "2021-04-02 20:43:11,028 - mmaction - INFO - Epoch [27][15/15]\tlr: 7.813e-05, eta: 0:00:17, time: 0.167, data_time: 0.087, memory: 2918, top1_acc: 0.9000, top5_acc: 1.0000, loss_cls: 0.3865, loss: 0.3865, grad_norm: 8.2056\n",
      "2021-04-02 20:43:14,868 - mmaction - INFO - Epoch [28][5/15]\tlr: 7.813e-05, eta: 0:00:15, time: 0.752, data_time: 0.607, memory: 2918, top1_acc: 0.7000, top5_acc: 1.0000, loss_cls: 0.5438, loss: 0.5438, grad_norm: 11.1978\n",
      "2021-04-02 20:43:15,767 - mmaction - INFO - Epoch [28][10/15]\tlr: 7.813e-05, eta: 0:00:13, time: 0.180, data_time: 0.055, memory: 2918, top1_acc: 0.8000, top5_acc: 1.0000, loss_cls: 0.4844, loss: 0.4844, grad_norm: 9.9260\n",
      "2021-04-02 20:43:16,879 - mmaction - INFO - Epoch [28][15/15]\tlr: 7.813e-05, eta: 0:00:11, time: 0.223, data_time: 0.143, memory: 2918, top1_acc: 0.9000, top5_acc: 1.0000, loss_cls: 0.3130, loss: 0.3130, grad_norm: 6.3288\n",
      "2021-04-02 20:43:21,169 - mmaction - INFO - Epoch [29][5/15]\tlr: 7.813e-05, eta: 0:00:09, time: 0.842, data_time: 0.708, memory: 2918, top1_acc: 1.0000, top5_acc: 1.0000, loss_cls: 0.3145, loss: 0.3145, grad_norm: 6.6519\n",
      "2021-04-02 20:43:22,206 - mmaction - INFO - Epoch [29][10/15]\tlr: 7.813e-05, eta: 0:00:07, time: 0.207, data_time: 0.105, memory: 2918, top1_acc: 0.7000, top5_acc: 1.0000, loss_cls: 0.4966, loss: 0.4966, grad_norm: 10.3002\n",
      "2021-04-02 20:43:22,961 - mmaction - INFO - Epoch [29][15/15]\tlr: 7.813e-05, eta: 0:00:05, time: 0.151, data_time: 0.070, memory: 2918, top1_acc: 0.7000, top5_acc: 1.0000, loss_cls: 0.5300, loss: 0.5300, grad_norm: 10.5833\n",
      "2021-04-02 20:43:27,248 - mmaction - INFO - Epoch [30][5/15]\tlr: 7.813e-05, eta: 0:00:03, time: 0.840, data_time: 0.713, memory: 2918, top1_acc: 0.5000, top5_acc: 1.0000, loss_cls: 0.6775, loss: 0.6775, grad_norm: 13.5722\n",
      "2021-04-02 20:43:28,310 - mmaction - INFO - Epoch [30][10/15]\tlr: 7.813e-05, eta: 0:00:01, time: 0.211, data_time: 0.091, memory: 2918, top1_acc: 0.7000, top5_acc: 1.0000, loss_cls: 0.6271, loss: 0.6271, grad_norm: 12.5466\n",
      "2021-04-02 20:43:28,929 - mmaction - INFO - Epoch [30][15/15]\tlr: 7.813e-05, eta: 0:00:00, time: 0.125, data_time: 0.046, memory: 2918, top1_acc: 0.6000, top5_acc: 1.0000, loss_cls: 0.5681, loss: 0.5681, grad_norm: 11.7003\n",
      "2021-04-02 20:43:29,012 - mmaction - INFO - Saving checkpoint at 30 epochs\n"
     ],
     "name": "stderr"
    },
    {
     "output_type": "stream",
     "text": [
      "[>>>>>>>>>>>>>>>>>>>>>>>>>>>>>>>>>] 10/10, 5.6 task/s, elapsed: 2s, ETA:     0s"
     ],
     "name": "stdout"
    },
    {
     "output_type": "stream",
     "text": [
      "2021-04-02 20:43:31,209 - mmaction - INFO - Evaluating top_k_accuracy ...\n",
      "2021-04-02 20:43:31,211 - mmaction - INFO - \n",
      "top1_acc\t1.0000\n",
      "top5_acc\t1.0000\n",
      "2021-04-02 20:43:31,216 - mmaction - INFO - Evaluating mean_class_accuracy ...\n",
      "2021-04-02 20:43:31,218 - mmaction - INFO - \n",
      "mean_acc\t1.0000\n",
      "2021-04-02 20:43:31,224 - mmaction - INFO - Epoch(val) [30][15]\ttop1_acc: 1.0000, top5_acc: 1.0000, mean_class_accuracy: 1.0000\n"
     ],
     "name": "stderr"
    }
   ]
  },
  {
   "cell_type": "markdown",
   "metadata": {
    "id": "ryVoSfZVmogw"
   },
   "source": [
    "# Evaluation\n"
   ]
  },
  {
   "cell_type": "code",
   "metadata": {
    "id": "AVbmnPA5ATPe"
   },
   "source": [
    "from mmaction.apis import single_gpu_test\n",
    "from mmaction.datasets import build_dataloader\n",
    "from mmcv.parallel import MMDataParallel\n",
    "\n",
    "# Build a test dataloader\n",
    "dataset = build_dataset(cfg.data.test, dict(test_mode=True))\n",
    "data_loader = build_dataloader(\n",
    "        dataset,\n",
    "        videos_per_gpu=1,\n",
    "        workers_per_gpu=cfg.data.workers_per_gpu,\n",
    "        dist=False,\n",
    "        shuffle=False)\n",
    "\n"
   ],
   "execution_count": 14,
   "outputs": []
  },
  {
   "cell_type": "code",
   "execution_count": null,
   "outputs": [],
   "source": [
    "md_model = MMDataParallel(model, device_ids=[0])\n",
    "\n",
    "outputs = single_gpu_test(md_model, data_loader)\n",
    "eval_config = cfg.evaluation\n",
    "eval_config.pop('interval',None)\n",
    "eval_res = dataset.evaluate(outputs, **eval_config)\n",
    "for name, val in eval_res.items():\n",
    "    print(f'{name}: {val:.04f}')"
   ],
   "metadata": {
    "collapsed": false,
    "pycharm": {
     "name": "#%%\n"
    }
   }
  },
  {
   "cell_type": "code",
   "execution_count": null,
   "outputs": [],
   "source": [
    "data_loader"
   ],
   "metadata": {
    "collapsed": false,
    "pycharm": {
     "name": "#%%\n"
    }
   }
  },
  {
   "cell_type": "code",
   "execution_count": null,
   "outputs": [],
   "source": [
    "imgs =[]\n",
    "labels = []\n",
    "for d in data_loader:\n",
    "    imgs.append(d['imgs'].to(torch.device('cuda')))\n",
    "    labels.append(d['label'].to(torch.device('cuda')))\n",
    "labels = torch.stack(labels)\n",
    "# imgs = imgs.view(imgs.size(0),imgs.size(1),imgs.size(-2),imgs.size(-1),imgs.size(2))"
   ],
   "metadata": {
    "collapsed": false,
    "pycharm": {
     "name": "#%%\n"
    }
   }
  },
  {
   "cell_type": "code",
   "execution_count": null,
   "outputs": [],
   "source": [
    "!pwd"
   ],
   "metadata": {
    "collapsed": false,
    "pycharm": {
     "name": "#%%\n"
    }
   }
  },
  {
   "cell_type": "code",
   "execution_count": null,
   "outputs": [],
   "source": [
    "\n",
    "!rm -rf adversarial-robustness-toolbox\n",
    "!rm -rf adversarial_robustness_toolbox\n",
    "!git clone https://github.com/gabeorlanski/adversarial-robustness-toolbox.git\n",
    "\n",
    "%cd adversarial-robustness-toolbox/\n",
    "!git fetch\n",
    "!git checkout current_over_the_air\n",
    "%cd ..\n",
    "!mv adversarial-robustness-toolbox adversarial_robustness_toolbox "
   ],
   "metadata": {
    "collapsed": false,
    "pycharm": {
     "name": "#%%\n"
    }
   }
  },
  {
   "cell_type": "code",
   "execution_count": null,
   "outputs": [],
   "source": [
    "from scipy.special import expit\n",
    "from adversarial_robustness_toolbox.over_the_air import paper_equations\n",
    "from importlib import reload\n",
    "from tqdm.notebook import tqdm\n",
    "torch.manual_seed(2020)\n",
    "reload(paper_equations)\n",
    "import numpy as np\n",
    "from torch import nn\n",
    "delta = nn.parameter.Parameter(torch.zeros(imgs[0].shape[1],3,1,1).normal_(mean=0.,std=.2).to(torch.device('cuda')),requires_grad=True)\n",
    "optimizer = torch.optim.AdamW([delta],lr=1.)\n",
    "schedueler = torch.optim.lr_scheduler.StepLR(optimizer, 10)\n",
    "for i in tqdm(range(200)):\n",
    "    optimizer.zero_grad()\n",
    "    preds = []\n",
    "    with torch.no_grad():\n",
    "        for vid in imgs:\n",
    "            preds.append(expit(model(vid+delta,return_loss=False)))\n",
    "    preds = torch.tensor(preds).to(torch.device('cuda')).squeeze(1)\n",
    "    loss = paper_equations.objectiveFunc(\n",
    "        preds,\n",
    "        labels.squeeze(1),\n",
    "        delta,\n",
    "        .6,\n",
    "        1,\n",
    "        1,\n",
    "        .25\n",
    "    )\n",
    "    if (i+1) % 5 == 0:\n",
    "        tqdm.write(f\"Epoch {i+1:>4}: Loss {loss:.7f}\")\n",
    "    loss.backward()\n",
    "    optimizer.step()\n",
    "    schedueler.step()\n",
    "    "
   ],
   "metadata": {
    "collapsed": false,
    "pycharm": {
     "name": "#%%\n"
    }
   }
  },
  {
   "cell_type": "code",
   "execution_count": null,
   "outputs": [],
   "source": [
    "preds = []\n",
    "with torch.no_grad():\n",
    "    for vid in imgs:\n",
    "        preds.append(np.argmax(expit(model(vid+delta,return_loss=False)),axis=1))\n",
    "print(f\"Original:\")\n",
    "eval_config = cfg.evaluation\n",
    "eval_config.pop('interval',None)\n",
    "eval_res = dataset.evaluate(outputs, **eval_config)\n",
    "for name, val in eval_res.items():\n",
    "    print(f'{name}: {val:.04f}')\n",
    "print(f\"\\n\\n\\nAttack:\")\n",
    "eval_res = dataset.evaluate(preds, **eval_config)\n",
    "for name, val in eval_res.items():\n",
    "    print(f'{name}: {val:.04f}')"
   ],
   "metadata": {
    "collapsed": false,
    "pycharm": {
     "name": "#%%\n"
    }
   }
  },
  {
   "cell_type": "code",
   "execution_count": null,
   "outputs": [],
   "source": [
    "torch.norm(delta)"
   ],
   "metadata": {
    "collapsed": false,
    "pycharm": {
     "name": "#%%\n"
    }
   }
  },
  {
   "cell_type": "code",
   "execution_count": null,
   "outputs": [],
   "source": [],
   "metadata": {
    "collapsed": false,
    "pycharm": {
     "name": "#%%\n"
    }
   }
  },
  {
   "cell_type": "code",
   "metadata": {
    "id": "eyY3hCMwyTct",
    "colab": {
     "base_uri": "https://localhost:8080/"
    },
    "outputId": "95b40b91-e325-41b8-d4e2-8b5874b2bbba"
   },
   "source": [],
   "execution_count": 15,
   "outputs": [
    {
     "output_type": "stream",
     "text": [
      "[>>>>>>>>>>>>>>>>>>>>>>>>>>>>>>>>>] 10/10, 3.1 task/s, elapsed: 3s, ETA:     0s\n",
      "Evaluating top_k_accuracy ...\n",
      "\n",
      "top1_acc\t1.0000\n",
      "top5_acc\t1.0000\n",
      "\n",
      "Evaluating mean_class_accuracy ...\n",
      "\n",
      "mean_acc\t1.0000\n",
      "top1_acc: 1.0000\n",
      "top5_acc: 1.0000\n",
      "mean_class_accuracy: 1.0000\n"
     ],
     "name": "stdout"
    }
   ]
  },
  {
   "cell_type": "code",
   "metadata": {
    "id": "obqm8qUQCDl-",
    "colab": {
     "base_uri": "https://localhost:8080/"
    },
    "outputId": "b9eb772c-1410-4dd8-c8e4-c049ea47fabb"
   },
   "source": [
    "data_loader"
   ],
   "execution_count": 16,
   "outputs": [
    {
     "output_type": "execute_result",
     "data": {
      "text/plain": [
       "<torch.utils.data.dataloader.DataLoader at 0x7f3cd03e8150>"
      ]
     },
     "metadata": {
      "tags": []
     },
     "execution_count": 16
    }
   ]
  },
  {
   "cell_type": "code",
   "metadata": {
    "id": "EeoDjGRxCFdj"
   },
   "source": [
    "imgs =[]\n",
    "labels = []\n",
    "for d in data_loader:\n",
    "    imgs.append(d['imgs'].to(torch.device('cuda')))\n",
    "    labels.append(d['label'].to(torch.device('cuda')))\n",
    "labels = torch.stack(labels)\n",
    "# imgs = imgs.view(imgs.size(0),imgs.size(1),imgs.size(-2),imgs.size(-1),imgs.size(2))"
   ],
   "execution_count": 17,
   "outputs": []
  },
  {
   "cell_type": "code",
   "metadata": {
    "id": "55493FZUCSrT",
    "colab": {
     "base_uri": "https://localhost:8080/"
    },
    "outputId": "516de09f-4698-4383-951f-21239caebe5e"
   },
   "source": [
    "!pwd"
   ],
   "execution_count": 18,
   "outputs": [
    {
     "output_type": "stream",
     "text": [
      "/content/mmaction2\n"
     ],
     "name": "stdout"
    }
   ]
  },
  {
   "cell_type": "code",
   "metadata": {
    "colab": {
     "base_uri": "https://localhost:8080/"
    },
    "id": "3CULq0XtK0iw",
    "outputId": "560473ec-689a-4bbe-dd29-0c3efc69e8b0"
   },
   "source": [
    "\n",
    "!rm -rf adversarial-robustness-toolbox\n",
    "!rm -rf adversarial_robustness_toolbox\n",
    "!git clone https://github.com/gabeorlanski/adversarial-robustness-toolbox.git\n",
    "\n",
    "%cd adversarial-robustness-toolbox/\n",
    "!git fetch\n",
    "!git checkout current_over_the_air\n",
    "%cd ..\n",
    "!mv adversarial-robustness-toolbox adversarial_robustness_toolbox "
   ],
   "execution_count": 19,
   "outputs": [
    {
     "output_type": "stream",
     "text": [
      "Cloning into 'adversarial-robustness-toolbox'...\n",
      "remote: Enumerating objects: 73, done.\u001B[K\n",
      "remote: Counting objects: 100% (73/73), done.\u001B[K\n",
      "remote: Compressing objects: 100% (45/45), done.\u001B[K\n",
      "remote: Total 54047 (delta 42), reused 56 (delta 28), pack-reused 53974\u001B[K\n",
      "Receiving objects: 100% (54047/54047), 185.40 MiB | 26.36 MiB/s, done.\n",
      "Resolving deltas: 100% (42707/42707), done.\n",
      "/content/mmaction2/adversarial-robustness-toolbox\n",
      "Branch 'current_over_the_air' set up to track remote branch 'current_over_the_air' from 'origin'.\n",
      "Switched to a new branch 'current_over_the_air'\n",
      "/content/mmaction2\n"
     ],
     "name": "stdout"
    }
   ]
  },
  {
   "cell_type": "code",
   "metadata": {
    "id": "LZjhUkMrCVVz",
    "colab": {
     "base_uri": "https://localhost:8080/",
     "height": 746,
     "referenced_widgets": [
      "53f44acc51e14771b7afd0a682fa8246",
      "a52877ea63ef425eafa4aaa8f8f24b2a",
      "fcf2a15a775049afa1d5c4482c5272e6",
      "ce09c1d39b24466e8079f52680c6efcf",
      "6ff9837cca0f41cc91435eedf2f13e66",
      "6bd037bb94904e49a6c72ec9fa7a47a3",
      "1f146c6a404c453baf2b2fbef190b0fc",
      "998097c2406445369c924247250fffd2"
     ]
    },
    "outputId": "9bab87e7-00d0-4a86-9ae4-2db3fdc17678"
   },
   "source": [
    "from scipy.special import expit\n",
    "from adversarial_robustness_toolbox.over_the_air import paper_equations\n",
    "from importlib import reload\n",
    "from tqdm.notebook import tqdm\n",
    "torch.manual_seed(2020)\n",
    "reload(paper_equations)\n",
    "import numpy as np\n",
    "from torch import nn\n",
    "delta = nn.parameter.Parameter(torch.zeros(imgs[0].shape[1],3,1,1).normal_(mean=0.,std=.2).to(torch.device('cuda')),requires_grad=True)\n",
    "optimizer = torch.optim.AdamW([delta],lr=1.)\n",
    "schedueler = torch.optim.lr_scheduler.StepLR(optimizer, 10)\n",
    "for i in tqdm(range(200)):\n",
    "    optimizer.zero_grad()\n",
    "    preds = []\n",
    "    with torch.no_grad():\n",
    "        for vid in imgs:\n",
    "            preds.append(expit(model(vid+delta,return_loss=False)))\n",
    "    preds = torch.tensor(preds).to(torch.device('cuda')).squeeze(1)\n",
    "    loss = paper_equations.objectiveFunc(\n",
    "        preds,\n",
    "        labels.squeeze(1),\n",
    "        delta,\n",
    "        .6,\n",
    "        1,\n",
    "        1,\n",
    "        .25\n",
    "    )\n",
    "    if (i+1) % 5 == 0:\n",
    "        tqdm.write(f\"Epoch {i+1:>4}: Loss {loss:.7f}\")\n",
    "    loss.backward()\n",
    "    optimizer.step()\n",
    "    schedueler.step()\n",
    "    "
   ],
   "execution_count": 43,
   "outputs": [
    {
     "output_type": "display_data",
     "data": {
      "application/vnd.jupyter.widget-view+json": {
       "model_id": "53f44acc51e14771b7afd0a682fa8246",
       "version_minor": 0,
       "version_major": 2
      },
      "text/plain": [
       "HBox(children=(FloatProgress(value=0.0, max=200.0), HTML(value='')))"
      ]
     },
     "metadata": {
      "tags": []
     }
    },
    {
     "output_type": "stream",
     "text": [
      "Epoch    5: Loss 2.8425488\n",
      "Epoch   10: Loss 1.6642926\n",
      "Epoch   15: Loss 0.8905990\n",
      "Epoch   20: Loss 0.5818062\n",
      "Epoch   25: Loss 0.5750446\n",
      "Epoch   30: Loss 0.5746544\n",
      "Epoch   35: Loss 0.5742632\n",
      "Epoch   40: Loss 0.5739527\n",
      "Epoch   45: Loss 0.5738468\n",
      "Epoch   50: Loss 0.5738005\n",
      "Epoch   55: Loss 0.5737864\n",
      "Epoch   60: Loss 0.5737810\n",
      "Epoch   65: Loss 0.5737793\n",
      "Epoch   70: Loss 0.5737788\n",
      "Epoch   75: Loss 0.5737786\n",
      "Epoch   80: Loss 0.5737786\n",
      "Epoch   85: Loss 0.5737785\n",
      "Epoch   90: Loss 0.5737785\n",
      "Epoch   95: Loss 0.5737785\n",
      "Epoch  100: Loss 0.5737785\n",
      "Epoch  105: Loss 0.5737785\n",
      "Epoch  110: Loss 0.5737785\n",
      "Epoch  115: Loss 0.5737785\n",
      "Epoch  120: Loss 0.5737785\n",
      "Epoch  125: Loss 0.5737785\n",
      "Epoch  130: Loss 0.5737785\n",
      "Epoch  135: Loss 0.5737785\n",
      "Epoch  140: Loss 0.5737785\n",
      "Epoch  145: Loss 0.5737785\n",
      "Epoch  150: Loss 0.5737785\n",
      "Epoch  155: Loss 0.5737785\n",
      "Epoch  160: Loss 0.5737785\n",
      "Epoch  165: Loss 0.5737785\n",
      "Epoch  170: Loss 0.5737785\n",
      "Epoch  175: Loss 0.5737785\n",
      "Epoch  180: Loss 0.5737785\n",
      "Epoch  185: Loss 0.5737785\n",
      "Epoch  190: Loss 0.5737785\n",
      "Epoch  195: Loss 0.5737785\n",
      "Epoch  200: Loss 0.5737785\n",
      "\n"
     ],
     "name": "stdout"
    }
   ]
  },
  {
   "cell_type": "code",
   "metadata": {
    "id": "00LP9c6qEYpE",
    "colab": {
     "base_uri": "https://localhost:8080/"
    },
    "outputId": "dc46dc1d-6fbd-45a1-d5f2-b8c3098175d4"
   },
   "source": [
    "preds = []\n",
    "with torch.no_grad():\n",
    "    for vid in imgs:\n",
    "        preds.append(np.argmax(expit(model(vid+delta,return_loss=False)),axis=1))\n",
    "print(f\"Original:\")\n",
    "eval_config = cfg.evaluation\n",
    "eval_config.pop('interval',None)\n",
    "eval_res = dataset.evaluate(outputs, **eval_config)\n",
    "for name, val in eval_res.items():\n",
    "    print(f'{name}: {val:.04f}')\n",
    "print(f\"\\n\\n\\nAttack:\")\n",
    "eval_res = dataset.evaluate(preds, **eval_config)\n",
    "for name, val in eval_res.items():\n",
    "    print(f'{name}: {val:.04f}')"
   ],
   "execution_count": 38,
   "outputs": [
    {
     "output_type": "stream",
     "text": [
      "Original:\n",
      "\n",
      "Evaluating top_k_accuracy ...\n",
      "\n",
      "top1_acc\t1.0000\n",
      "top5_acc\t1.0000\n",
      "\n",
      "Evaluating mean_class_accuracy ...\n",
      "\n",
      "mean_acc\t1.0000\n",
      "top1_acc: 1.0000\n",
      "top5_acc: 1.0000\n",
      "mean_class_accuracy: 1.0000\n",
      "\n",
      "\n",
      "\n",
      "Attack:\n",
      "\n",
      "Evaluating top_k_accuracy ...\n",
      "\n",
      "top1_acc\t0.5000\n",
      "top5_acc\t0.5000\n",
      "\n",
      "Evaluating mean_class_accuracy ...\n",
      "\n",
      "mean_acc\t0.5000\n",
      "top1_acc: 0.5000\n",
      "top5_acc: 0.5000\n",
      "mean_class_accuracy: 0.5000\n"
     ],
     "name": "stdout"
    }
   ]
  },
  {
   "cell_type": "code",
   "metadata": {
    "colab": {
     "base_uri": "https://localhost:8080/"
    },
    "id": "YHc0ngx8XFLk",
    "outputId": "543a2bbd-bc77-422a-ec6e-7846fa5d5490"
   },
   "source": [
    "torch.norm(delta)"
   ],
   "execution_count": 44,
   "outputs": [
    {
     "output_type": "execute_result",
     "data": {
      "text/plain": [
       "tensor(0.7349, device='cuda:0', grad_fn=<NormBackward0>)"
      ]
     },
     "metadata": {
      "tags": []
     },
     "execution_count": 44
    }
   ]
  },
  {
   "cell_type": "code",
   "metadata": {
    "id": "-VR9EUPXYXNs"
   },
   "source": [
    ""
   ],
   "execution_count": null,
   "outputs": []
  }
 ]
}
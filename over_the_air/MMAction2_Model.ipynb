{
 "nbformat": 4,
 "nbformat_minor": 0,
 "metadata": {
  "colab": {
   "name": "MMAction2 Model",
   "provenance": [],
   "collapsed_sections": [],
   "toc_visible": true
  },
  "kernelspec": {
   "name": "python3",
   "display_name": "Python 3"
  },
  "accelerator": "GPU",
  "widgets": {
   "application/vnd.jupyter.widget-state+json": {
    "9986c4ab8ba049b589808a2bfc0e42ae": {
     "model_module": "@jupyter-widgets/controls",
     "model_name": "HBoxModel",
     "state": {
      "_view_name": "HBoxView",
      "_dom_classes": [],
      "_model_name": "HBoxModel",
      "_view_module": "@jupyter-widgets/controls",
      "_model_module_version": "1.5.0",
      "_view_count": null,
      "_view_module_version": "1.5.0",
      "box_style": "",
      "layout": "IPY_MODEL_82c68f9d5eaa48689c86cf1ab22d774d",
      "_model_module": "@jupyter-widgets/controls",
      "children": [
       "IPY_MODEL_fcd752d2aa6a4941905dc1e590945e5c",
       "IPY_MODEL_ea996ea905c74c8db8ba3afe0ff289b6"
      ]
     }
    },
    "82c68f9d5eaa48689c86cf1ab22d774d": {
     "model_module": "@jupyter-widgets/base",
     "model_name": "LayoutModel",
     "state": {
      "_view_name": "LayoutView",
      "grid_template_rows": null,
      "right": null,
      "justify_content": null,
      "_view_module": "@jupyter-widgets/base",
      "overflow": null,
      "_model_module_version": "1.2.0",
      "_view_count": null,
      "flex_flow": null,
      "width": null,
      "min_width": null,
      "border": null,
      "align_items": null,
      "bottom": null,
      "_model_module": "@jupyter-widgets/base",
      "top": null,
      "grid_column": null,
      "overflow_y": null,
      "overflow_x": null,
      "grid_auto_flow": null,
      "grid_area": null,
      "grid_template_columns": null,
      "flex": null,
      "_model_name": "LayoutModel",
      "justify_items": null,
      "grid_row": null,
      "max_height": null,
      "align_content": null,
      "visibility": null,
      "align_self": null,
      "height": null,
      "min_height": null,
      "padding": null,
      "grid_auto_rows": null,
      "grid_gap": null,
      "max_width": null,
      "order": null,
      "_view_module_version": "1.2.0",
      "grid_template_areas": null,
      "object_position": null,
      "object_fit": null,
      "grid_auto_columns": null,
      "margin": null,
      "display": null,
      "left": null
     }
    },
    "fcd752d2aa6a4941905dc1e590945e5c": {
     "model_module": "@jupyter-widgets/controls",
     "model_name": "FloatProgressModel",
     "state": {
      "_view_name": "ProgressView",
      "style": "IPY_MODEL_672a79ab05104a3c9943c897d8c112fb",
      "_dom_classes": [],
      "description": "100%",
      "_model_name": "FloatProgressModel",
      "bar_style": "success",
      "max": 102502400,
      "_view_module": "@jupyter-widgets/controls",
      "_model_module_version": "1.5.0",
      "value": 102502400,
      "_view_count": null,
      "_view_module_version": "1.5.0",
      "orientation": "horizontal",
      "min": 0,
      "description_tooltip": null,
      "_model_module": "@jupyter-widgets/controls",
      "layout": "IPY_MODEL_7b17160a77914716a5a073bacf4686df"
     }
    },
    "ea996ea905c74c8db8ba3afe0ff289b6": {
     "model_module": "@jupyter-widgets/controls",
     "model_name": "HTMLModel",
     "state": {
      "_view_name": "HTMLView",
      "style": "IPY_MODEL_42f592963d9b4c7cad8b5ec08309549e",
      "_dom_classes": [],
      "description": "",
      "_model_name": "HTMLModel",
      "placeholder": "​",
      "_view_module": "@jupyter-widgets/controls",
      "_model_module_version": "1.5.0",
      "value": " 97.8M/97.8M [00:08&lt;00:00, 12.3MB/s]",
      "_view_count": null,
      "_view_module_version": "1.5.0",
      "description_tooltip": null,
      "_model_module": "@jupyter-widgets/controls",
      "layout": "IPY_MODEL_ba504f6b81f44e8cacb89225e78331cc"
     }
    },
    "672a79ab05104a3c9943c897d8c112fb": {
     "model_module": "@jupyter-widgets/controls",
     "model_name": "ProgressStyleModel",
     "state": {
      "_view_name": "StyleView",
      "_model_name": "ProgressStyleModel",
      "description_width": "initial",
      "_view_module": "@jupyter-widgets/base",
      "_model_module_version": "1.5.0",
      "_view_count": null,
      "_view_module_version": "1.2.0",
      "bar_color": null,
      "_model_module": "@jupyter-widgets/controls"
     }
    },
    "7b17160a77914716a5a073bacf4686df": {
     "model_module": "@jupyter-widgets/base",
     "model_name": "LayoutModel",
     "state": {
      "_view_name": "LayoutView",
      "grid_template_rows": null,
      "right": null,
      "justify_content": null,
      "_view_module": "@jupyter-widgets/base",
      "overflow": null,
      "_model_module_version": "1.2.0",
      "_view_count": null,
      "flex_flow": null,
      "width": null,
      "min_width": null,
      "border": null,
      "align_items": null,
      "bottom": null,
      "_model_module": "@jupyter-widgets/base",
      "top": null,
      "grid_column": null,
      "overflow_y": null,
      "overflow_x": null,
      "grid_auto_flow": null,
      "grid_area": null,
      "grid_template_columns": null,
      "flex": null,
      "_model_name": "LayoutModel",
      "justify_items": null,
      "grid_row": null,
      "max_height": null,
      "align_content": null,
      "visibility": null,
      "align_self": null,
      "height": null,
      "min_height": null,
      "padding": null,
      "grid_auto_rows": null,
      "grid_gap": null,
      "max_width": null,
      "order": null,
      "_view_module_version": "1.2.0",
      "grid_template_areas": null,
      "object_position": null,
      "object_fit": null,
      "grid_auto_columns": null,
      "margin": null,
      "display": null,
      "left": null
     }
    },
    "42f592963d9b4c7cad8b5ec08309549e": {
     "model_module": "@jupyter-widgets/controls",
     "model_name": "DescriptionStyleModel",
     "state": {
      "_view_name": "StyleView",
      "_model_name": "DescriptionStyleModel",
      "description_width": "",
      "_view_module": "@jupyter-widgets/base",
      "_model_module_version": "1.5.0",
      "_view_count": null,
      "_view_module_version": "1.2.0",
      "_model_module": "@jupyter-widgets/controls"
     }
    },
    "ba504f6b81f44e8cacb89225e78331cc": {
     "model_module": "@jupyter-widgets/base",
     "model_name": "LayoutModel",
     "state": {
      "_view_name": "LayoutView",
      "grid_template_rows": null,
      "right": null,
      "justify_content": null,
      "_view_module": "@jupyter-widgets/base",
      "overflow": null,
      "_model_module_version": "1.2.0",
      "_view_count": null,
      "flex_flow": null,
      "width": null,
      "min_width": null,
      "border": null,
      "align_items": null,
      "bottom": null,
      "_model_module": "@jupyter-widgets/base",
      "top": null,
      "grid_column": null,
      "overflow_y": null,
      "overflow_x": null,
      "grid_auto_flow": null,
      "grid_area": null,
      "grid_template_columns": null,
      "flex": null,
      "_model_name": "LayoutModel",
      "justify_items": null,
      "grid_row": null,
      "max_height": null,
      "align_content": null,
      "visibility": null,
      "align_self": null,
      "height": null,
      "min_height": null,
      "padding": null,
      "grid_auto_rows": null,
      "grid_gap": null,
      "max_width": null,
      "order": null,
      "_view_module_version": "1.2.0",
      "grid_template_areas": null,
      "object_position": null,
      "object_fit": null,
      "grid_auto_columns": null,
      "margin": null,
      "display": null,
      "left": null
     }
    }
   }
  }
 },
 "cells": [
  {
   "cell_type": "markdown",
   "metadata": {
    "id": "VcjSRFELVbNk"
   },
   "source": [
    "This originally was the MMAction2 Tutorial. I gutted it for our purposes"
   ]
  },
  {
   "cell_type": "code",
   "metadata": {
    "id": "Bf8PpPXtVvmg",
    "colab": {
     "base_uri": "https://localhost:8080/"
    },
    "outputId": "250e2614-10f2-4fb3-97a6-e74c9d47da84"
   },
   "source": [
    "# Check nvcc version\n",
    "!nvcc -V\n",
    "# Check GCC version\n",
    "!gcc --version"
   ],
   "execution_count": 1,
   "outputs": [
    {
     "output_type": "stream",
     "text": [
      "nvcc: NVIDIA (R) Cuda compiler driver\n",
      "Copyright (c) 2005-2020 NVIDIA Corporation\n",
      "Built on Wed_Jul_22_19:09:09_PDT_2020\n",
      "Cuda compilation tools, release 11.0, V11.0.221\n",
      "Build cuda_11.0_bu.TC445_37.28845127_0\n",
      "gcc (Ubuntu 7.5.0-3ubuntu1~18.04) 7.5.0\n",
      "Copyright (C) 2017 Free Software Foundation, Inc.\n",
      "This is free software; see the source for copying conditions.  There is NO\n",
      "warranty; not even for MERCHANTABILITY or FITNESS FOR A PARTICULAR PURPOSE.\n",
      "\n"
     ],
     "name": "stdout"
    }
   ]
  },
  {
   "cell_type": "code",
   "metadata": {
    "id": "5PAJ4ArzV5Ry",
    "colab": {
     "base_uri": "https://localhost:8080/",
     "height": 1000
    },
    "outputId": "3ed633ee-0a9a-481e-8df1-aea7649bb9a0"
   },
   "source": [
    "# install dependencies: (use cu101 because colab has CUDA 10.1)\n",
    "!pip install -U torch==1.5.1+cu101 torchvision==0.6.1+cu101 -f https://download.pytorch.org/whl/torch_stable.html\n",
    "\n",
    "# install mmcv-full thus we could use CUDA operators\n",
    "!pip install mmcv-full==latest+torch1.5.0+cu101 -f https://download.openmmlab.com/mmcv/dist/index.html\n",
    "\n",
    "# Install mmaction2\n",
    "!rm -rf mmaction2\n",
    "!git clone https://github.com/open-mmlab/mmaction2.git\n",
    "%cd mmaction2\n",
    "\n",
    "!pip install -e .\n",
    "\n",
    "# Install some optional requirements\n",
    "!pip install -r requirements/optional.txt"
   ],
   "execution_count": 2,
   "outputs": [
    {
     "output_type": "stream",
     "text": [
      "Looking in links: https://download.pytorch.org/whl/torch_stable.html\n",
      "Collecting torch==1.5.1+cu101\n",
      "\u001B[?25l  Downloading https://download.pytorch.org/whl/cu101/torch-1.5.1%2Bcu101-cp37-cp37m-linux_x86_64.whl (704.4MB)\n",
      "\u001B[K     |████████████████████████████████| 704.4MB 25kB/s \n",
      "\u001B[?25hCollecting torchvision==0.6.1+cu101\n",
      "\u001B[?25l  Downloading https://download.pytorch.org/whl/cu101/torchvision-0.6.1%2Bcu101-cp37-cp37m-linux_x86_64.whl (6.6MB)\n",
      "\u001B[K     |████████████████████████████████| 6.7MB 37.8MB/s \n",
      "\u001B[?25hRequirement already satisfied, skipping upgrade: numpy in /usr/local/lib/python3.7/dist-packages (from torch==1.5.1+cu101) (1.19.5)\n",
      "Requirement already satisfied, skipping upgrade: future in /usr/local/lib/python3.7/dist-packages (from torch==1.5.1+cu101) (0.16.0)\n",
      "Requirement already satisfied, skipping upgrade: pillow>=4.1.1 in /usr/local/lib/python3.7/dist-packages (from torchvision==0.6.1+cu101) (7.0.0)\n",
      "Installing collected packages: torch, torchvision\n",
      "  Found existing installation: torch 1.7.1+cu101\n",
      "    Uninstalling torch-1.7.1+cu101:\n",
      "      Successfully uninstalled torch-1.7.1+cu101\n",
      "  Found existing installation: torchvision 0.8.2+cu101\n",
      "    Uninstalling torchvision-0.8.2+cu101:\n",
      "      Successfully uninstalled torchvision-0.8.2+cu101\n",
      "Successfully installed torch-1.5.1+cu101 torchvision-0.6.1+cu101\n",
      "Looking in links: https://download.openmmlab.com/mmcv/dist/index.html\n",
      "Collecting mmcv-full==latest+torch1.5.0+cu101\n",
      "\u001B[?25l  Downloading https://download.openmmlab.com/mmcv/dist/latest/torch1.5.0/cu101/mmcv_full-latest%2Btorch1.5.0%2Bcu101-cp37-cp37m-manylinux1_x86_64.whl (23.6MB)\n",
      "\u001B[K     |████████████████████████████████| 23.6MB 1.3MB/s \n",
      "\u001B[?25hRequirement already satisfied: opencv-python>=3 in /usr/local/lib/python3.7/dist-packages (from mmcv-full==latest+torch1.5.0+cu101) (4.1.2.30)\n",
      "Requirement already satisfied: Pillow in /usr/local/lib/python3.7/dist-packages (from mmcv-full==latest+torch1.5.0+cu101) (7.0.0)\n",
      "Requirement already satisfied: numpy in /usr/local/lib/python3.7/dist-packages (from mmcv-full==latest+torch1.5.0+cu101) (1.19.5)\n",
      "Collecting yapf\n",
      "\u001B[?25l  Downloading https://files.pythonhosted.org/packages/c1/5d/d84677fe852bc5e091739acda444a9b6700ffc6b11a21b00dd244c8caef0/yapf-0.30.0-py2.py3-none-any.whl (190kB)\n",
      "\u001B[K     |████████████████████████████████| 194kB 4.9MB/s \n",
      "\u001B[?25hCollecting addict\n",
      "  Downloading https://files.pythonhosted.org/packages/6a/00/b08f23b7d7e1e14ce01419a467b583edbb93c6cdb8654e54a9cc579cd61f/addict-2.4.0-py3-none-any.whl\n",
      "Requirement already satisfied: pyyaml in /usr/local/lib/python3.7/dist-packages (from mmcv-full==latest+torch1.5.0+cu101) (3.13)\n",
      "Installing collected packages: yapf, addict, mmcv-full\n",
      "Successfully installed addict-2.4.0 mmcv-full-1.2.7 yapf-0.30.0\n",
      "Cloning into 'mmaction2'...\n",
      "remote: Enumerating objects: 32, done.\u001B[K\n",
      "remote: Counting objects: 100% (32/32), done.\u001B[K\n",
      "remote: Compressing objects: 100% (30/30), done.\u001B[K\n",
      "remote: Total 9608 (delta 9), reused 8 (delta 2), pack-reused 9576\u001B[K\n",
      "Receiving objects: 100% (9608/9608), 35.67 MiB | 20.73 MiB/s, done.\n",
      "Resolving deltas: 100% (6813/6813), done.\n",
      "/content/mmaction2\n",
      "Obtaining file:///content/mmaction2\n",
      "Requirement already satisfied: matplotlib in /usr/local/lib/python3.7/dist-packages (from mmaction2==0.12.0) (3.2.2)\n",
      "Requirement already satisfied: numpy in /usr/local/lib/python3.7/dist-packages (from mmaction2==0.12.0) (1.19.5)\n",
      "Requirement already satisfied: opencv-contrib-python in /usr/local/lib/python3.7/dist-packages (from mmaction2==0.12.0) (4.1.2.30)\n",
      "Requirement already satisfied: Pillow in /usr/local/lib/python3.7/dist-packages (from mmaction2==0.12.0) (7.0.0)\n",
      "Requirement already satisfied: pyparsing!=2.0.4,!=2.1.2,!=2.1.6,>=2.0.1 in /usr/local/lib/python3.7/dist-packages (from matplotlib->mmaction2==0.12.0) (2.4.7)\n",
      "Requirement already satisfied: cycler>=0.10 in /usr/local/lib/python3.7/dist-packages (from matplotlib->mmaction2==0.12.0) (0.10.0)\n",
      "Requirement already satisfied: kiwisolver>=1.0.1 in /usr/local/lib/python3.7/dist-packages (from matplotlib->mmaction2==0.12.0) (1.3.1)\n",
      "Requirement already satisfied: python-dateutil>=2.1 in /usr/local/lib/python3.7/dist-packages (from matplotlib->mmaction2==0.12.0) (2.8.1)\n",
      "Requirement already satisfied: six in /usr/local/lib/python3.7/dist-packages (from cycler>=0.10->matplotlib->mmaction2==0.12.0) (1.15.0)\n",
      "Installing collected packages: mmaction2\n",
      "  Running setup.py develop for mmaction2\n",
      "Successfully installed mmaction2\n",
      "Collecting av\n",
      "\u001B[?25l  Downloading https://files.pythonhosted.org/packages/66/ff/bacde7314c646a2bd2f240034809a10cc3f8b096751284d0828640fff3dd/av-8.0.3-cp37-cp37m-manylinux2010_x86_64.whl (37.2MB)\n",
      "\u001B[K     |████████████████████████████████| 37.2MB 91kB/s \n",
      "\u001B[?25hCollecting decord>=0.4.1\n",
      "\u001B[?25l  Downloading https://files.pythonhosted.org/packages/64/5e/e2be6a3a3a46275059574d9c6a1d422aa6c7c3cbf6614939b8a3c3f8f2d5/decord-0.5.2-py3-none-manylinux2010_x86_64.whl (14.1MB)\n",
      "\u001B[K     |████████████████████████████████| 14.1MB 27.1MB/s \n",
      "\u001B[?25hRequirement already satisfied: imgaug in /usr/local/lib/python3.7/dist-packages (from -r requirements/optional.txt (line 3)) (0.2.9)\n",
      "Requirement already satisfied: librosa in /usr/local/lib/python3.7/dist-packages (from -r requirements/optional.txt (line 4)) (0.8.0)\n",
      "Requirement already satisfied: lmdb in /usr/local/lib/python3.7/dist-packages (from -r requirements/optional.txt (line 5)) (0.99)\n",
      "Requirement already satisfied: moviepy in /usr/local/lib/python3.7/dist-packages (from -r requirements/optional.txt (line 6)) (0.2.3.5)\n",
      "Collecting onnx\n",
      "\u001B[?25l  Downloading https://files.pythonhosted.org/packages/38/57/65f48111f823df02da3e391b0b1aaadaf9972f8aa68ab3a41f46d59f57fe/onnx-1.8.1-cp37-cp37m-manylinux2010_x86_64.whl (14.5MB)\n",
      "\u001B[K     |████████████████████████████████| 14.5MB 296kB/s \n",
      "\u001B[?25hCollecting onnxruntime\n",
      "\u001B[?25l  Downloading https://files.pythonhosted.org/packages/0c/f0/666d6e3ceaa276a54e728f9972732e058544cbb6a3e1a778a8d6f87132c1/onnxruntime-1.7.0-cp37-cp37m-manylinux2014_x86_64.whl (4.1MB)\n",
      "\u001B[K     |████████████████████████████████| 4.1MB 35.1MB/s \n",
      "\u001B[?25hCollecting PyTurboJPEG\n",
      "  Downloading https://files.pythonhosted.org/packages/9d/f5/6106c673096b1bc1af716bbc9b17e542c77ccad5fafd150afb91ff18a6e8/PyTurboJPEG-1.4.1.tar.gz\n",
      "Requirement already satisfied: numpy>=1.14.0 in /usr/local/lib/python3.7/dist-packages (from decord>=0.4.1->-r requirements/optional.txt (line 2)) (1.19.5)\n",
      "Requirement already satisfied: scipy in /usr/local/lib/python3.7/dist-packages (from imgaug->-r requirements/optional.txt (line 3)) (1.4.1)\n",
      "Requirement already satisfied: imageio in /usr/local/lib/python3.7/dist-packages (from imgaug->-r requirements/optional.txt (line 3)) (2.4.1)\n",
      "Requirement already satisfied: matplotlib in /usr/local/lib/python3.7/dist-packages (from imgaug->-r requirements/optional.txt (line 3)) (3.2.2)\n",
      "Requirement already satisfied: Pillow in /usr/local/lib/python3.7/dist-packages (from imgaug->-r requirements/optional.txt (line 3)) (7.0.0)\n",
      "Requirement already satisfied: opencv-python in /usr/local/lib/python3.7/dist-packages (from imgaug->-r requirements/optional.txt (line 3)) (4.1.2.30)\n",
      "Requirement already satisfied: scikit-image>=0.11.0 in /usr/local/lib/python3.7/dist-packages (from imgaug->-r requirements/optional.txt (line 3)) (0.16.2)\n",
      "Requirement already satisfied: six in /usr/local/lib/python3.7/dist-packages (from imgaug->-r requirements/optional.txt (line 3)) (1.15.0)\n",
      "Requirement already satisfied: Shapely in /usr/local/lib/python3.7/dist-packages (from imgaug->-r requirements/optional.txt (line 3)) (1.7.1)\n",
      "Requirement already satisfied: audioread>=2.0.0 in /usr/local/lib/python3.7/dist-packages (from librosa->-r requirements/optional.txt (line 4)) (2.1.9)\n",
      "Requirement already satisfied: decorator>=3.0.0 in /usr/local/lib/python3.7/dist-packages (from librosa->-r requirements/optional.txt (line 4)) (4.4.2)\n",
      "Requirement already satisfied: numba>=0.43.0 in /usr/local/lib/python3.7/dist-packages (from librosa->-r requirements/optional.txt (line 4)) (0.51.2)\n",
      "Requirement already satisfied: soundfile>=0.9.0 in /usr/local/lib/python3.7/dist-packages (from librosa->-r requirements/optional.txt (line 4)) (0.10.3.post1)\n",
      "Requirement already satisfied: pooch>=1.0 in /usr/local/lib/python3.7/dist-packages (from librosa->-r requirements/optional.txt (line 4)) (1.3.0)\n",
      "Requirement already satisfied: joblib>=0.14 in /usr/local/lib/python3.7/dist-packages (from librosa->-r requirements/optional.txt (line 4)) (1.0.1)\n",
      "Requirement already satisfied: resampy>=0.2.2 in /usr/local/lib/python3.7/dist-packages (from librosa->-r requirements/optional.txt (line 4)) (0.2.2)\n",
      "Requirement already satisfied: scikit-learn!=0.19.0,>=0.14.0 in /usr/local/lib/python3.7/dist-packages (from librosa->-r requirements/optional.txt (line 4)) (0.22.2.post1)\n",
      "Requirement already satisfied: tqdm<5.0,>=4.11.2 in /usr/local/lib/python3.7/dist-packages (from moviepy->-r requirements/optional.txt (line 6)) (4.41.1)\n",
      "Requirement already satisfied: typing-extensions>=3.6.2.1 in /usr/local/lib/python3.7/dist-packages (from onnx->-r requirements/optional.txt (line 7)) (3.7.4.3)\n",
      "Requirement already satisfied: protobuf in /usr/local/lib/python3.7/dist-packages (from onnx->-r requirements/optional.txt (line 7)) (3.12.4)\n",
      "Requirement already satisfied: pyparsing!=2.0.4,!=2.1.2,!=2.1.6,>=2.0.1 in /usr/local/lib/python3.7/dist-packages (from matplotlib->imgaug->-r requirements/optional.txt (line 3)) (2.4.7)\n",
      "Requirement already satisfied: kiwisolver>=1.0.1 in /usr/local/lib/python3.7/dist-packages (from matplotlib->imgaug->-r requirements/optional.txt (line 3)) (1.3.1)\n",
      "Requirement already satisfied: cycler>=0.10 in /usr/local/lib/python3.7/dist-packages (from matplotlib->imgaug->-r requirements/optional.txt (line 3)) (0.10.0)\n",
      "Requirement already satisfied: python-dateutil>=2.1 in /usr/local/lib/python3.7/dist-packages (from matplotlib->imgaug->-r requirements/optional.txt (line 3)) (2.8.1)\n",
      "Requirement already satisfied: PyWavelets>=0.4.0 in /usr/local/lib/python3.7/dist-packages (from scikit-image>=0.11.0->imgaug->-r requirements/optional.txt (line 3)) (1.1.1)\n",
      "Requirement already satisfied: networkx>=2.0 in /usr/local/lib/python3.7/dist-packages (from scikit-image>=0.11.0->imgaug->-r requirements/optional.txt (line 3)) (2.5)\n",
      "Requirement already satisfied: setuptools in /usr/local/lib/python3.7/dist-packages (from numba>=0.43.0->librosa->-r requirements/optional.txt (line 4)) (54.0.0)\n",
      "Requirement already satisfied: llvmlite<0.35,>=0.34.0.dev0 in /usr/local/lib/python3.7/dist-packages (from numba>=0.43.0->librosa->-r requirements/optional.txt (line 4)) (0.34.0)\n",
      "Requirement already satisfied: cffi>=1.0 in /usr/local/lib/python3.7/dist-packages (from soundfile>=0.9.0->librosa->-r requirements/optional.txt (line 4)) (1.14.5)\n",
      "Requirement already satisfied: requests in /usr/local/lib/python3.7/dist-packages (from pooch>=1.0->librosa->-r requirements/optional.txt (line 4)) (2.23.0)\n",
      "Requirement already satisfied: appdirs in /usr/local/lib/python3.7/dist-packages (from pooch>=1.0->librosa->-r requirements/optional.txt (line 4)) (1.4.4)\n",
      "Requirement already satisfied: packaging in /usr/local/lib/python3.7/dist-packages (from pooch>=1.0->librosa->-r requirements/optional.txt (line 4)) (20.9)\n",
      "Requirement already satisfied: pycparser in /usr/local/lib/python3.7/dist-packages (from cffi>=1.0->soundfile>=0.9.0->librosa->-r requirements/optional.txt (line 4)) (2.20)\n",
      "Requirement already satisfied: urllib3!=1.25.0,!=1.25.1,<1.26,>=1.21.1 in /usr/local/lib/python3.7/dist-packages (from requests->pooch>=1.0->librosa->-r requirements/optional.txt (line 4)) (1.24.3)\n",
      "Requirement already satisfied: chardet<4,>=3.0.2 in /usr/local/lib/python3.7/dist-packages (from requests->pooch>=1.0->librosa->-r requirements/optional.txt (line 4)) (3.0.4)\n",
      "Requirement already satisfied: idna<3,>=2.5 in /usr/local/lib/python3.7/dist-packages (from requests->pooch>=1.0->librosa->-r requirements/optional.txt (line 4)) (2.10)\n",
      "Requirement already satisfied: certifi>=2017.4.17 in /usr/local/lib/python3.7/dist-packages (from requests->pooch>=1.0->librosa->-r requirements/optional.txt (line 4)) (2020.12.5)\n",
      "Building wheels for collected packages: PyTurboJPEG\n",
      "  Building wheel for PyTurboJPEG (setup.py) ... \u001B[?25l\u001B[?25hdone\n",
      "  Created wheel for PyTurboJPEG: filename=PyTurboJPEG-1.4.1-cp37-none-any.whl size=7002 sha256=4896e76ee62b526feb710596a0ce16b5d09be7e832217673f5f9a83485af074e\n",
      "  Stored in directory: /root/.cache/pip/wheels/c3/21/97/152eed6e60d59f1c432139dee7a2e89de44026ef1855b4c4d7\n",
      "Successfully built PyTurboJPEG\n",
      "Installing collected packages: av, decord, onnx, onnxruntime, PyTurboJPEG\n",
      "Successfully installed PyTurboJPEG-1.4.1 av-8.0.3 decord-0.5.2 onnx-1.8.1 onnxruntime-1.7.0\n"
     ],
     "name": "stdout"
    },
    {
     "output_type": "display_data",
     "data": {
      "application/vnd.colab-display-data+json": {
       "pip_warning": {
        "packages": [
         "numpy"
        ]
       }
      }
     },
     "metadata": {
      "tags": []
     }
    }
   ]
  },
  {
   "cell_type": "code",
   "metadata": {
    "id": "No_zZAFpWC-a",
    "colab": {
     "base_uri": "https://localhost:8080/"
    },
    "outputId": "457ff55e-dec8-4c9e-8ef7-9c2f03bfeb5c"
   },
   "source": [
    "# Check Pytorch installation\n",
    "import torch, torchvision\n",
    "print(torch.__version__, torch.cuda.is_available())\n",
    "\n",
    "# Check MMAction2 installation\n",
    "import mmaction\n",
    "print(mmaction.__version__)\n",
    "\n",
    "# Check MMCV installation\n",
    "from mmcv.ops import get_compiling_cuda_version, get_compiler_version\n",
    "print(get_compiling_cuda_version())\n",
    "print(get_compiler_version())"
   ],
   "execution_count": 3,
   "outputs": [
    {
     "output_type": "stream",
     "text": [
      "1.5.1+cu101 False\n",
      "No CUDA runtime is found, using CUDA_HOME='/usr/local/cuda'\n",
      "0.12.0\n",
      "10.1\n",
      "GCC 7.3\n"
     ],
     "name": "stdout"
    }
   ]
  },
  {
   "cell_type": "markdown",
   "metadata": {
    "id": "pXf7oV5DWdab"
   },
   "source": [
    "# Loading The Model From the Checkpoint\n",
    " "
   ]
  },
  {
   "cell_type": "code",
   "metadata": {
    "id": "64CW6d_AaT-Q",
    "colab": {
     "base_uri": "https://localhost:8080/"
    },
    "outputId": "fb3a3522-0443-43a0-9042-a240b972c533"
   },
   "source": [
    "!mkdir checkpoints\n",
    "!wget -c https://download.openmmlab.com/mmaction/recognition/tsn/tsn_r50_1x1x3_100e_kinetics400_rgb/tsn_r50_1x1x3_100e_kinetics400_rgb_20200614-e508be42.pth \\\n",
    "      -O checkpoints/tsn_r50_1x1x3_100e_kinetics400_rgb_20200614-e508be42.pth"
   ],
   "execution_count": null,
   "outputs": [
    {
     "output_type": "stream",
     "text": [
      "--2021-03-05 23:01:30--  https://download.openmmlab.com/mmaction/recognition/tsn/tsn_r50_1x1x3_100e_kinetics400_rgb/tsn_r50_1x1x3_100e_kinetics400_rgb_20200614-e508be42.pth\n",
      "Resolving download.openmmlab.com (download.openmmlab.com)... 47.252.96.35\n",
      "Connecting to download.openmmlab.com (download.openmmlab.com)|47.252.96.35|:443... connected.\n",
      "HTTP request sent, awaiting response... 200 OK\n",
      "Length: 97579339 (93M) [application/octet-stream]\n",
      "Saving to: ‘checkpoints/tsn_r50_1x1x3_100e_kinetics400_rgb_20200614-e508be42.pth’\n",
      "\n",
      "checkpoints/tsn_r50 100%[===================>]  93.06M  8.84MB/s    in 11s     \n",
      "\n",
      "2021-03-05 23:01:42 (8.71 MB/s) - ‘checkpoints/tsn_r50_1x1x3_100e_kinetics400_rgb_20200614-e508be42.pth’ saved [97579339/97579339]\n",
      "\n"
     ],
     "name": "stdout"
    }
   ]
  },
  {
   "cell_type": "code",
   "metadata": {
    "id": "HNZB7NoSabzj",
    "colab": {
     "base_uri": "https://localhost:8080/"
    },
    "outputId": "bdfc5ae2-012f-4dc6-f513-ccca9dd21b20"
   },
   "source": [
    "from mmaction.apis import inference_recognizer, init_recognizer\n",
    "\n",
    "# Choose to use a config and initialize the recognizer\n",
    "config = 'configs/recognition/tsn/tsn_r50_video_inference_1x1x3_100e_kinetics400_rgb.py'\n",
    "# Setup a checkpoint file to load\n",
    "checkpoint = 'checkpoints/tsn_r50_1x1x3_100e_kinetics400_rgb_20200614-e508be42.pth'\n",
    "# Initialize the recognizer\n",
    "model = init_recognizer(config, checkpoint, device='cuda:0')"
   ],
   "execution_count": null,
   "outputs": [
    {
     "output_type": "stream",
     "text": [
      "Use load_from_local loader\n"
     ],
     "name": "stdout"
    }
   ]
  },
  {
   "cell_type": "code",
   "metadata": {
    "id": "rEMsBnpHapAn"
   },
   "source": [
    "# Use the recognizer to do inference\n",
    "video = 'demo/demo.mp4'\n",
    "label = 'demo/label_map_k400.txt'\n",
    "results = inference_recognizer(model, video, label)"
   ],
   "execution_count": null,
   "outputs": []
  },
  {
   "cell_type": "code",
   "metadata": {
    "id": "NIyJXqfWathq",
    "colab": {
     "base_uri": "https://localhost:8080/"
    },
    "outputId": "f51b0a3d-6769-48fb-883d-663f7e6970cb"
   },
   "source": [
    "# Let's show the results\n",
    "for result in results:\n",
    "    print(f'{result[0]}: ', result[1])"
   ],
   "execution_count": null,
   "outputs": [
    {
     "output_type": "stream",
     "text": [
      "arm wrestling:  29.616438\n",
      "rock scissors paper:  10.754841\n",
      "shaking hands:  9.908401\n",
      "clapping:  9.189913\n",
      "massaging feet:  8.305306\n"
     ],
     "name": "stdout"
    }
   ]
  },
  {
   "cell_type": "markdown",
   "metadata": {
    "id": "YOP9-bO2f8t5"
   },
   "source": [
    "# Loading the Data\n",
    "\n",
    "This is where the data is loaded, we will need to overwrite this part and add in our data. This can either be the functions to sample and download the files OR it can be a link to a dropbox, Google drive, or other type of file hosting thing.\n",
    "\n",
    "We will also need to make sure our code outputs the same file structure that they do in the subsection \"Their Labels Format\""
   ]
  },
  {
   "cell_type": "code",
   "metadata": {
    "id": "gjsUj9JzgUlJ",
    "colab": {
     "base_uri": "https://localhost:8080/"
    },
    "outputId": "c97dfe94-9c7e-4fd2-ebbb-6fbb1d00fdc3"
   },
   "source": [
    "# download, decompress the data\n",
    "!rm kinetics400_tiny.zip*\n",
    "!rm -rf kinetics400_tiny\n",
    "!wget https://download.openmmlab.com/mmaction/kinetics400_tiny.zip\n",
    "!unzip kinetics400_tiny.zip > /dev/null"
   ],
   "execution_count": null,
   "outputs": [
    {
     "output_type": "stream",
     "text": [
      "rm: cannot remove 'kinetics400_tiny.zip*': No such file or directory\n",
      "--2021-03-05 23:01:49--  https://download.openmmlab.com/mmaction/kinetics400_tiny.zip\n",
      "Resolving download.openmmlab.com (download.openmmlab.com)... 47.252.96.35\n",
      "Connecting to download.openmmlab.com (download.openmmlab.com)|47.252.96.35|:443... connected.\n",
      "HTTP request sent, awaiting response... 200 OK\n",
      "Length: 18308682 (17M) [application/zip]\n",
      "Saving to: ‘kinetics400_tiny.zip’\n",
      "\n",
      "kinetics400_tiny.zi 100%[===================>]  17.46M  7.66MB/s    in 2.3s    \n",
      "\n",
      "2021-03-05 23:01:52 (7.66 MB/s) - ‘kinetics400_tiny.zip’ saved [18308682/18308682]\n",
      "\n"
     ],
     "name": "stdout"
    }
   ]
  },
  {
   "cell_type": "code",
   "metadata": {
    "id": "AbZ-o7V6hNw4",
    "colab": {
     "base_uri": "https://localhost:8080/"
    },
    "outputId": "a19aa10e-9d62-48ff-996a-4af038e6b4de"
   },
   "source": [
    "# Check the directory structure of the tiny data\n",
    "\n",
    "# Install tree first\n",
    "!apt-get -q install tree\n",
    "!tree kinetics400_tiny"
   ],
   "execution_count": null,
   "outputs": [
    {
     "output_type": "stream",
     "text": [
      "Reading package lists...\n",
      "Building dependency tree...\n",
      "Reading state information...\n",
      "The following NEW packages will be installed:\n",
      "  tree\n",
      "0 upgraded, 1 newly installed, 0 to remove and 29 not upgraded.\n",
      "Need to get 40.7 kB of archives.\n",
      "After this operation, 105 kB of additional disk space will be used.\n",
      "Get:1 http://archive.ubuntu.com/ubuntu bionic/universe amd64 tree amd64 1.7.0-5 [40.7 kB]\n",
      "Fetched 40.7 kB in 0s (164 kB/s)\n",
      "Selecting previously unselected package tree.\n",
      "(Reading database ... 160975 files and directories currently installed.)\n",
      "Preparing to unpack .../tree_1.7.0-5_amd64.deb ...\n",
      "Unpacking tree (1.7.0-5) ...\n",
      "Setting up tree (1.7.0-5) ...\n",
      "Processing triggers for man-db (2.8.3-2ubuntu0.1) ...\n",
      "kinetics400_tiny\n",
      "├── kinetics_tiny_train_video.txt\n",
      "├── kinetics_tiny_val_video.txt\n",
      "├── train\n",
      "│   ├── 27_CSXByd3s.mp4\n",
      "│   ├── 34XczvTaRiI.mp4\n",
      "│   ├── A-wiliK50Zw.mp4\n",
      "│   ├── D32_1gwq35E.mp4\n",
      "│   ├── D92m0HsHjcQ.mp4\n",
      "│   ├── DbX8mPslRXg.mp4\n",
      "│   ├── FMlSTTpN3VY.mp4\n",
      "│   ├── h10B9SVE-nk.mp4\n",
      "│   ├── h2YqqUhnR34.mp4\n",
      "│   ├── iRuyZSKhHRg.mp4\n",
      "│   ├── IyfILH9lBRo.mp4\n",
      "│   ├── kFC3KY2bOP8.mp4\n",
      "│   ├── LvcFDgCAXQs.mp4\n",
      "│   ├── O46YA8tI530.mp4\n",
      "│   ├── oMrZaozOvdQ.mp4\n",
      "│   ├── oXy-e_P_cAI.mp4\n",
      "│   ├── P5M-hAts7MQ.mp4\n",
      "│   ├── phDqGd0NKoo.mp4\n",
      "│   ├── PnOe3GZRVX8.mp4\n",
      "│   ├── R8HXQkdgKWA.mp4\n",
      "│   ├── RqnKtCEoEcA.mp4\n",
      "│   ├── soEcZZsBmDs.mp4\n",
      "│   ├── TkkZPZHbAKA.mp4\n",
      "│   ├── T_TMNGzVrDk.mp4\n",
      "│   ├── WaS0qwP46Us.mp4\n",
      "│   ├── Wh_YPQdH1Zg.mp4\n",
      "│   ├── WWP5HZJsg-o.mp4\n",
      "│   ├── xGY2dP0YUjA.mp4\n",
      "│   ├── yLC9CtWU5ws.mp4\n",
      "│   └── ZQV4U2KQ370.mp4\n",
      "└── val\n",
      "    ├── 0pVGiAU6XEA.mp4\n",
      "    ├── AQrbRSnRt8M.mp4\n",
      "    ├── b6Q_b7vgc7Q.mp4\n",
      "    ├── ddvJ6-faICE.mp4\n",
      "    ├── IcLztCtvhb8.mp4\n",
      "    ├── ik4BW3-SCts.mp4\n",
      "    ├── jqRrH30V0k4.mp4\n",
      "    ├── SU_x2LQqSLs.mp4\n",
      "    ├── u4Rm6srmIS8.mp4\n",
      "    └── y5Iu7XkTqV0.mp4\n",
      "\n",
      "2 directories, 42 files\n"
     ],
     "name": "stdout"
    }
   ]
  },
  {
   "cell_type": "markdown",
   "metadata": {
    "id": "WRyJbHybRflo"
   },
   "source": [
    "## Their Labels Format\n",
    "\n",
    "We can either format our data like this, OR we can adjust the config to handle whatever format we want."
   ]
  },
  {
   "cell_type": "code",
   "metadata": {
    "id": "fTdi6dI0hY3g",
    "colab": {
     "base_uri": "https://localhost:8080/"
    },
    "outputId": "31fef8a2-9a8f-4a3f-def0-4ac04f9c6a3f"
   },
   "source": [
    "# After downloading the data, we need to check the annotation format\n",
    "!cat kinetics400_tiny/kinetics_tiny_train_video.txt"
   ],
   "execution_count": null,
   "outputs": [
    {
     "output_type": "stream",
     "text": [
      "D32_1gwq35E.mp4 0\n",
      "iRuyZSKhHRg.mp4 1\n",
      "oXy-e_P_cAI.mp4 0\n",
      "34XczvTaRiI.mp4 1\n",
      "h2YqqUhnR34.mp4 0\n",
      "O46YA8tI530.mp4 0\n",
      "kFC3KY2bOP8.mp4 1\n",
      "WWP5HZJsg-o.mp4 1\n",
      "phDqGd0NKoo.mp4 1\n",
      "yLC9CtWU5ws.mp4 0\n",
      "27_CSXByd3s.mp4 1\n",
      "IyfILH9lBRo.mp4 1\n",
      "T_TMNGzVrDk.mp4 1\n",
      "TkkZPZHbAKA.mp4 0\n",
      "PnOe3GZRVX8.mp4 1\n",
      "soEcZZsBmDs.mp4 1\n",
      "FMlSTTpN3VY.mp4 1\n",
      "WaS0qwP46Us.mp4 0\n",
      "A-wiliK50Zw.mp4 1\n",
      "oMrZaozOvdQ.mp4 1\n",
      "ZQV4U2KQ370.mp4 0\n",
      "DbX8mPslRXg.mp4 1\n",
      "h10B9SVE-nk.mp4 1\n",
      "P5M-hAts7MQ.mp4 0\n",
      "R8HXQkdgKWA.mp4 0\n",
      "D92m0HsHjcQ.mp4 0\n",
      "RqnKtCEoEcA.mp4 0\n",
      "LvcFDgCAXQs.mp4 0\n",
      "xGY2dP0YUjA.mp4 0\n",
      "Wh_YPQdH1Zg.mp4 0\n"
     ],
     "name": "stdout"
    }
   ]
  },
  {
   "cell_type": "markdown",
   "metadata": {
    "id": "0bq0mxmEi29H"
   },
   "source": [
    "According to the format defined in [`VideoDataset`](./datasets/video_dataset.py), each line indicates a sample video with the filepath and label, which are split with a whitespace."
   ]
  },
  {
   "cell_type": "markdown",
   "metadata": {
    "id": "Ht_DGJA9jQar"
   },
   "source": [
    "# Modify the config of the model"
   ]
  },
  {
   "cell_type": "code",
   "metadata": {
    "id": "LjCcmCKOjktc"
   },
   "source": [
    "from mmcv import Config\n",
    "cfg = Config.fromfile('./configs/recognition/tsn/tsn_r50_video_1x1x8_100e_kinetics400_rgb.py')"
   ],
   "execution_count": null,
   "outputs": []
  },
  {
   "cell_type": "markdown",
   "metadata": {
    "id": "tc8YhFFGjp3e"
   },
   "source": [
    "Given a config that trains a TSN model on kinetics400-full dataset, we need to modify some values to use it for training TSN on Kinetics400-tiny dataset.\n"
   ]
  },
  {
   "cell_type": "code",
   "metadata": {
    "id": "tlhu9byjjt-K",
    "colab": {
     "base_uri": "https://localhost:8080/"
    },
    "outputId": "66c8c82c-2f96-4868-991a-c8b8efdc7ce7"
   },
   "source": [
    "from mmcv.runner import set_random_seed\n",
    "\n",
    "# Modify dataset type and path\n",
    "cfg.dataset_type = 'VideoDataset'\n",
    "cfg.data_root = 'kinetics400_tiny/train/'\n",
    "cfg.data_root_val = 'kinetics400_tiny/val/'\n",
    "cfg.ann_file_train = 'kinetics400_tiny/kinetics_tiny_train_video.txt'\n",
    "cfg.ann_file_val = 'kinetics400_tiny/kinetics_tiny_val_video.txt'\n",
    "cfg.ann_file_test = 'kinetics400_tiny/kinetics_tiny_val_video.txt'\n",
    "\n",
    "cfg.data.test.type = 'VideoDataset'\n",
    "cfg.data.test.ann_file = 'kinetics400_tiny/kinetics_tiny_val_video.txt'\n",
    "cfg.data.test.data_prefix = 'kinetics400_tiny/val/'\n",
    "\n",
    "cfg.data.train.type = 'VideoDataset'\n",
    "cfg.data.train.ann_file = 'kinetics400_tiny/kinetics_tiny_train_video.txt'\n",
    "cfg.data.train.data_prefix = 'kinetics400_tiny/train/'\n",
    "\n",
    "cfg.data.val.type = 'VideoDataset'\n",
    "cfg.data.val.ann_file = 'kinetics400_tiny/kinetics_tiny_val_video.txt'\n",
    "cfg.data.val.data_prefix = 'kinetics400_tiny/val/'\n",
    "\n",
    "# The flag is used to determine whether it is omnisource training\n",
    "cfg.setdefault('omnisource', False)\n",
    "# Modify num classes of the model in cls_head\n",
    "cfg.model.cls_head.num_classes = 2\n",
    "# We can use the pre-trained TSN model\n",
    "cfg.load_from = './checkpoints/tsn_r50_1x1x3_100e_kinetics400_rgb_20200614-e508be42.pth'\n",
    "\n",
    "# Set up working dir to save files and logs.\n",
    "cfg.work_dir = './tutorial_exps'\n",
    "\n",
    "# The original learning rate (LR) is set for 8-GPU training.\n",
    "# We divide it by 8 since we only use one GPU.\n",
    "cfg.data.videos_per_gpu = cfg.data.videos_per_gpu // 16\n",
    "cfg.optimizer.lr = cfg.optimizer.lr / 8 / 16\n",
    "cfg.total_epochs = 30\n",
    "\n",
    "# We can set the checkpoint saving interval to reduce the storage cost\n",
    "cfg.checkpoint_config.interval = 10\n",
    "# We can set the log print interval to reduce the the times of printing log\n",
    "cfg.log_config.interval = 5\n",
    "\n",
    "# Set seed thus the results are more reproducible\n",
    "cfg.seed = 0\n",
    "set_random_seed(0, deterministic=False)\n",
    "cfg.gpu_ids = range(1)\n",
    "\n",
    "\n",
    "# We can initialize the logger for training and have a look\n",
    "# at the final config used for training\n",
    "print(f'Config:\\n{cfg.pretty_text}')\n"
   ],
   "execution_count": null,
   "outputs": [
    {
     "output_type": "stream",
     "text": [
      "Config:\n",
      "model = dict(\n",
      "    type='Recognizer2D',\n",
      "    backbone=dict(\n",
      "        type='ResNet',\n",
      "        pretrained='torchvision://resnet50',\n",
      "        depth=50,\n",
      "        norm_eval=False),\n",
      "    cls_head=dict(\n",
      "        type='TSNHead',\n",
      "        num_classes=2,\n",
      "        in_channels=2048,\n",
      "        spatial_type='avg',\n",
      "        consensus=dict(type='AvgConsensus', dim=1),\n",
      "        dropout_ratio=0.4,\n",
      "        init_std=0.01),\n",
      "    train_cfg=None,\n",
      "    test_cfg=dict(average_clips=None))\n",
      "optimizer = dict(type='SGD', lr=7.8125e-05, momentum=0.9, weight_decay=0.0001)\n",
      "optimizer_config = dict(grad_clip=dict(max_norm=40, norm_type=2))\n",
      "lr_config = dict(policy='step', step=[40, 80])\n",
      "total_epochs = 30\n",
      "checkpoint_config = dict(interval=10)\n",
      "log_config = dict(interval=5, hooks=[dict(type='TextLoggerHook')])\n",
      "dist_params = dict(backend='nccl')\n",
      "log_level = 'INFO'\n",
      "load_from = './checkpoints/tsn_r50_1x1x3_100e_kinetics400_rgb_20200614-e508be42.pth'\n",
      "resume_from = None\n",
      "workflow = [('train', 1)]\n",
      "dataset_type = 'VideoDataset'\n",
      "data_root = 'kinetics400_tiny/train/'\n",
      "data_root_val = 'kinetics400_tiny/val/'\n",
      "ann_file_train = 'kinetics400_tiny/kinetics_tiny_train_video.txt'\n",
      "ann_file_val = 'kinetics400_tiny/kinetics_tiny_val_video.txt'\n",
      "ann_file_test = 'kinetics400_tiny/kinetics_tiny_val_video.txt'\n",
      "img_norm_cfg = dict(\n",
      "    mean=[123.675, 116.28, 103.53], std=[58.395, 57.12, 57.375], to_bgr=False)\n",
      "train_pipeline = [\n",
      "    dict(type='DecordInit'),\n",
      "    dict(type='SampleFrames', clip_len=1, frame_interval=1, num_clips=8),\n",
      "    dict(type='DecordDecode'),\n",
      "    dict(\n",
      "        type='MultiScaleCrop',\n",
      "        input_size=224,\n",
      "        scales=(1, 0.875, 0.75, 0.66),\n",
      "        random_crop=False,\n",
      "        max_wh_scale_gap=1),\n",
      "    dict(type='Resize', scale=(224, 224), keep_ratio=False),\n",
      "    dict(type='Flip', flip_ratio=0.5),\n",
      "    dict(\n",
      "        type='Normalize',\n",
      "        mean=[123.675, 116.28, 103.53],\n",
      "        std=[58.395, 57.12, 57.375],\n",
      "        to_bgr=False),\n",
      "    dict(type='FormatShape', input_format='NCHW'),\n",
      "    dict(type='Collect', keys=['imgs', 'label'], meta_keys=[]),\n",
      "    dict(type='ToTensor', keys=['imgs', 'label'])\n",
      "]\n",
      "val_pipeline = [\n",
      "    dict(type='DecordInit'),\n",
      "    dict(\n",
      "        type='SampleFrames',\n",
      "        clip_len=1,\n",
      "        frame_interval=1,\n",
      "        num_clips=8,\n",
      "        test_mode=True),\n",
      "    dict(type='DecordDecode'),\n",
      "    dict(type='Resize', scale=(-1, 256)),\n",
      "    dict(type='CenterCrop', crop_size=224),\n",
      "    dict(type='Flip', flip_ratio=0),\n",
      "    dict(\n",
      "        type='Normalize',\n",
      "        mean=[123.675, 116.28, 103.53],\n",
      "        std=[58.395, 57.12, 57.375],\n",
      "        to_bgr=False),\n",
      "    dict(type='FormatShape', input_format='NCHW'),\n",
      "    dict(type='Collect', keys=['imgs', 'label'], meta_keys=[]),\n",
      "    dict(type='ToTensor', keys=['imgs'])\n",
      "]\n",
      "test_pipeline = [\n",
      "    dict(type='DecordInit'),\n",
      "    dict(\n",
      "        type='SampleFrames',\n",
      "        clip_len=1,\n",
      "        frame_interval=1,\n",
      "        num_clips=25,\n",
      "        test_mode=True),\n",
      "    dict(type='DecordDecode'),\n",
      "    dict(type='Resize', scale=(-1, 256)),\n",
      "    dict(type='ThreeCrop', crop_size=256),\n",
      "    dict(type='Flip', flip_ratio=0),\n",
      "    dict(\n",
      "        type='Normalize',\n",
      "        mean=[123.675, 116.28, 103.53],\n",
      "        std=[58.395, 57.12, 57.375],\n",
      "        to_bgr=False),\n",
      "    dict(type='FormatShape', input_format='NCHW'),\n",
      "    dict(type='Collect', keys=['imgs', 'label'], meta_keys=[]),\n",
      "    dict(type='ToTensor', keys=['imgs'])\n",
      "]\n",
      "data = dict(\n",
      "    videos_per_gpu=2,\n",
      "    workers_per_gpu=4,\n",
      "    train=dict(\n",
      "        type='VideoDataset',\n",
      "        ann_file='kinetics400_tiny/kinetics_tiny_train_video.txt',\n",
      "        data_prefix='kinetics400_tiny/train/',\n",
      "        pipeline=[\n",
      "            dict(type='DecordInit'),\n",
      "            dict(\n",
      "                type='SampleFrames', clip_len=1, frame_interval=1,\n",
      "                num_clips=8),\n",
      "            dict(type='DecordDecode'),\n",
      "            dict(\n",
      "                type='MultiScaleCrop',\n",
      "                input_size=224,\n",
      "                scales=(1, 0.875, 0.75, 0.66),\n",
      "                random_crop=False,\n",
      "                max_wh_scale_gap=1),\n",
      "            dict(type='Resize', scale=(224, 224), keep_ratio=False),\n",
      "            dict(type='Flip', flip_ratio=0.5),\n",
      "            dict(\n",
      "                type='Normalize',\n",
      "                mean=[123.675, 116.28, 103.53],\n",
      "                std=[58.395, 57.12, 57.375],\n",
      "                to_bgr=False),\n",
      "            dict(type='FormatShape', input_format='NCHW'),\n",
      "            dict(type='Collect', keys=['imgs', 'label'], meta_keys=[]),\n",
      "            dict(type='ToTensor', keys=['imgs', 'label'])\n",
      "        ]),\n",
      "    val=dict(\n",
      "        type='VideoDataset',\n",
      "        ann_file='kinetics400_tiny/kinetics_tiny_val_video.txt',\n",
      "        data_prefix='kinetics400_tiny/val/',\n",
      "        pipeline=[\n",
      "            dict(type='DecordInit'),\n",
      "            dict(\n",
      "                type='SampleFrames',\n",
      "                clip_len=1,\n",
      "                frame_interval=1,\n",
      "                num_clips=8,\n",
      "                test_mode=True),\n",
      "            dict(type='DecordDecode'),\n",
      "            dict(type='Resize', scale=(-1, 256)),\n",
      "            dict(type='CenterCrop', crop_size=224),\n",
      "            dict(type='Flip', flip_ratio=0),\n",
      "            dict(\n",
      "                type='Normalize',\n",
      "                mean=[123.675, 116.28, 103.53],\n",
      "                std=[58.395, 57.12, 57.375],\n",
      "                to_bgr=False),\n",
      "            dict(type='FormatShape', input_format='NCHW'),\n",
      "            dict(type='Collect', keys=['imgs', 'label'], meta_keys=[]),\n",
      "            dict(type='ToTensor', keys=['imgs'])\n",
      "        ]),\n",
      "    test=dict(\n",
      "        type='VideoDataset',\n",
      "        ann_file='kinetics400_tiny/kinetics_tiny_val_video.txt',\n",
      "        data_prefix='kinetics400_tiny/val/',\n",
      "        pipeline=[\n",
      "            dict(type='DecordInit'),\n",
      "            dict(\n",
      "                type='SampleFrames',\n",
      "                clip_len=1,\n",
      "                frame_interval=1,\n",
      "                num_clips=25,\n",
      "                test_mode=True),\n",
      "            dict(type='DecordDecode'),\n",
      "            dict(type='Resize', scale=(-1, 256)),\n",
      "            dict(type='ThreeCrop', crop_size=256),\n",
      "            dict(type='Flip', flip_ratio=0),\n",
      "            dict(\n",
      "                type='Normalize',\n",
      "                mean=[123.675, 116.28, 103.53],\n",
      "                std=[58.395, 57.12, 57.375],\n",
      "                to_bgr=False),\n",
      "            dict(type='FormatShape', input_format='NCHW'),\n",
      "            dict(type='Collect', keys=['imgs', 'label'], meta_keys=[]),\n",
      "            dict(type='ToTensor', keys=['imgs'])\n",
      "        ]))\n",
      "evaluation = dict(\n",
      "    interval=5, metrics=['top_k_accuracy', 'mean_class_accuracy'])\n",
      "work_dir = './tutorial_exps'\n",
      "omnisource = False\n",
      "seed = 0\n",
      "gpu_ids = range(0, 1)\n",
      "\n"
     ],
     "name": "stdout"
    }
   ]
  },
  {
   "cell_type": "markdown",
   "metadata": {
    "id": "tES-qnZ3k38Z"
   },
   "source": [
    "# Training\n",
    "\n",
    "Training loop of the model"
   ]
  },
  {
   "cell_type": "code",
   "metadata": {
    "id": "dDBWkdDRk6oz",
    "colab": {
     "base_uri": "https://localhost:8080/",
     "height": 1000,
     "referenced_widgets": [
      "9986c4ab8ba049b589808a2bfc0e42ae",
      "82c68f9d5eaa48689c86cf1ab22d774d",
      "fcd752d2aa6a4941905dc1e590945e5c",
      "ea996ea905c74c8db8ba3afe0ff289b6",
      "672a79ab05104a3c9943c897d8c112fb",
      "7b17160a77914716a5a073bacf4686df",
      "42f592963d9b4c7cad8b5ec08309549e",
      "ba504f6b81f44e8cacb89225e78331cc"
     ]
    },
    "outputId": "e3d8ec5b-1ba5-4f2e-82dc-98b55da3f159"
   },
   "source": [
    "import os.path as osp\n",
    "\n",
    "from mmaction.datasets import build_dataset\n",
    "from mmaction.models import build_model\n",
    "from mmaction.apis import train_model\n",
    "\n",
    "import mmcv\n",
    "\n",
    "# Build the dataset\n",
    "datasets = [build_dataset(cfg.data.train)]\n",
    "\n",
    "# Build the recognizer\n",
    "model = build_model(cfg.model, train_cfg=cfg.get('train_cfg'), test_cfg=cfg.get('test_cfg'))\n",
    "\n",
    "# Create work_dir\n",
    "mmcv.mkdir_or_exist(osp.abspath(cfg.work_dir))\n",
    "train_model(model, datasets, cfg, distributed=False, validate=True)"
   ],
   "execution_count": null,
   "outputs": [
    {
     "output_type": "stream",
     "text": [
      "Use load_from_torchvision loader\n"
     ],
     "name": "stdout"
    },
    {
     "output_type": "stream",
     "text": [
      "Downloading: \"https://download.pytorch.org/models/resnet50-19c8e357.pth\" to /root/.cache/torch/checkpoints/resnet50-19c8e357.pth\n"
     ],
     "name": "stderr"
    },
    {
     "output_type": "display_data",
     "data": {
      "application/vnd.jupyter.widget-view+json": {
       "model_id": "9986c4ab8ba049b589808a2bfc0e42ae",
       "version_minor": 0,
       "version_major": 2
      },
      "text/plain": [
       "HBox(children=(FloatProgress(value=0.0, max=102502400.0), HTML(value='')))"
      ]
     },
     "metadata": {
      "tags": []
     }
    },
    {
     "output_type": "stream",
     "text": [
      "\n"
     ],
     "name": "stdout"
    },
    {
     "output_type": "stream",
     "text": [
      "2021-03-05 23:02:08,252 - mmaction - INFO - These parameters in pretrained checkpoint are not loaded: {'fc.bias', 'fc.weight'}\n",
      "2021-03-05 23:02:08,308 - mmaction - INFO - load checkpoint from ./checkpoints/tsn_r50_1x1x3_100e_kinetics400_rgb_20200614-e508be42.pth\n",
      "2021-03-05 23:02:08,309 - mmaction - INFO - Use load_from_local loader\n",
      "2021-03-05 23:02:08,402 - mmaction - WARNING - The model and loaded state dict do not match exactly\n",
      "\n",
      "size mismatch for cls_head.fc_cls.weight: copying a param with shape torch.Size([400, 2048]) from checkpoint, the shape in current model is torch.Size([2, 2048]).\n",
      "size mismatch for cls_head.fc_cls.bias: copying a param with shape torch.Size([400]) from checkpoint, the shape in current model is torch.Size([2]).\n",
      "2021-03-05 23:02:08,406 - mmaction - INFO - Start running, host: root@c2833cba54d0, work_dir: /content/mmaction2/tutorial_exps\n",
      "2021-03-05 23:02:08,406 - mmaction - INFO - workflow: [('train', 1)], max: 30 epochs\n",
      "/content/mmaction2/mmaction/core/evaluation/eval_hooks.py:131: UserWarning: runner.meta is None. Creating a empty one.\n",
      "  warnings.warn('runner.meta is None. Creating a empty one.')\n",
      "2021-03-05 23:02:12,760 - mmaction - INFO - Epoch [1][5/15]\tlr: 7.813e-05, eta: 0:06:26, time: 0.870, data_time: 0.664, memory: 2918, top1_acc: 0.7000, top5_acc: 1.0000, loss_cls: 0.6865, loss: 0.6865, grad_norm: 12.7663\n",
      "2021-03-05 23:02:13,807 - mmaction - INFO - Epoch [1][10/15]\tlr: 7.813e-05, eta: 0:03:57, time: 0.210, data_time: 0.005, memory: 2918, top1_acc: 0.6000, top5_acc: 1.0000, loss_cls: 0.7171, loss: 0.7171, grad_norm: 13.7445\n",
      "2021-03-05 23:02:14,671 - mmaction - INFO - Epoch [1][15/15]\tlr: 7.813e-05, eta: 0:03:01, time: 0.173, data_time: 0.004, memory: 2918, top1_acc: 0.2000, top5_acc: 1.0000, loss_cls: 0.8884, loss: 0.8884, grad_norm: 14.7140\n",
      "2021-03-05 23:02:18,942 - mmaction - INFO - Epoch [2][5/15]\tlr: 7.813e-05, eta: 0:03:44, time: 0.836, data_time: 0.630, memory: 2918, top1_acc: 0.8000, top5_acc: 1.0000, loss_cls: 0.6562, loss: 0.6562, grad_norm: 10.5715\n",
      "2021-03-05 23:02:20,134 - mmaction - INFO - Epoch [2][10/15]\tlr: 7.813e-05, eta: 0:03:17, time: 0.239, data_time: 0.043, memory: 2918, top1_acc: 0.2000, top5_acc: 1.0000, loss_cls: 0.7480, loss: 0.7480, grad_norm: 11.7088\n",
      "2021-03-05 23:02:21,015 - mmaction - INFO - Epoch [2][15/15]\tlr: 7.813e-05, eta: 0:02:55, time: 0.176, data_time: 0.016, memory: 2918, top1_acc: 0.6000, top5_acc: 1.0000, loss_cls: 0.6735, loss: 0.6735, grad_norm: 12.8044\n",
      "2021-03-05 23:02:25,187 - mmaction - INFO - Epoch [3][5/15]\tlr: 7.813e-05, eta: 0:03:16, time: 0.818, data_time: 0.598, memory: 2918, top1_acc: 0.4000, top5_acc: 1.0000, loss_cls: 0.7218, loss: 0.7218, grad_norm: 12.4893\n",
      "2021-03-05 23:02:26,504 - mmaction - INFO - Epoch [3][10/15]\tlr: 7.813e-05, eta: 0:03:03, time: 0.263, data_time: 0.071, memory: 2918, top1_acc: 0.8000, top5_acc: 1.0000, loss_cls: 0.6188, loss: 0.6188, grad_norm: 11.8107\n",
      "2021-03-05 23:02:27,307 - mmaction - INFO - Epoch [3][15/15]\tlr: 7.813e-05, eta: 0:02:48, time: 0.160, data_time: 0.001, memory: 2918, top1_acc: 0.4000, top5_acc: 1.0000, loss_cls: 0.7298, loss: 0.7298, grad_norm: 12.5042\n",
      "2021-03-05 23:02:31,737 - mmaction - INFO - Epoch [4][5/15]\tlr: 7.813e-05, eta: 0:03:04, time: 0.870, data_time: 0.641, memory: 2918, top1_acc: 0.5000, top5_acc: 1.0000, loss_cls: 0.6833, loss: 0.6833, grad_norm: 10.1040\n",
      "2021-03-05 23:02:32,829 - mmaction - INFO - Epoch [4][10/15]\tlr: 7.813e-05, eta: 0:02:53, time: 0.218, data_time: 0.029, memory: 2918, top1_acc: 0.7000, top5_acc: 1.0000, loss_cls: 0.6640, loss: 0.6640, grad_norm: 11.7620\n",
      "2021-03-05 23:02:33,644 - mmaction - INFO - Epoch [4][15/15]\tlr: 7.813e-05, eta: 0:02:42, time: 0.163, data_time: 0.002, memory: 2918, top1_acc: 0.3000, top5_acc: 1.0000, loss_cls: 0.7373, loss: 0.7373, grad_norm: 13.6224\n",
      "2021-03-05 23:02:37,623 - mmaction - INFO - Epoch [5][5/15]\tlr: 7.813e-05, eta: 0:02:51, time: 0.780, data_time: 0.576, memory: 2918, top1_acc: 0.8000, top5_acc: 1.0000, loss_cls: 0.6309, loss: 0.6309, grad_norm: 11.1865\n",
      "2021-03-05 23:02:38,848 - mmaction - INFO - Epoch [5][10/15]\tlr: 7.813e-05, eta: 0:02:43, time: 0.244, data_time: 0.039, memory: 2918, top1_acc: 0.4000, top5_acc: 1.0000, loss_cls: 0.7178, loss: 0.7178, grad_norm: 12.4480\n",
      "2021-03-05 23:02:40,088 - mmaction - INFO - Epoch [5][15/15]\tlr: 7.813e-05, eta: 0:02:36, time: 0.249, data_time: 0.087, memory: 2918, top1_acc: 0.4000, top5_acc: 1.0000, loss_cls: 0.7094, loss: 0.7094, grad_norm: 12.4655\n"
     ],
     "name": "stderr"
    },
    {
     "output_type": "stream",
     "text": [
      "[>>>>>>>>>>>>>>>>>>>>>>>>>>>>>>>>>] 10/10, 5.8 task/s, elapsed: 2s, ETA:     0s"
     ],
     "name": "stdout"
    },
    {
     "output_type": "stream",
     "text": [
      "2021-03-05 23:02:41,969 - mmaction - INFO - Evaluating top_k_accuracy ...\n",
      "2021-03-05 23:02:41,970 - mmaction - INFO - \n",
      "top1_acc\t0.7000\n",
      "top5_acc\t1.0000\n",
      "2021-03-05 23:02:41,971 - mmaction - INFO - Evaluating mean_class_accuracy ...\n",
      "2021-03-05 23:02:41,975 - mmaction - INFO - \n",
      "mean_acc\t0.7000\n",
      "2021-03-05 23:02:42,280 - mmaction - INFO - Now best checkpoint is saved as best_top1_acc_epoch_5.pth.\n",
      "2021-03-05 23:02:42,284 - mmaction - INFO - Best top1_acc is 0.7000 at 5 epoch.\n",
      "2021-03-05 23:02:42,286 - mmaction - INFO - Epoch(val) [5][15]\ttop1_acc: 0.7000, top5_acc: 1.0000, mean_class_accuracy: 0.7000\n",
      "2021-03-05 23:02:47,107 - mmaction - INFO - Epoch [6][5/15]\tlr: 7.813e-05, eta: 0:02:47, time: 0.962, data_time: 0.746, memory: 2918, top1_acc: 0.5000, top5_acc: 1.0000, loss_cls: 0.6696, loss: 0.6696, grad_norm: 11.0200\n",
      "2021-03-05 23:02:48,057 - mmaction - INFO - Epoch [6][10/15]\tlr: 7.813e-05, eta: 0:02:39, time: 0.190, data_time: 0.002, memory: 2918, top1_acc: 0.6000, top5_acc: 1.0000, loss_cls: 0.6824, loss: 0.6824, grad_norm: 11.8896\n",
      "2021-03-05 23:02:48,851 - mmaction - INFO - Epoch [6][15/15]\tlr: 7.813e-05, eta: 0:02:31, time: 0.159, data_time: 0.001, memory: 2918, top1_acc: 0.6000, top5_acc: 1.0000, loss_cls: 0.6869, loss: 0.6869, grad_norm: 13.7288\n",
      "2021-03-05 23:02:53,216 - mmaction - INFO - Epoch [7][5/15]\tlr: 7.813e-05, eta: 0:02:37, time: 0.857, data_time: 0.656, memory: 2918, top1_acc: 0.7000, top5_acc: 1.0000, loss_cls: 0.6460, loss: 0.6460, grad_norm: 10.8100\n",
      "2021-03-05 23:02:54,387 - mmaction - INFO - Epoch [7][10/15]\tlr: 7.813e-05, eta: 0:02:31, time: 0.230, data_time: 0.036, memory: 2918, top1_acc: 0.9000, top5_acc: 1.0000, loss_cls: 0.6004, loss: 0.6004, grad_norm: 9.5420\n",
      "2021-03-05 23:02:55,237 - mmaction - INFO - Epoch [7][15/15]\tlr: 7.813e-05, eta: 0:02:25, time: 0.174, data_time: 0.014, memory: 2918, top1_acc: 0.6000, top5_acc: 1.0000, loss_cls: 0.6828, loss: 0.6828, grad_norm: 12.0944\n",
      "2021-03-05 23:02:59,683 - mmaction - INFO - Epoch [8][5/15]\tlr: 7.813e-05, eta: 0:02:30, time: 0.872, data_time: 0.645, memory: 2918, top1_acc: 0.5000, top5_acc: 1.0000, loss_cls: 0.6921, loss: 0.6921, grad_norm: 13.1962\n",
      "2021-03-05 23:03:00,904 - mmaction - INFO - Epoch [8][10/15]\tlr: 7.813e-05, eta: 0:02:25, time: 0.244, data_time: 0.070, memory: 2918, top1_acc: 0.7000, top5_acc: 1.0000, loss_cls: 0.6074, loss: 0.6074, grad_norm: 11.3339\n",
      "2021-03-05 23:03:01,725 - mmaction - INFO - Epoch [8][15/15]\tlr: 7.813e-05, eta: 0:02:19, time: 0.164, data_time: 0.002, memory: 2918, top1_acc: 0.4000, top5_acc: 1.0000, loss_cls: 0.7029, loss: 0.7029, grad_norm: 12.4491\n",
      "2021-03-05 23:03:05,956 - mmaction - INFO - Epoch [9][5/15]\tlr: 7.813e-05, eta: 0:02:22, time: 0.829, data_time: 0.621, memory: 2918, top1_acc: 0.9000, top5_acc: 1.0000, loss_cls: 0.5368, loss: 0.5368, grad_norm: 8.4087\n",
      "2021-03-05 23:03:07,276 - mmaction - INFO - Epoch [9][10/15]\tlr: 7.813e-05, eta: 0:02:18, time: 0.265, data_time: 0.073, memory: 2918, top1_acc: 0.6000, top5_acc: 1.0000, loss_cls: 0.6797, loss: 0.6797, grad_norm: 12.8053\n",
      "2021-03-05 23:03:08,106 - mmaction - INFO - Epoch [9][15/15]\tlr: 7.813e-05, eta: 0:02:12, time: 0.166, data_time: 0.002, memory: 2918, top1_acc: 0.8000, top5_acc: 1.0000, loss_cls: 0.5711, loss: 0.5711, grad_norm: 9.9661\n",
      "2021-03-05 23:03:12,335 - mmaction - INFO - Epoch [10][5/15]\tlr: 7.813e-05, eta: 0:02:15, time: 0.829, data_time: 0.610, memory: 2918, top1_acc: 0.8000, top5_acc: 1.0000, loss_cls: 0.5380, loss: 0.5380, grad_norm: 8.8825\n",
      "2021-03-05 23:03:13,627 - mmaction - INFO - Epoch [10][10/15]\tlr: 7.813e-05, eta: 0:02:11, time: 0.258, data_time: 0.057, memory: 2918, top1_acc: 0.4000, top5_acc: 1.0000, loss_cls: 0.6644, loss: 0.6644, grad_norm: 12.6170\n",
      "2021-03-05 23:03:14,476 - mmaction - INFO - Epoch [10][15/15]\tlr: 7.813e-05, eta: 0:02:06, time: 0.170, data_time: 0.006, memory: 2918, top1_acc: 0.6000, top5_acc: 1.0000, loss_cls: 0.7041, loss: 0.7041, grad_norm: 12.4909\n",
      "2021-03-05 23:03:14,563 - mmaction - INFO - Saving checkpoint at 10 epochs\n"
     ],
     "name": "stderr"
    },
    {
     "output_type": "stream",
     "text": [
      "[>>>>>>>>>>>>>>>>>>>>>>>>>>>>>>>>>] 10/10, 5.4 task/s, elapsed: 2s, ETA:     0s"
     ],
     "name": "stdout"
    },
    {
     "output_type": "stream",
     "text": [
      "2021-03-05 23:03:16,806 - mmaction - INFO - Evaluating top_k_accuracy ...\n",
      "2021-03-05 23:03:16,808 - mmaction - INFO - \n",
      "top1_acc\t0.9000\n",
      "top5_acc\t1.0000\n",
      "2021-03-05 23:03:16,812 - mmaction - INFO - Evaluating mean_class_accuracy ...\n",
      "2021-03-05 23:03:16,816 - mmaction - INFO - \n",
      "mean_acc\t0.9000\n",
      "2021-03-05 23:03:17,098 - mmaction - INFO - Now best checkpoint is saved as best_top1_acc_epoch_10.pth.\n",
      "2021-03-05 23:03:17,101 - mmaction - INFO - Best top1_acc is 0.9000 at 10 epoch.\n",
      "2021-03-05 23:03:17,103 - mmaction - INFO - Epoch(val) [10][15]\ttop1_acc: 0.9000, top5_acc: 1.0000, mean_class_accuracy: 0.9000\n",
      "2021-03-05 23:03:21,239 - mmaction - INFO - Epoch [11][5/15]\tlr: 7.813e-05, eta: 0:02:08, time: 0.826, data_time: 0.626, memory: 2918, top1_acc: 0.8000, top5_acc: 1.0000, loss_cls: 0.5356, loss: 0.5356, grad_norm: 8.8038\n",
      "2021-03-05 23:03:22,399 - mmaction - INFO - Epoch [11][10/15]\tlr: 7.813e-05, eta: 0:02:04, time: 0.232, data_time: 0.025, memory: 2918, top1_acc: 0.8000, top5_acc: 1.0000, loss_cls: 0.5830, loss: 0.5830, grad_norm: 10.5939\n",
      "2021-03-05 23:03:23,259 - mmaction - INFO - Epoch [11][15/15]\tlr: 7.813e-05, eta: 0:01:59, time: 0.172, data_time: 0.002, memory: 2918, top1_acc: 0.7000, top5_acc: 1.0000, loss_cls: 0.6231, loss: 0.6231, grad_norm: 11.3663\n",
      "2021-03-05 23:03:27,584 - mmaction - INFO - Epoch [12][5/15]\tlr: 7.813e-05, eta: 0:02:01, time: 0.850, data_time: 0.640, memory: 2918, top1_acc: 0.7000, top5_acc: 1.0000, loss_cls: 0.5701, loss: 0.5701, grad_norm: 10.0653\n",
      "2021-03-05 23:03:28,588 - mmaction - INFO - Epoch [12][10/15]\tlr: 7.813e-05, eta: 0:01:57, time: 0.201, data_time: 0.013, memory: 2918, top1_acc: 0.6000, top5_acc: 1.0000, loss_cls: 0.5980, loss: 0.5980, grad_norm: 11.1681\n",
      "2021-03-05 23:03:29,479 - mmaction - INFO - Epoch [12][15/15]\tlr: 7.813e-05, eta: 0:01:53, time: 0.178, data_time: 0.002, memory: 2918, top1_acc: 0.5000, top5_acc: 1.0000, loss_cls: 0.6105, loss: 0.6105, grad_norm: 11.8517\n",
      "2021-03-05 23:03:33,653 - mmaction - INFO - Epoch [13][5/15]\tlr: 7.813e-05, eta: 0:01:53, time: 0.819, data_time: 0.608, memory: 2918, top1_acc: 0.7000, top5_acc: 1.0000, loss_cls: 0.5439, loss: 0.5439, grad_norm: 10.4095\n",
      "2021-03-05 23:03:34,737 - mmaction - INFO - Epoch [13][10/15]\tlr: 7.813e-05, eta: 0:01:50, time: 0.217, data_time: 0.004, memory: 2918, top1_acc: 0.6000, top5_acc: 1.0000, loss_cls: 0.6338, loss: 0.6338, grad_norm: 11.3891\n",
      "2021-03-05 23:03:35,721 - mmaction - INFO - Epoch [13][15/15]\tlr: 7.813e-05, eta: 0:01:46, time: 0.197, data_time: 0.030, memory: 2918, top1_acc: 0.7000, top5_acc: 1.0000, loss_cls: 0.6328, loss: 0.6328, grad_norm: 12.0641\n",
      "2021-03-05 23:03:40,220 - mmaction - INFO - Epoch [14][5/15]\tlr: 7.813e-05, eta: 0:01:47, time: 0.882, data_time: 0.674, memory: 2918, top1_acc: 0.6000, top5_acc: 1.0000, loss_cls: 0.6514, loss: 0.6514, grad_norm: 12.4951\n",
      "2021-03-05 23:03:41,337 - mmaction - INFO - Epoch [14][10/15]\tlr: 7.813e-05, eta: 0:01:44, time: 0.225, data_time: 0.035, memory: 2918, top1_acc: 0.8000, top5_acc: 1.0000, loss_cls: 0.5537, loss: 0.5537, grad_norm: 10.5995\n",
      "2021-03-05 23:03:42,151 - mmaction - INFO - Epoch [14][15/15]\tlr: 7.813e-05, eta: 0:01:40, time: 0.163, data_time: 0.001, memory: 2918, top1_acc: 0.4000, top5_acc: 1.0000, loss_cls: 0.7073, loss: 0.7073, grad_norm: 12.8196\n",
      "2021-03-05 23:03:46,883 - mmaction - INFO - Epoch [15][5/15]\tlr: 7.813e-05, eta: 0:01:41, time: 0.930, data_time: 0.734, memory: 2918, top1_acc: 0.7000, top5_acc: 1.0000, loss_cls: 0.6580, loss: 0.6580, grad_norm: 12.7095\n",
      "2021-03-05 23:03:47,806 - mmaction - INFO - Epoch [15][10/15]\tlr: 7.813e-05, eta: 0:01:37, time: 0.185, data_time: 0.001, memory: 2918, top1_acc: 0.9000, top5_acc: 1.0000, loss_cls: 0.4524, loss: 0.4524, grad_norm: 8.1135\n",
      "2021-03-05 23:03:48,631 - mmaction - INFO - Epoch [15][15/15]\tlr: 7.813e-05, eta: 0:01:34, time: 0.165, data_time: 0.002, memory: 2918, top1_acc: 0.7000, top5_acc: 1.0000, loss_cls: 0.6319, loss: 0.6319, grad_norm: 11.7274\n"
     ],
     "name": "stderr"
    },
    {
     "output_type": "stream",
     "text": [
      "[>>>>>>>>>>>>>>>>>>>>>>>>>>>>>>>>>] 10/10, 5.7 task/s, elapsed: 2s, ETA:     0s"
     ],
     "name": "stdout"
    },
    {
     "output_type": "stream",
     "text": [
      "2021-03-05 23:03:50,551 - mmaction - INFO - Evaluating top_k_accuracy ...\n",
      "2021-03-05 23:03:50,553 - mmaction - INFO - \n",
      "top1_acc\t0.8000\n",
      "top5_acc\t1.0000\n",
      "2021-03-05 23:03:50,554 - mmaction - INFO - Evaluating mean_class_accuracy ...\n",
      "2021-03-05 23:03:50,555 - mmaction - INFO - \n",
      "mean_acc\t0.8000\n",
      "2021-03-05 23:03:50,556 - mmaction - INFO - Epoch(val) [15][15]\ttop1_acc: 0.8000, top5_acc: 1.0000, mean_class_accuracy: 0.8000\n",
      "2021-03-05 23:03:54,663 - mmaction - INFO - Epoch [16][5/15]\tlr: 7.813e-05, eta: 0:01:34, time: 0.820, data_time: 0.614, memory: 2918, top1_acc: 0.8000, top5_acc: 1.0000, loss_cls: 0.5427, loss: 0.5427, grad_norm: 10.0083\n",
      "2021-03-05 23:03:56,105 - mmaction - INFO - Epoch [16][10/15]\tlr: 7.813e-05, eta: 0:01:31, time: 0.289, data_time: 0.107, memory: 2918, top1_acc: 0.7000, top5_acc: 1.0000, loss_cls: 0.6097, loss: 0.6097, grad_norm: 11.1774\n",
      "2021-03-05 23:03:56,936 - mmaction - INFO - Epoch [16][15/15]\tlr: 7.813e-05, eta: 0:01:28, time: 0.166, data_time: 0.001, memory: 2918, top1_acc: 0.7000, top5_acc: 1.0000, loss_cls: 0.5309, loss: 0.5309, grad_norm: 9.9061\n",
      "2021-03-05 23:04:01,029 - mmaction - INFO - Epoch [17][5/15]\tlr: 7.813e-05, eta: 0:01:27, time: 0.803, data_time: 0.600, memory: 2918, top1_acc: 0.6000, top5_acc: 1.0000, loss_cls: 0.6307, loss: 0.6307, grad_norm: 12.3167\n",
      "2021-03-05 23:04:02,407 - mmaction - INFO - Epoch [17][10/15]\tlr: 7.813e-05, eta: 0:01:24, time: 0.275, data_time: 0.093, memory: 2918, top1_acc: 0.4000, top5_acc: 1.0000, loss_cls: 0.6634, loss: 0.6634, grad_norm: 13.0163\n",
      "2021-03-05 23:04:03,239 - mmaction - INFO - Epoch [17][15/15]\tlr: 7.813e-05, eta: 0:01:21, time: 0.166, data_time: 0.002, memory: 2918, top1_acc: 1.0000, top5_acc: 1.0000, loss_cls: 0.4259, loss: 0.4259, grad_norm: 8.0299\n",
      "2021-03-05 23:04:07,538 - mmaction - INFO - Epoch [18][5/15]\tlr: 7.813e-05, eta: 0:01:21, time: 0.842, data_time: 0.633, memory: 2918, top1_acc: 0.8000, top5_acc: 1.0000, loss_cls: 0.5793, loss: 0.5793, grad_norm: 11.0240\n",
      "2021-03-05 23:04:08,761 - mmaction - INFO - Epoch [18][10/15]\tlr: 7.813e-05, eta: 0:01:18, time: 0.246, data_time: 0.055, memory: 2918, top1_acc: 0.9000, top5_acc: 1.0000, loss_cls: 0.4537, loss: 0.4537, grad_norm: 8.3294\n",
      "2021-03-05 23:04:09,586 - mmaction - INFO - Epoch [18][15/15]\tlr: 7.813e-05, eta: 0:01:15, time: 0.165, data_time: 0.003, memory: 2918, top1_acc: 0.8000, top5_acc: 1.0000, loss_cls: 0.4952, loss: 0.4952, grad_norm: 9.5785\n",
      "2021-03-05 23:04:14,070 - mmaction - INFO - Epoch [19][5/15]\tlr: 7.813e-05, eta: 0:01:14, time: 0.879, data_time: 0.666, memory: 2918, top1_acc: 0.9000, top5_acc: 1.0000, loss_cls: 0.5532, loss: 0.5532, grad_norm: 10.2645\n",
      "2021-03-05 23:04:15,225 - mmaction - INFO - Epoch [19][10/15]\tlr: 7.813e-05, eta: 0:01:12, time: 0.231, data_time: 0.040, memory: 2918, top1_acc: 0.6000, top5_acc: 1.0000, loss_cls: 0.6118, loss: 0.6118, grad_norm: 11.5431\n",
      "2021-03-05 23:04:16,053 - mmaction - INFO - Epoch [19][15/15]\tlr: 7.813e-05, eta: 0:01:09, time: 0.168, data_time: 0.003, memory: 2918, top1_acc: 0.8000, top5_acc: 1.0000, loss_cls: 0.4128, loss: 0.4128, grad_norm: 7.5683\n",
      "2021-03-05 23:04:20,344 - mmaction - INFO - Epoch [20][5/15]\tlr: 7.813e-05, eta: 0:01:08, time: 0.840, data_time: 0.626, memory: 2918, top1_acc: 0.9000, top5_acc: 1.0000, loss_cls: 0.4327, loss: 0.4327, grad_norm: 8.4852\n",
      "2021-03-05 23:04:21,503 - mmaction - INFO - Epoch [20][10/15]\tlr: 7.813e-05, eta: 0:01:05, time: 0.234, data_time: 0.032, memory: 2918, top1_acc: 0.8000, top5_acc: 1.0000, loss_cls: 0.4621, loss: 0.4621, grad_norm: 8.9775\n",
      "2021-03-05 23:04:22,395 - mmaction - INFO - Epoch [20][15/15]\tlr: 7.813e-05, eta: 0:01:02, time: 0.178, data_time: 0.003, memory: 2918, top1_acc: 0.7000, top5_acc: 1.0000, loss_cls: 0.5918, loss: 0.5918, grad_norm: 11.3928\n",
      "2021-03-05 23:04:22,471 - mmaction - INFO - Saving checkpoint at 20 epochs\n"
     ],
     "name": "stderr"
    },
    {
     "output_type": "stream",
     "text": [
      "[>>>>>>>>>>>>>>>>>>>>>>>>>>>>>>>>>] 10/10, 5.5 task/s, elapsed: 2s, ETA:     0s"
     ],
     "name": "stdout"
    },
    {
     "output_type": "stream",
     "text": [
      "2021-03-05 23:04:24,668 - mmaction - INFO - Evaluating top_k_accuracy ...\n",
      "2021-03-05 23:04:24,669 - mmaction - INFO - \n",
      "top1_acc\t0.9000\n",
      "top5_acc\t1.0000\n",
      "2021-03-05 23:04:24,672 - mmaction - INFO - Evaluating mean_class_accuracy ...\n",
      "2021-03-05 23:04:24,675 - mmaction - INFO - \n",
      "mean_acc\t0.9000\n",
      "2021-03-05 23:04:24,678 - mmaction - INFO - Epoch(val) [20][15]\ttop1_acc: 0.9000, top5_acc: 1.0000, mean_class_accuracy: 0.9000\n",
      "2021-03-05 23:04:28,756 - mmaction - INFO - Epoch [21][5/15]\tlr: 7.813e-05, eta: 0:01:01, time: 0.814, data_time: 0.602, memory: 2918, top1_acc: 0.8000, top5_acc: 1.0000, loss_cls: 0.4515, loss: 0.4515, grad_norm: 8.3876\n",
      "2021-03-05 23:04:30,073 - mmaction - INFO - Epoch [21][10/15]\tlr: 7.813e-05, eta: 0:00:59, time: 0.264, data_time: 0.049, memory: 2918, top1_acc: 0.8000, top5_acc: 1.0000, loss_cls: 0.4542, loss: 0.4542, grad_norm: 9.1002\n",
      "2021-03-05 23:04:30,944 - mmaction - INFO - Epoch [21][15/15]\tlr: 7.813e-05, eta: 0:00:56, time: 0.174, data_time: 0.002, memory: 2918, top1_acc: 0.8000, top5_acc: 1.0000, loss_cls: 0.5326, loss: 0.5326, grad_norm: 10.6018\n",
      "2021-03-05 23:04:35,360 - mmaction - INFO - Epoch [22][5/15]\tlr: 7.813e-05, eta: 0:00:55, time: 0.866, data_time: 0.653, memory: 2918, top1_acc: 0.7000, top5_acc: 1.0000, loss_cls: 0.5645, loss: 0.5645, grad_norm: 10.8102\n",
      "2021-03-05 23:04:36,369 - mmaction - INFO - Epoch [22][10/15]\tlr: 7.813e-05, eta: 0:00:52, time: 0.203, data_time: 0.010, memory: 2918, top1_acc: 0.8000, top5_acc: 1.0000, loss_cls: 0.5059, loss: 0.5059, grad_norm: 9.9698\n",
      "2021-03-05 23:04:37,368 - mmaction - INFO - Epoch [22][15/15]\tlr: 7.813e-05, eta: 0:00:50, time: 0.200, data_time: 0.039, memory: 2918, top1_acc: 0.9000, top5_acc: 1.0000, loss_cls: 0.4390, loss: 0.4390, grad_norm: 8.7583\n",
      "2021-03-05 23:04:42,002 - mmaction - INFO - Epoch [23][5/15]\tlr: 7.813e-05, eta: 0:00:49, time: 0.910, data_time: 0.675, memory: 2918, top1_acc: 0.6000, top5_acc: 1.0000, loss_cls: 0.6280, loss: 0.6280, grad_norm: 12.5608\n",
      "2021-03-05 23:04:43,186 - mmaction - INFO - Epoch [23][10/15]\tlr: 7.813e-05, eta: 0:00:46, time: 0.237, data_time: 0.041, memory: 2918, top1_acc: 1.0000, top5_acc: 1.0000, loss_cls: 0.3281, loss: 0.3281, grad_norm: 6.4787\n",
      "2021-03-05 23:04:44,072 - mmaction - INFO - Epoch [23][15/15]\tlr: 7.813e-05, eta: 0:00:44, time: 0.177, data_time: 0.007, memory: 2918, top1_acc: 0.8000, top5_acc: 1.0000, loss_cls: 0.4970, loss: 0.4970, grad_norm: 9.2466\n",
      "2021-03-05 23:04:48,648 - mmaction - INFO - Epoch [24][5/15]\tlr: 7.813e-05, eta: 0:00:42, time: 0.898, data_time: 0.695, memory: 2918, top1_acc: 0.9000, top5_acc: 1.0000, loss_cls: 0.3843, loss: 0.3843, grad_norm: 7.6711\n",
      "2021-03-05 23:04:49,601 - mmaction - INFO - Epoch [24][10/15]\tlr: 7.813e-05, eta: 0:00:40, time: 0.189, data_time: 0.002, memory: 2918, top1_acc: 0.6000, top5_acc: 1.0000, loss_cls: 0.5480, loss: 0.5480, grad_norm: 11.8645\n",
      "2021-03-05 23:04:50,512 - mmaction - INFO - Epoch [24][15/15]\tlr: 7.813e-05, eta: 0:00:37, time: 0.183, data_time: 0.006, memory: 2918, top1_acc: 0.9000, top5_acc: 1.0000, loss_cls: 0.3738, loss: 0.3738, grad_norm: 7.4736\n",
      "2021-03-05 23:04:55,127 - mmaction - INFO - Epoch [25][5/15]\tlr: 7.813e-05, eta: 0:00:36, time: 0.906, data_time: 0.660, memory: 2918, top1_acc: 0.5000, top5_acc: 1.0000, loss_cls: 0.5807, loss: 0.5807, grad_norm: 11.7660\n",
      "2021-03-05 23:04:56,171 - mmaction - INFO - Epoch [25][10/15]\tlr: 7.813e-05, eta: 0:00:33, time: 0.209, data_time: 0.003, memory: 2918, top1_acc: 0.6000, top5_acc: 1.0000, loss_cls: 0.5970, loss: 0.5970, grad_norm: 11.7755\n",
      "2021-03-05 23:04:57,083 - mmaction - INFO - Epoch [25][15/15]\tlr: 7.813e-05, eta: 0:00:31, time: 0.182, data_time: 0.016, memory: 2918, top1_acc: 0.8000, top5_acc: 1.0000, loss_cls: 0.4510, loss: 0.4510, grad_norm: 9.2989\n"
     ],
     "name": "stderr"
    },
    {
     "output_type": "stream",
     "text": [
      "[>>>>>>>>>>>>>>>>>>>>>>>>>>>>>>>>>] 10/10, 5.8 task/s, elapsed: 2s, ETA:     0s"
     ],
     "name": "stdout"
    },
    {
     "output_type": "stream",
     "text": [
      "2021-03-05 23:04:58,982 - mmaction - INFO - Evaluating top_k_accuracy ...\n",
      "2021-03-05 23:04:58,986 - mmaction - INFO - \n",
      "top1_acc\t1.0000\n",
      "top5_acc\t1.0000\n",
      "2021-03-05 23:04:58,988 - mmaction - INFO - Evaluating mean_class_accuracy ...\n",
      "2021-03-05 23:04:58,998 - mmaction - INFO - \n",
      "mean_acc\t1.0000\n",
      "2021-03-05 23:04:59,320 - mmaction - INFO - Now best checkpoint is saved as best_top1_acc_epoch_25.pth.\n",
      "2021-03-05 23:04:59,321 - mmaction - INFO - Best top1_acc is 1.0000 at 25 epoch.\n",
      "2021-03-05 23:04:59,323 - mmaction - INFO - Epoch(val) [25][15]\ttop1_acc: 1.0000, top5_acc: 1.0000, mean_class_accuracy: 1.0000\n",
      "2021-03-05 23:05:03,763 - mmaction - INFO - Epoch [26][5/15]\tlr: 7.813e-05, eta: 0:00:29, time: 0.885, data_time: 0.668, memory: 2918, top1_acc: 0.9000, top5_acc: 1.0000, loss_cls: 0.3759, loss: 0.3759, grad_norm: 7.9661\n",
      "2021-03-05 23:05:05,047 - mmaction - INFO - Epoch [26][10/15]\tlr: 7.813e-05, eta: 0:00:27, time: 0.258, data_time: 0.074, memory: 2918, top1_acc: 0.5000, top5_acc: 1.0000, loss_cls: 0.5392, loss: 0.5392, grad_norm: 10.7620\n",
      "2021-03-05 23:05:05,879 - mmaction - INFO - Epoch [26][15/15]\tlr: 7.813e-05, eta: 0:00:25, time: 0.166, data_time: 0.001, memory: 2918, top1_acc: 0.7000, top5_acc: 1.0000, loss_cls: 0.4193, loss: 0.4193, grad_norm: 8.5493\n",
      "2021-03-05 23:05:10,240 - mmaction - INFO - Epoch [27][5/15]\tlr: 7.813e-05, eta: 0:00:23, time: 0.856, data_time: 0.626, memory: 2918, top1_acc: 0.5000, top5_acc: 1.0000, loss_cls: 0.5921, loss: 0.5921, grad_norm: 11.3930\n",
      "2021-03-05 23:05:11,280 - mmaction - INFO - Epoch [27][10/15]\tlr: 7.813e-05, eta: 0:00:21, time: 0.208, data_time: 0.004, memory: 2918, top1_acc: 0.9000, top5_acc: 1.0000, loss_cls: 0.4480, loss: 0.4480, grad_norm: 9.5232\n",
      "2021-03-05 23:05:12,227 - mmaction - INFO - Epoch [27][15/15]\tlr: 7.813e-05, eta: 0:00:18, time: 0.189, data_time: 0.018, memory: 2918, top1_acc: 0.9000, top5_acc: 1.0000, loss_cls: 0.3866, loss: 0.3866, grad_norm: 8.2042\n",
      "2021-03-05 23:05:16,524 - mmaction - INFO - Epoch [28][5/15]\tlr: 7.813e-05, eta: 0:00:17, time: 0.841, data_time: 0.631, memory: 2918, top1_acc: 0.7000, top5_acc: 1.0000, loss_cls: 0.5439, loss: 0.5439, grad_norm: 11.1958\n",
      "2021-03-05 23:05:17,570 - mmaction - INFO - Epoch [28][10/15]\tlr: 7.813e-05, eta: 0:00:14, time: 0.211, data_time: 0.006, memory: 2918, top1_acc: 0.8000, top5_acc: 1.0000, loss_cls: 0.4841, loss: 0.4841, grad_norm: 9.9203\n",
      "2021-03-05 23:05:18,436 - mmaction - INFO - Epoch [28][15/15]\tlr: 7.813e-05, eta: 0:00:12, time: 0.174, data_time: 0.001, memory: 2918, top1_acc: 0.9000, top5_acc: 1.0000, loss_cls: 0.3131, loss: 0.3131, grad_norm: 6.3323\n",
      "2021-03-05 23:05:22,673 - mmaction - INFO - Epoch [29][5/15]\tlr: 7.813e-05, eta: 0:00:10, time: 0.831, data_time: 0.606, memory: 2918, top1_acc: 1.0000, top5_acc: 1.0000, loss_cls: 0.3148, loss: 0.3148, grad_norm: 6.6683\n",
      "2021-03-05 23:05:23,832 - mmaction - INFO - Epoch [29][10/15]\tlr: 7.813e-05, eta: 0:00:08, time: 0.232, data_time: 0.023, memory: 2918, top1_acc: 0.7000, top5_acc: 1.0000, loss_cls: 0.4966, loss: 0.4966, grad_norm: 10.3050\n",
      "2021-03-05 23:05:24,769 - mmaction - INFO - Epoch [29][15/15]\tlr: 7.813e-05, eta: 0:00:06, time: 0.187, data_time: 0.022, memory: 2918, top1_acc: 0.7000, top5_acc: 1.0000, loss_cls: 0.5302, loss: 0.5302, grad_norm: 10.5862\n",
      "2021-03-05 23:05:29,200 - mmaction - INFO - Epoch [30][5/15]\tlr: 7.813e-05, eta: 0:00:04, time: 0.871, data_time: 0.656, memory: 2918, top1_acc: 0.5000, top5_acc: 1.0000, loss_cls: 0.6776, loss: 0.6776, grad_norm: 13.5707\n",
      "2021-03-05 23:05:30,399 - mmaction - INFO - Epoch [30][10/15]\tlr: 7.813e-05, eta: 0:00:02, time: 0.240, data_time: 0.031, memory: 2918, top1_acc: 0.7000, top5_acc: 1.0000, loss_cls: 0.6273, loss: 0.6273, grad_norm: 12.5658\n",
      "2021-03-05 23:05:31,259 - mmaction - INFO - Epoch [30][15/15]\tlr: 7.813e-05, eta: 0:00:00, time: 0.172, data_time: 0.001, memory: 2918, top1_acc: 0.6000, top5_acc: 1.0000, loss_cls: 0.5679, loss: 0.5679, grad_norm: 11.7008\n",
      "2021-03-05 23:05:31,336 - mmaction - INFO - Saving checkpoint at 30 epochs\n"
     ],
     "name": "stderr"
    },
    {
     "output_type": "stream",
     "text": [
      "[>>>>>>>>>>>>>>>>>>>>>>>>>>>>>>>>>] 10/10, 5.6 task/s, elapsed: 2s, ETA:     0s"
     ],
     "name": "stdout"
    },
    {
     "output_type": "stream",
     "text": [
      "2021-03-05 23:05:33,539 - mmaction - INFO - Evaluating top_k_accuracy ...\n",
      "2021-03-05 23:05:33,540 - mmaction - INFO - \n",
      "top1_acc\t1.0000\n",
      "top5_acc\t1.0000\n",
      "2021-03-05 23:05:33,541 - mmaction - INFO - Evaluating mean_class_accuracy ...\n",
      "2021-03-05 23:05:33,548 - mmaction - INFO - \n",
      "mean_acc\t1.0000\n",
      "2021-03-05 23:05:33,550 - mmaction - INFO - Epoch(val) [30][15]\ttop1_acc: 1.0000, top5_acc: 1.0000, mean_class_accuracy: 1.0000\n"
     ],
     "name": "stderr"
    }
   ]
  },
  {
   "cell_type": "markdown",
   "metadata": {
    "id": "ryVoSfZVmogw"
   },
   "source": [
    "# Evaluation\n"
   ]
  },
  {
   "cell_type": "code",
   "metadata": {
    "id": "eyY3hCMwyTct",
    "colab": {
     "base_uri": "https://localhost:8080/"
    },
    "outputId": "b6d2c53b-7117-405d-c99c-5d58b63abeb6"
   },
   "source": [
    "from mmaction.apis import single_gpu_test\n",
    "from mmaction.datasets import build_dataloader\n",
    "from mmcv.parallel import MMDataParallel\n",
    "\n",
    "# Build a test dataloader\n",
    "dataset = build_dataset(cfg.data.test, dict(test_mode=True))\n",
    "data_loader = build_dataloader(\n",
    "        dataset,\n",
    "        videos_per_gpu=1,\n",
    "        workers_per_gpu=cfg.data.workers_per_gpu,\n",
    "        dist=False,\n",
    "        shuffle=False)\n",
    "model = MMDataParallel(model, device_ids=[0])\n",
    "outputs = single_gpu_test(model, data_loader)\n",
    "\n",
    "eval_config = cfg.evaluation\n",
    "eval_config.pop('interval',None)\n",
    "eval_res = dataset.evaluate(outputs, **eval_config)\n",
    "for name, val in eval_res.items():\n",
    "    print(f'{name}: {val:.04f}')"
   ],
   "execution_count": null,
   "outputs": [
    {
     "output_type": "stream",
     "text": [
      "[>>>>>>>>>>>>>>>>>>>>>>>>>>>>>>>>>] 10/10, 2.2 task/s, elapsed: 4s, ETA:     0s\n",
      "Evaluating top_k_accuracy ...\n",
      "\n",
      "top1_acc\t1.0000\n",
      "top5_acc\t1.0000\n",
      "\n",
      "Evaluating mean_class_accuracy ...\n",
      "\n",
      "mean_acc\t1.0000\n",
      "top1_acc: 1.0000\n",
      "top5_acc: 1.0000\n",
      "mean_class_accuracy: 1.0000\n"
     ],
     "name": "stdout"
    }
   ]
  }
 ]
}